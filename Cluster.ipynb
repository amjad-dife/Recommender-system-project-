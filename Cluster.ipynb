{
  "nbformat": 4,
  "nbformat_minor": 0,
  "metadata": {
    "colab": {
      "name": "Group_8_Cluster.ipynb",
      "provenance": [],
      "collapsed_sections": [
        "m-15Vb0OUrdo",
        "rKqxr5EuU6xi",
        "vPuvjnC3W3f9",
        "wqcYtAOtmQUu"
      ]
    },
    "kernelspec": {
      "name": "python3",
      "display_name": "Python 3"
    },
    "language_info": {
      "name": "python"
    },
    "widgets": {
      "application/vnd.jupyter.widget-state+json": {
        "85ec97cdea1447278082ee18644a3869": {
          "model_module": "@jupyter-widgets/controls",
          "model_name": "HBoxModel",
          "model_module_version": "1.5.0",
          "state": {
            "_dom_classes": [],
            "_model_module": "@jupyter-widgets/controls",
            "_model_module_version": "1.5.0",
            "_model_name": "HBoxModel",
            "_view_count": null,
            "_view_module": "@jupyter-widgets/controls",
            "_view_module_version": "1.5.0",
            "_view_name": "HBoxView",
            "box_style": "",
            "children": [
              "IPY_MODEL_4ebb4b1ccd5642b6ba849b3e95e94e73",
              "IPY_MODEL_ffc9db8048bd48749c9610a8eecc2068",
              "IPY_MODEL_00e597cd469444f1af6f7a6240b4bfb9"
            ],
            "layout": "IPY_MODEL_3bcd68fc6d7e4be7b88365d632fbadf3"
          }
        },
        "4ebb4b1ccd5642b6ba849b3e95e94e73": {
          "model_module": "@jupyter-widgets/controls",
          "model_name": "HTMLModel",
          "model_module_version": "1.5.0",
          "state": {
            "_dom_classes": [],
            "_model_module": "@jupyter-widgets/controls",
            "_model_module_version": "1.5.0",
            "_model_name": "HTMLModel",
            "_view_count": null,
            "_view_module": "@jupyter-widgets/controls",
            "_view_module_version": "1.5.0",
            "_view_name": "HTMLView",
            "description": "",
            "description_tooltip": null,
            "layout": "IPY_MODEL_2aa7a22b7a9a453a8a2005d98307e830",
            "placeholder": "​",
            "style": "IPY_MODEL_280316b825b54d61ba1818258257b98d",
            "value": "100%"
          }
        },
        "ffc9db8048bd48749c9610a8eecc2068": {
          "model_module": "@jupyter-widgets/controls",
          "model_name": "FloatProgressModel",
          "model_module_version": "1.5.0",
          "state": {
            "_dom_classes": [],
            "_model_module": "@jupyter-widgets/controls",
            "_model_module_version": "1.5.0",
            "_model_name": "FloatProgressModel",
            "_view_count": null,
            "_view_module": "@jupyter-widgets/controls",
            "_view_module_version": "1.5.0",
            "_view_name": "ProgressView",
            "bar_style": "success",
            "description": "",
            "description_tooltip": null,
            "layout": "IPY_MODEL_899f674482bf4d0e8d43ceee1ee6e7de",
            "max": 19,
            "min": 0,
            "orientation": "horizontal",
            "style": "IPY_MODEL_8c47bc77487546a3aa4670a8e1897cfd",
            "value": 19
          }
        },
        "00e597cd469444f1af6f7a6240b4bfb9": {
          "model_module": "@jupyter-widgets/controls",
          "model_name": "HTMLModel",
          "model_module_version": "1.5.0",
          "state": {
            "_dom_classes": [],
            "_model_module": "@jupyter-widgets/controls",
            "_model_module_version": "1.5.0",
            "_model_name": "HTMLModel",
            "_view_count": null,
            "_view_module": "@jupyter-widgets/controls",
            "_view_module_version": "1.5.0",
            "_view_name": "HTMLView",
            "description": "",
            "description_tooltip": null,
            "layout": "IPY_MODEL_12621a23259f4014a743130e4c515464",
            "placeholder": "​",
            "style": "IPY_MODEL_90804388f79f45b2aa18eedfc58bf286",
            "value": " 19/19 [00:13&lt;00:00,  1.25it/s]"
          }
        },
        "3bcd68fc6d7e4be7b88365d632fbadf3": {
          "model_module": "@jupyter-widgets/base",
          "model_name": "LayoutModel",
          "model_module_version": "1.2.0",
          "state": {
            "_model_module": "@jupyter-widgets/base",
            "_model_module_version": "1.2.0",
            "_model_name": "LayoutModel",
            "_view_count": null,
            "_view_module": "@jupyter-widgets/base",
            "_view_module_version": "1.2.0",
            "_view_name": "LayoutView",
            "align_content": null,
            "align_items": null,
            "align_self": null,
            "border": null,
            "bottom": null,
            "display": null,
            "flex": null,
            "flex_flow": null,
            "grid_area": null,
            "grid_auto_columns": null,
            "grid_auto_flow": null,
            "grid_auto_rows": null,
            "grid_column": null,
            "grid_gap": null,
            "grid_row": null,
            "grid_template_areas": null,
            "grid_template_columns": null,
            "grid_template_rows": null,
            "height": null,
            "justify_content": null,
            "justify_items": null,
            "left": null,
            "margin": null,
            "max_height": null,
            "max_width": null,
            "min_height": null,
            "min_width": null,
            "object_fit": null,
            "object_position": null,
            "order": null,
            "overflow": null,
            "overflow_x": null,
            "overflow_y": null,
            "padding": null,
            "right": null,
            "top": null,
            "visibility": null,
            "width": null
          }
        },
        "2aa7a22b7a9a453a8a2005d98307e830": {
          "model_module": "@jupyter-widgets/base",
          "model_name": "LayoutModel",
          "model_module_version": "1.2.0",
          "state": {
            "_model_module": "@jupyter-widgets/base",
            "_model_module_version": "1.2.0",
            "_model_name": "LayoutModel",
            "_view_count": null,
            "_view_module": "@jupyter-widgets/base",
            "_view_module_version": "1.2.0",
            "_view_name": "LayoutView",
            "align_content": null,
            "align_items": null,
            "align_self": null,
            "border": null,
            "bottom": null,
            "display": null,
            "flex": null,
            "flex_flow": null,
            "grid_area": null,
            "grid_auto_columns": null,
            "grid_auto_flow": null,
            "grid_auto_rows": null,
            "grid_column": null,
            "grid_gap": null,
            "grid_row": null,
            "grid_template_areas": null,
            "grid_template_columns": null,
            "grid_template_rows": null,
            "height": null,
            "justify_content": null,
            "justify_items": null,
            "left": null,
            "margin": null,
            "max_height": null,
            "max_width": null,
            "min_height": null,
            "min_width": null,
            "object_fit": null,
            "object_position": null,
            "order": null,
            "overflow": null,
            "overflow_x": null,
            "overflow_y": null,
            "padding": null,
            "right": null,
            "top": null,
            "visibility": null,
            "width": null
          }
        },
        "280316b825b54d61ba1818258257b98d": {
          "model_module": "@jupyter-widgets/controls",
          "model_name": "DescriptionStyleModel",
          "model_module_version": "1.5.0",
          "state": {
            "_model_module": "@jupyter-widgets/controls",
            "_model_module_version": "1.5.0",
            "_model_name": "DescriptionStyleModel",
            "_view_count": null,
            "_view_module": "@jupyter-widgets/base",
            "_view_module_version": "1.2.0",
            "_view_name": "StyleView",
            "description_width": ""
          }
        },
        "899f674482bf4d0e8d43ceee1ee6e7de": {
          "model_module": "@jupyter-widgets/base",
          "model_name": "LayoutModel",
          "model_module_version": "1.2.0",
          "state": {
            "_model_module": "@jupyter-widgets/base",
            "_model_module_version": "1.2.0",
            "_model_name": "LayoutModel",
            "_view_count": null,
            "_view_module": "@jupyter-widgets/base",
            "_view_module_version": "1.2.0",
            "_view_name": "LayoutView",
            "align_content": null,
            "align_items": null,
            "align_self": null,
            "border": null,
            "bottom": null,
            "display": null,
            "flex": null,
            "flex_flow": null,
            "grid_area": null,
            "grid_auto_columns": null,
            "grid_auto_flow": null,
            "grid_auto_rows": null,
            "grid_column": null,
            "grid_gap": null,
            "grid_row": null,
            "grid_template_areas": null,
            "grid_template_columns": null,
            "grid_template_rows": null,
            "height": null,
            "justify_content": null,
            "justify_items": null,
            "left": null,
            "margin": null,
            "max_height": null,
            "max_width": null,
            "min_height": null,
            "min_width": null,
            "object_fit": null,
            "object_position": null,
            "order": null,
            "overflow": null,
            "overflow_x": null,
            "overflow_y": null,
            "padding": null,
            "right": null,
            "top": null,
            "visibility": null,
            "width": null
          }
        },
        "8c47bc77487546a3aa4670a8e1897cfd": {
          "model_module": "@jupyter-widgets/controls",
          "model_name": "ProgressStyleModel",
          "model_module_version": "1.5.0",
          "state": {
            "_model_module": "@jupyter-widgets/controls",
            "_model_module_version": "1.5.0",
            "_model_name": "ProgressStyleModel",
            "_view_count": null,
            "_view_module": "@jupyter-widgets/base",
            "_view_module_version": "1.2.0",
            "_view_name": "StyleView",
            "bar_color": null,
            "description_width": ""
          }
        },
        "12621a23259f4014a743130e4c515464": {
          "model_module": "@jupyter-widgets/base",
          "model_name": "LayoutModel",
          "model_module_version": "1.2.0",
          "state": {
            "_model_module": "@jupyter-widgets/base",
            "_model_module_version": "1.2.0",
            "_model_name": "LayoutModel",
            "_view_count": null,
            "_view_module": "@jupyter-widgets/base",
            "_view_module_version": "1.2.0",
            "_view_name": "LayoutView",
            "align_content": null,
            "align_items": null,
            "align_self": null,
            "border": null,
            "bottom": null,
            "display": null,
            "flex": null,
            "flex_flow": null,
            "grid_area": null,
            "grid_auto_columns": null,
            "grid_auto_flow": null,
            "grid_auto_rows": null,
            "grid_column": null,
            "grid_gap": null,
            "grid_row": null,
            "grid_template_areas": null,
            "grid_template_columns": null,
            "grid_template_rows": null,
            "height": null,
            "justify_content": null,
            "justify_items": null,
            "left": null,
            "margin": null,
            "max_height": null,
            "max_width": null,
            "min_height": null,
            "min_width": null,
            "object_fit": null,
            "object_position": null,
            "order": null,
            "overflow": null,
            "overflow_x": null,
            "overflow_y": null,
            "padding": null,
            "right": null,
            "top": null,
            "visibility": null,
            "width": null
          }
        },
        "90804388f79f45b2aa18eedfc58bf286": {
          "model_module": "@jupyter-widgets/controls",
          "model_name": "DescriptionStyleModel",
          "model_module_version": "1.5.0",
          "state": {
            "_model_module": "@jupyter-widgets/controls",
            "_model_module_version": "1.5.0",
            "_model_name": "DescriptionStyleModel",
            "_view_count": null,
            "_view_module": "@jupyter-widgets/base",
            "_view_module_version": "1.2.0",
            "_view_name": "StyleView",
            "description_width": ""
          }
        }
      }
    }
  },
  "cells": [
    {
      "cell_type": "markdown",
      "source": [
        "# Cluster "
      ],
      "metadata": {
        "id": "r6tS1mFXe7L7"
      }
    },
    {
      "cell_type": "markdown",
      "source": [
        "# Import Libraries"
      ],
      "metadata": {
        "id": "CkkzwDiKUNaJ"
      }
    },
    {
      "cell_type": "code",
      "source": [
        "!pip install pyLDAvis\n",
        "\n"
      ],
      "metadata": {
        "colab": {
          "base_uri": "https://localhost:8080/"
        },
        "id": "aiEXsbWgIBVz",
        "outputId": "d8b69e57-724a-4b33-e8d7-ef27fb4717dc"
      },
      "execution_count": 3,
      "outputs": [
        {
          "output_type": "stream",
          "name": "stdout",
          "text": [
            "Looking in indexes: https://pypi.org/simple, https://us-python.pkg.dev/colab-wheels/public/simple/\n",
            "Collecting pyLDAvis\n",
            "  Downloading pyLDAvis-3.3.1.tar.gz (1.7 MB)\n",
            "\u001b[K     |████████████████████████████████| 1.7 MB 5.3 MB/s \n",
            "\u001b[?25h  Installing build dependencies ... \u001b[?25l\u001b[?25hdone\n",
            "  Getting requirements to build wheel ... \u001b[?25l\u001b[?25hdone\n",
            "  Installing backend dependencies ... \u001b[?25l\u001b[?25hdone\n",
            "    Preparing wheel metadata ... \u001b[?25l\u001b[?25hdone\n",
            "Requirement already satisfied: setuptools in /usr/local/lib/python3.7/dist-packages (from pyLDAvis) (57.4.0)\n",
            "Requirement already satisfied: gensim in /usr/local/lib/python3.7/dist-packages (from pyLDAvis) (3.6.0)\n",
            "Requirement already satisfied: numpy>=1.20.0 in /usr/local/lib/python3.7/dist-packages (from pyLDAvis) (1.21.6)\n",
            "Requirement already satisfied: numexpr in /usr/local/lib/python3.7/dist-packages (from pyLDAvis) (2.8.3)\n",
            "Requirement already satisfied: joblib in /usr/local/lib/python3.7/dist-packages (from pyLDAvis) (1.1.0)\n",
            "Requirement already satisfied: jinja2 in /usr/local/lib/python3.7/dist-packages (from pyLDAvis) (2.11.3)\n",
            "Collecting funcy\n",
            "  Downloading funcy-1.17-py2.py3-none-any.whl (33 kB)\n",
            "Requirement already satisfied: scipy in /usr/local/lib/python3.7/dist-packages (from pyLDAvis) (1.7.3)\n",
            "Requirement already satisfied: pandas>=1.2.0 in /usr/local/lib/python3.7/dist-packages (from pyLDAvis) (1.3.5)\n",
            "Requirement already satisfied: sklearn in /usr/local/lib/python3.7/dist-packages (from pyLDAvis) (0.0)\n",
            "Requirement already satisfied: future in /usr/local/lib/python3.7/dist-packages (from pyLDAvis) (0.16.0)\n",
            "Requirement already satisfied: scikit-learn in /usr/local/lib/python3.7/dist-packages (from pyLDAvis) (1.0.2)\n",
            "Requirement already satisfied: pytz>=2017.3 in /usr/local/lib/python3.7/dist-packages (from pandas>=1.2.0->pyLDAvis) (2022.1)\n",
            "Requirement already satisfied: python-dateutil>=2.7.3 in /usr/local/lib/python3.7/dist-packages (from pandas>=1.2.0->pyLDAvis) (2.8.2)\n",
            "Requirement already satisfied: six>=1.5 in /usr/local/lib/python3.7/dist-packages (from python-dateutil>=2.7.3->pandas>=1.2.0->pyLDAvis) (1.15.0)\n",
            "Requirement already satisfied: smart-open>=1.2.1 in /usr/local/lib/python3.7/dist-packages (from gensim->pyLDAvis) (5.2.1)\n",
            "Requirement already satisfied: MarkupSafe>=0.23 in /usr/local/lib/python3.7/dist-packages (from jinja2->pyLDAvis) (2.0.1)\n",
            "Requirement already satisfied: packaging in /usr/local/lib/python3.7/dist-packages (from numexpr->pyLDAvis) (21.3)\n",
            "Requirement already satisfied: pyparsing!=3.0.5,>=2.0.2 in /usr/local/lib/python3.7/dist-packages (from packaging->numexpr->pyLDAvis) (3.0.9)\n",
            "Requirement already satisfied: threadpoolctl>=2.0.0 in /usr/local/lib/python3.7/dist-packages (from scikit-learn->pyLDAvis) (3.1.0)\n",
            "Building wheels for collected packages: pyLDAvis\n",
            "  Building wheel for pyLDAvis (PEP 517) ... \u001b[?25l\u001b[?25hdone\n",
            "  Created wheel for pyLDAvis: filename=pyLDAvis-3.3.1-py2.py3-none-any.whl size=136898 sha256=98fbc6ccd6540676c7c7c7eaaf5d56ecdbf261e2ccf7e99306cb1bac57558fb5\n",
            "  Stored in directory: /root/.cache/pip/wheels/c9/21/f6/17bcf2667e8a68532ba2fbf6d5c72fdf4c7f7d9abfa4852d2f\n",
            "Successfully built pyLDAvis\n",
            "Installing collected packages: funcy, pyLDAvis\n",
            "Successfully installed funcy-1.17 pyLDAvis-3.3.1\n"
          ]
        }
      ]
    },
    {
      "cell_type": "code",
      "source": [
        "import gzip\n",
        "import re\n",
        "from tqdm import tqdm\n",
        "import pandas as pd\n",
        "import nltk\n",
        "import numpy as np\n",
        "import matplotlib.pyplot as plt \n",
        "import seaborn as sns\n",
        "from sklearn.feature_extraction.text import TfidfVectorizer\n",
        "from sklearn.mixture import GaussianMixture\n",
        "from sklearn.cluster import KMeans\n",
        "from sklearn.metrics import cohen_kappa_score\n",
        "from sklearn.metrics import silhouette_score\n",
        "from sklearn.metrics import ConfusionMatrixDisplay\n",
        "from collections import Counter  # to get the most common words in a string \n",
        "from sklearn.svm import SVC\n",
        "from sklearn.naive_bayes import MultinomialNB\n",
        "from sklearn.model_selection import train_test_split\n",
        "from sklearn.linear_model import LogisticRegression\n",
        "from sklearn.ensemble import RandomForestClassifier\n",
        "from wordcloud import WordCloud\n",
        "from imblearn.under_sampling import RandomUnderSampler\n",
        "from sklearn.utils import resample\n",
        "\n",
        "import requests\n",
        "import json   \n",
        "from PIL import Image\n",
        "from skimage import io\n",
        "\n",
        "vocab = Counter()\n",
        "sns.reset_defaults()\n",
        "\n",
        " \n",
        "from sklearn.decomposition import LatentDirichletAllocation\n",
        "import requests\n",
        "import json   \n",
        "from PIL import Image\n",
        "from skimage import io\n",
        "import pyLDAvis\n",
        "import pyLDAvis.gensim_models as gensimvis\n",
        "from sklearn.feature_extraction.text import CountVectorizer\n",
        "vocab = Counter()\n",
        "sns.reset_defaults()\n",
        "nltk.download('stopwords')"
      ],
      "metadata": {
        "id": "w50S_rZHnC7N",
        "colab": {
          "base_uri": "https://localhost:8080/"
        },
        "outputId": "57602e73-7ff1-438d-a77b-3fd546875adc"
      },
      "execution_count": 4,
      "outputs": [
        {
          "output_type": "stream",
          "name": "stderr",
          "text": [
            "/usr/local/lib/python3.7/dist-packages/past/types/oldstr.py:5: DeprecationWarning: Using or importing the ABCs from 'collections' instead of from 'collections.abc' is deprecated since Python 3.3,and in 3.9 it will stop working\n",
            "  from collections import Iterable\n",
            "/usr/local/lib/python3.7/dist-packages/past/builtins/misc.py:4: DeprecationWarning: Using or importing the ABCs from 'collections' instead of from 'collections.abc' is deprecated since Python 3.3,and in 3.9 it will stop working\n",
            "  from collections import Mapping\n",
            "[nltk_data] Downloading package stopwords to /root/nltk_data...\n",
            "[nltk_data]   Unzipping corpora/stopwords.zip.\n"
          ]
        },
        {
          "output_type": "execute_result",
          "data": {
            "text/plain": [
              "True"
            ]
          },
          "metadata": {},
          "execution_count": 4
        }
      ]
    },
    {
      "cell_type": "code",
      "source": [
        "from google.colab import drive\n",
        "drive.mount('/content/drive')"
      ],
      "metadata": {
        "colab": {
          "base_uri": "https://localhost:8080/"
        },
        "id": "LleyLJ9h2A-S",
        "outputId": "f2307b74-09f8-4b4e-f771-95d8a38bd307"
      },
      "execution_count": 5,
      "outputs": [
        {
          "output_type": "stream",
          "name": "stdout",
          "text": [
            "Drive already mounted at /content/drive; to attempt to forcibly remount, call drive.mount(\"/content/drive\", force_remount=True).\n"
          ]
        }
      ]
    },
    {
      "cell_type": "code",
      "source": [
        "%cd /content/drive/MyDrive/"
      ],
      "metadata": {
        "colab": {
          "base_uri": "https://localhost:8080/"
        },
        "id": "PzgxSI8Cm6wl",
        "outputId": "72ce8701-f824-4b50-d093-e3b580a70ad3"
      },
      "execution_count": 6,
      "outputs": [
        {
          "output_type": "stream",
          "name": "stdout",
          "text": [
            "/content/drive/MyDrive\n"
          ]
        }
      ]
    },
    {
      "cell_type": "markdown",
      "source": [
        "# Load the data"
      ],
      "metadata": {
        "id": "s4ISbWLQUSYx"
      }
    },
    {
      "cell_type": "code",
      "execution_count": null,
      "metadata": {
        "id": "Y5yczGfUk6OF"
      },
      "outputs": [],
      "source": [
        "import requests\n",
        "url = 'http://snap.stanford.edu/data/amazon/Books.txt.gz'\n",
        "r = requests.get(url, allow_redirects=True)\n",
        "open('/content/drive/MyDrive/NLP/Books.txt.gz', 'wb').write(r.content)"
      ]
    },
    {
      "cell_type": "code",
      "source": [
        "def parse(filename):\n",
        "  f = gzip.open(filename, 'r')\n",
        "  entry = {}\n",
        "  for l in f:\n",
        "    l = l.decode(\"ascii\")\n",
        "    l = l.strip()\n",
        "    colonPos = l.find(':')\n",
        "    if colonPos == -1:\n",
        "      yield entry\n",
        "      entry = {}\n",
        "      continue\n",
        "    eName = l[:colonPos]\n",
        "    rest = l[colonPos+2:]\n",
        "    entry[eName] = rest\n",
        "  yield entry"
      ],
      "metadata": {
        "id": "LVlYUTh4m0K-"
      },
      "execution_count": null,
      "outputs": []
    },
    {
      "cell_type": "code",
      "source": [
        "uni=[]"
      ],
      "metadata": {
        "id": "KAIyxZln8wb1"
      },
      "execution_count": null,
      "outputs": []
    },
    {
      "cell_type": "code",
      "execution_count": null,
      "metadata": {
        "id": "j8akK4M-3677"
      },
      "outputs": [],
      "source": [
        "dict = []\n",
        "reviews_num = 0\n",
        "for e in tqdm(parse(\"/content/drive/MyDrive/Books.txt.gz\")):\n",
        "  if reviews_num<9000000:\n",
        "    reviews_num += 1\n",
        "    continue\n",
        "  dict.append(e)\n",
        "  reviews_num += 1\n",
        "  if reviews_num==12000000:\n",
        "    break"
      ]
    },
    {
      "cell_type": "code",
      "execution_count": null,
      "metadata": {
        "id": "mMdE834N3678"
      },
      "outputs": [],
      "source": [
        "df=pd.DataFrame(dict)"
      ]
    },
    {
      "cell_type": "code",
      "source": [
        "uni.append(df['product/title'].unique())"
      ],
      "metadata": {
        "id": "QsnxKw3h8f1H"
      },
      "execution_count": null,
      "outputs": []
    },
    {
      "cell_type": "code",
      "source": [
        "uni"
      ],
      "metadata": {
        "id": "S8596Fro87Jr"
      },
      "execution_count": null,
      "outputs": []
    },
    {
      "cell_type": "code",
      "execution_count": null,
      "metadata": {
        "id": "MI7ualg-gWA1"
      },
      "outputs": [],
      "source": [
        "dict=None\n",
        "df=None"
      ]
    },
    {
      "cell_type": "code",
      "source": [
        "ls=np.concatenate(uni, axis=0 )"
      ],
      "metadata": {
        "id": "JOKip8KmI_3q"
      },
      "execution_count": null,
      "outputs": []
    },
    {
      "cell_type": "code",
      "source": [
        "ls"
      ],
      "metadata": {
        "id": "ZFPE8F6qJVEM"
      },
      "execution_count": null,
      "outputs": []
    },
    {
      "cell_type": "code",
      "source": [
        "df=pd.DataFrame({'Title':uni[0]})\n",
        "df.to_csv('/content/drive/MyDrive/names.csv')"
      ],
      "metadata": {
        "id": "9QdIg627IhEp"
      },
      "execution_count": null,
      "outputs": []
    },
    {
      "cell_type": "markdown",
      "source": [
        "### add more details using Google Book Api "
      ],
      "metadata": {
        "id": "EzFvUI7mgE2D"
      }
    },
    {
      "cell_type": "code",
      "source": [
        "def get_book_details(bookname):\n",
        "  if bookname is not str:\n",
        "   bookname=str(bookname)\n",
        "  response = requests.get(\"https://www.googleapis.com/books/v1/volumes?q=\"+bookname).text\n",
        "  response_info = json.loads(response)\n",
        "  try:\n",
        "    df = pd.json_normalize(response_info['items'])\n",
        "  except:\n",
        "    df=None \n",
        "  return df"
      ],
      "metadata": {
        "id": "u-8zyWWL7JBu"
      },
      "execution_count": null,
      "outputs": []
    },
    {
      "cell_type": "code",
      "source": [
        "def load_books_data(books):\n",
        "    df=get_book_details(books['Title'])    \n",
        "    try:\n",
        "        books['description']=df['volumeInfo.description']\n",
        "    except:\n",
        "        books['description']=None\n",
        "    try:   \n",
        "      books['authors']=df['volumeInfo.authors']\n",
        "    except:\n",
        "      books['authors']=None\n",
        "    try:\n",
        "      books['image']=df['volumeInfo.imageLinks.thumbnail']\n",
        "    except:\n",
        "      books['image']=None\n",
        "    try:\n",
        "      books['previewLink']=df['volumeInfo.previewLink']\n",
        "    except:\n",
        "      books['previewLink']=None\n",
        "    try:\n",
        "      books['publisher']=df['volumeInfo.publisher']\n",
        "    except:\n",
        "      books['publisher']=None\n",
        "    try:\n",
        "      books['publishedDate']=df['volumeInfo.publishedDate']\n",
        "    except:\n",
        "      books['publishedDate']=None\n",
        "    try:\n",
        "      books['infoLink']=df['volumeInfo.infoLink']\n",
        "    except:\n",
        "      books['infoLink']=None\n",
        "    try:\n",
        "      books['categories']=df['volumeInfo.categories']\n",
        "    except:\n",
        "      books['categories']=None\n",
        "    try:\n",
        "      books['ratingsCount']=df['volumeInfo.ratingsCount']\n",
        "    except:\n",
        "      books['ratingsCount']=None\n",
        "\n",
        "    return books\n",
        "\n"
      ],
      "metadata": {
        "id": "IL0-QJSx7JSH"
      },
      "execution_count": null,
      "outputs": []
    },
    {
      "cell_type": "code",
      "source": [
        "from tqdm import tqdm\n",
        "from tqdm.gui import tqdm as tqdm_gui\n",
        "tqdm.pandas(ncols=50)\n",
        "from tqdm.auto import tqdm\n",
        "tqdm.pandas()\n",
        "#/content/drive/MyDrive/names.csv\n",
        "df=pd.read_csv('/content/drive/MyDrive/names.csv')\n",
        "df = df.iloc[:10000,:].apply(load_books_data, axis=1)"
      ],
      "metadata": {
        "id": "EbZTMREU4dte"
      },
      "execution_count": null,
      "outputs": []
    },
    {
      "cell_type": "code",
      "source": [
        "df.shape"
      ],
      "metadata": {
        "id": "xruJCai7mkkQ"
      },
      "execution_count": null,
      "outputs": []
    },
    {
      "cell_type": "code",
      "source": [
        "df.to_csv('/content/drive/MyDrive/Data_set/recommender_system/books.csv')"
      ],
      "metadata": {
        "id": "GCNcDB0O4Swc"
      },
      "execution_count": null,
      "outputs": []
    },
    {
      "cell_type": "markdown",
      "source": [
        "### load user data"
      ],
      "metadata": {
        "id": "mbYZNrLR4F60"
      }
    },
    {
      "cell_type": "code",
      "source": [
        "#/content/drive/MyDrive/Data_set/recommender_system/books.csv\n",
        "df=pd.read_csv('/content/drive/MyDrive/Data_set/recommender_system/books.csv')"
      ],
      "metadata": {
        "id": "KbXMhq9Onhq4"
      },
      "execution_count": 7,
      "outputs": []
    },
    {
      "cell_type": "code",
      "source": [
        "df.head()"
      ],
      "metadata": {
        "colab": {
          "base_uri": "https://localhost:8080/",
          "height": 635
        },
        "id": "dfikCFm817kT",
        "outputId": "7d953048-cc60-4602-a4c7-c4fa81a80e66"
      },
      "execution_count": 8,
      "outputs": [
        {
          "output_type": "execute_result",
          "data": {
            "text/plain": [
              "   Unnamed: 0  Unnamed: 0.1  \\\n",
              "0           0             0   \n",
              "1           1             1   \n",
              "2           2             2   \n",
              "3           3             3   \n",
              "4           4             4   \n",
              "\n",
              "                                               Title  \\\n",
              "0                     Its Only Art If Its Well Hung!   \n",
              "1                           Dr. Seuss: American Icon   \n",
              "2              Wonderful Worship in Smaller Churches   \n",
              "3                      Whispers of the Wicked Saints   \n",
              "4  Nation Dance: Religion, Identity and Cultural ...   \n",
              "\n",
              "                                         description  \\\n",
              "0  0                                             ...   \n",
              "1  0    Philip Nel takes a fascinating look into ...   \n",
              "2  0    This resource includes twelve principles ...   \n",
              "3  0    Julia Thomas finds her life spinning out ...   \n",
              "4  0    Addresses interplay of diverse spiritual,...   \n",
              "\n",
              "                                             authors  \\\n",
              "0  0                                       [Julie...   \n",
              "1  0                    [Philip Nel]\\n1          ...   \n",
              "2  0                         [David R. Ray]\\n1   ...   \n",
              "3  0           [Veronica Haddon]\\n1           [Em...   \n",
              "4  0                                     [Patrick...   \n",
              "\n",
              "                                               image  \\\n",
              "0  0    http://books.google.com/books/content?id=...   \n",
              "1  0    http://books.google.com/books/content?id=...   \n",
              "2  0    http://books.google.com/books/content?id=...   \n",
              "3  0    http://books.google.com/books/content?id=...   \n",
              "4  0    http://books.google.com/books/content?id=...   \n",
              "\n",
              "                                         previewLink  \\\n",
              "0  0    http://books.google.com/books?id=DykPAAAA...   \n",
              "1  0    http://books.google.com/books?id=IjvHQsCn...   \n",
              "2  0    http://books.google.com/books?id=2tsDAAAA...   \n",
              "3  0    http://books.google.com/books?id=aRSIgJlq...   \n",
              "4  0    http://books.google.com/books?id=MZUMnoy5...   \n",
              "\n",
              "                                           publisher  \\\n",
              "0  0                      NaN\\n1                 ...   \n",
              "1  0                    A&C Black\\n1        Bloom...   \n",
              "2  0                          NaN\\n1            T...   \n",
              "3  0                                      iUniver...   \n",
              "4  0        Indiana University Press\\n1       Col...   \n",
              "\n",
              "                                       publishedDate  \\\n",
              "0  0          1996\\n1          2001\\n2    2006-08...   \n",
              "1  0    2005-01-01\\n1    2004-01-01\\n2          2...   \n",
              "2  0          2000\\n1    2009-06-01\\n2    2010-07...   \n",
              "3  0       2005-02\\n1    2019-04-02\\n2    2020-04...   \n",
              "4  0          2001\\n1    2016-04-19\\n2    2013-04...   \n",
              "\n",
              "                                            infoLink  \\\n",
              "0  0    http://books.google.com/books?id=DykPAAAA...   \n",
              "1  0    http://books.google.com/books?id=IjvHQsCn...   \n",
              "2  0    http://books.google.com/books?id=2tsDAAAA...   \n",
              "3  0    http://books.google.com/books?id=aRSIgJlq...   \n",
              "4  0    http://books.google.com/books?id=MZUMnoy5...   \n",
              "\n",
              "                                          categories  \\\n",
              "0  0    [Comics & Graphic Novels]\\n1    [Comics &...   \n",
              "1  0    [Biography & Autobiography]\\n1           ...   \n",
              "2  0    [Religion]\\n1    [Religion]\\n2    [Religi...   \n",
              "3  0                [Fiction]\\n1    [Young Adult ...   \n",
              "4  0     [Social Science]\\n1         [Philosophy]...   \n",
              "\n",
              "                                        ratingsCount  \n",
              "0  0     NaN\\n1     NaN\\n2     NaN\\n3     3.0\\n4 ...  \n",
              "1  0     NaN\\n1     NaN\\n2     NaN\\n3     6.0\\n4 ...  \n",
              "2                                                NaN  \n",
              "3  0     NaN\\n1    14.0\\n2     3.0\\n3     NaN\\n4 ...  \n",
              "4  0    1.0\\n1    NaN\\n2    NaN\\n3    NaN\\n4    N...  "
            ],
            "text/html": [
              "\n",
              "  <div id=\"df-57e12f74-7c75-4de1-90f7-681e8ae89bbb\">\n",
              "    <div class=\"colab-df-container\">\n",
              "      <div>\n",
              "<style scoped>\n",
              "    .dataframe tbody tr th:only-of-type {\n",
              "        vertical-align: middle;\n",
              "    }\n",
              "\n",
              "    .dataframe tbody tr th {\n",
              "        vertical-align: top;\n",
              "    }\n",
              "\n",
              "    .dataframe thead th {\n",
              "        text-align: right;\n",
              "    }\n",
              "</style>\n",
              "<table border=\"1\" class=\"dataframe\">\n",
              "  <thead>\n",
              "    <tr style=\"text-align: right;\">\n",
              "      <th></th>\n",
              "      <th>Unnamed: 0</th>\n",
              "      <th>Unnamed: 0.1</th>\n",
              "      <th>Title</th>\n",
              "      <th>description</th>\n",
              "      <th>authors</th>\n",
              "      <th>image</th>\n",
              "      <th>previewLink</th>\n",
              "      <th>publisher</th>\n",
              "      <th>publishedDate</th>\n",
              "      <th>infoLink</th>\n",
              "      <th>categories</th>\n",
              "      <th>ratingsCount</th>\n",
              "    </tr>\n",
              "  </thead>\n",
              "  <tbody>\n",
              "    <tr>\n",
              "      <th>0</th>\n",
              "      <td>0</td>\n",
              "      <td>0</td>\n",
              "      <td>Its Only Art If Its Well Hung!</td>\n",
              "      <td>0                                             ...</td>\n",
              "      <td>0                                       [Julie...</td>\n",
              "      <td>0    http://books.google.com/books/content?id=...</td>\n",
              "      <td>0    http://books.google.com/books?id=DykPAAAA...</td>\n",
              "      <td>0                      NaN\\n1                 ...</td>\n",
              "      <td>0          1996\\n1          2001\\n2    2006-08...</td>\n",
              "      <td>0    http://books.google.com/books?id=DykPAAAA...</td>\n",
              "      <td>0    [Comics &amp; Graphic Novels]\\n1    [Comics &amp;...</td>\n",
              "      <td>0     NaN\\n1     NaN\\n2     NaN\\n3     3.0\\n4 ...</td>\n",
              "    </tr>\n",
              "    <tr>\n",
              "      <th>1</th>\n",
              "      <td>1</td>\n",
              "      <td>1</td>\n",
              "      <td>Dr. Seuss: American Icon</td>\n",
              "      <td>0    Philip Nel takes a fascinating look into ...</td>\n",
              "      <td>0                    [Philip Nel]\\n1          ...</td>\n",
              "      <td>0    http://books.google.com/books/content?id=...</td>\n",
              "      <td>0    http://books.google.com/books?id=IjvHQsCn...</td>\n",
              "      <td>0                    A&amp;C Black\\n1        Bloom...</td>\n",
              "      <td>0    2005-01-01\\n1    2004-01-01\\n2          2...</td>\n",
              "      <td>0    http://books.google.com/books?id=IjvHQsCn...</td>\n",
              "      <td>0    [Biography &amp; Autobiography]\\n1           ...</td>\n",
              "      <td>0     NaN\\n1     NaN\\n2     NaN\\n3     6.0\\n4 ...</td>\n",
              "    </tr>\n",
              "    <tr>\n",
              "      <th>2</th>\n",
              "      <td>2</td>\n",
              "      <td>2</td>\n",
              "      <td>Wonderful Worship in Smaller Churches</td>\n",
              "      <td>0    This resource includes twelve principles ...</td>\n",
              "      <td>0                         [David R. Ray]\\n1   ...</td>\n",
              "      <td>0    http://books.google.com/books/content?id=...</td>\n",
              "      <td>0    http://books.google.com/books?id=2tsDAAAA...</td>\n",
              "      <td>0                          NaN\\n1            T...</td>\n",
              "      <td>0          2000\\n1    2009-06-01\\n2    2010-07...</td>\n",
              "      <td>0    http://books.google.com/books?id=2tsDAAAA...</td>\n",
              "      <td>0    [Religion]\\n1    [Religion]\\n2    [Religi...</td>\n",
              "      <td>NaN</td>\n",
              "    </tr>\n",
              "    <tr>\n",
              "      <th>3</th>\n",
              "      <td>3</td>\n",
              "      <td>3</td>\n",
              "      <td>Whispers of the Wicked Saints</td>\n",
              "      <td>0    Julia Thomas finds her life spinning out ...</td>\n",
              "      <td>0           [Veronica Haddon]\\n1           [Em...</td>\n",
              "      <td>0    http://books.google.com/books/content?id=...</td>\n",
              "      <td>0    http://books.google.com/books?id=aRSIgJlq...</td>\n",
              "      <td>0                                      iUniver...</td>\n",
              "      <td>0       2005-02\\n1    2019-04-02\\n2    2020-04...</td>\n",
              "      <td>0    http://books.google.com/books?id=aRSIgJlq...</td>\n",
              "      <td>0                [Fiction]\\n1    [Young Adult ...</td>\n",
              "      <td>0     NaN\\n1    14.0\\n2     3.0\\n3     NaN\\n4 ...</td>\n",
              "    </tr>\n",
              "    <tr>\n",
              "      <th>4</th>\n",
              "      <td>4</td>\n",
              "      <td>4</td>\n",
              "      <td>Nation Dance: Religion, Identity and Cultural ...</td>\n",
              "      <td>0    Addresses interplay of diverse spiritual,...</td>\n",
              "      <td>0                                     [Patrick...</td>\n",
              "      <td>0    http://books.google.com/books/content?id=...</td>\n",
              "      <td>0    http://books.google.com/books?id=MZUMnoy5...</td>\n",
              "      <td>0        Indiana University Press\\n1       Col...</td>\n",
              "      <td>0          2001\\n1    2016-04-19\\n2    2013-04...</td>\n",
              "      <td>0    http://books.google.com/books?id=MZUMnoy5...</td>\n",
              "      <td>0     [Social Science]\\n1         [Philosophy]...</td>\n",
              "      <td>0    1.0\\n1    NaN\\n2    NaN\\n3    NaN\\n4    N...</td>\n",
              "    </tr>\n",
              "  </tbody>\n",
              "</table>\n",
              "</div>\n",
              "      <button class=\"colab-df-convert\" onclick=\"convertToInteractive('df-57e12f74-7c75-4de1-90f7-681e8ae89bbb')\"\n",
              "              title=\"Convert this dataframe to an interactive table.\"\n",
              "              style=\"display:none;\">\n",
              "        \n",
              "  <svg xmlns=\"http://www.w3.org/2000/svg\" height=\"24px\"viewBox=\"0 0 24 24\"\n",
              "       width=\"24px\">\n",
              "    <path d=\"M0 0h24v24H0V0z\" fill=\"none\"/>\n",
              "    <path d=\"M18.56 5.44l.94 2.06.94-2.06 2.06-.94-2.06-.94-.94-2.06-.94 2.06-2.06.94zm-11 1L8.5 8.5l.94-2.06 2.06-.94-2.06-.94L8.5 2.5l-.94 2.06-2.06.94zm10 10l.94 2.06.94-2.06 2.06-.94-2.06-.94-.94-2.06-.94 2.06-2.06.94z\"/><path d=\"M17.41 7.96l-1.37-1.37c-.4-.4-.92-.59-1.43-.59-.52 0-1.04.2-1.43.59L10.3 9.45l-7.72 7.72c-.78.78-.78 2.05 0 2.83L4 21.41c.39.39.9.59 1.41.59.51 0 1.02-.2 1.41-.59l7.78-7.78 2.81-2.81c.8-.78.8-2.07 0-2.86zM5.41 20L4 18.59l7.72-7.72 1.47 1.35L5.41 20z\"/>\n",
              "  </svg>\n",
              "      </button>\n",
              "      \n",
              "  <style>\n",
              "    .colab-df-container {\n",
              "      display:flex;\n",
              "      flex-wrap:wrap;\n",
              "      gap: 12px;\n",
              "    }\n",
              "\n",
              "    .colab-df-convert {\n",
              "      background-color: #E8F0FE;\n",
              "      border: none;\n",
              "      border-radius: 50%;\n",
              "      cursor: pointer;\n",
              "      display: none;\n",
              "      fill: #1967D2;\n",
              "      height: 32px;\n",
              "      padding: 0 0 0 0;\n",
              "      width: 32px;\n",
              "    }\n",
              "\n",
              "    .colab-df-convert:hover {\n",
              "      background-color: #E2EBFA;\n",
              "      box-shadow: 0px 1px 2px rgba(60, 64, 67, 0.3), 0px 1px 3px 1px rgba(60, 64, 67, 0.15);\n",
              "      fill: #174EA6;\n",
              "    }\n",
              "\n",
              "    [theme=dark] .colab-df-convert {\n",
              "      background-color: #3B4455;\n",
              "      fill: #D2E3FC;\n",
              "    }\n",
              "\n",
              "    [theme=dark] .colab-df-convert:hover {\n",
              "      background-color: #434B5C;\n",
              "      box-shadow: 0px 1px 3px 1px rgba(0, 0, 0, 0.15);\n",
              "      filter: drop-shadow(0px 1px 2px rgba(0, 0, 0, 0.3));\n",
              "      fill: #FFFFFF;\n",
              "    }\n",
              "  </style>\n",
              "\n",
              "      <script>\n",
              "        const buttonEl =\n",
              "          document.querySelector('#df-57e12f74-7c75-4de1-90f7-681e8ae89bbb button.colab-df-convert');\n",
              "        buttonEl.style.display =\n",
              "          google.colab.kernel.accessAllowed ? 'block' : 'none';\n",
              "\n",
              "        async function convertToInteractive(key) {\n",
              "          const element = document.querySelector('#df-57e12f74-7c75-4de1-90f7-681e8ae89bbb');\n",
              "          const dataTable =\n",
              "            await google.colab.kernel.invokeFunction('convertToInteractive',\n",
              "                                                     [key], {});\n",
              "          if (!dataTable) return;\n",
              "\n",
              "          const docLinkHtml = 'Like what you see? Visit the ' +\n",
              "            '<a target=\"_blank\" href=https://colab.research.google.com/notebooks/data_table.ipynb>data table notebook</a>'\n",
              "            + ' to learn more about interactive tables.';\n",
              "          element.innerHTML = '';\n",
              "          dataTable['output_type'] = 'display_data';\n",
              "          await google.colab.output.renderOutput(dataTable, element);\n",
              "          const docLink = document.createElement('div');\n",
              "          docLink.innerHTML = docLinkHtml;\n",
              "          element.appendChild(docLink);\n",
              "        }\n",
              "      </script>\n",
              "    </div>\n",
              "  </div>\n",
              "  "
            ]
          },
          "metadata": {},
          "execution_count": 8
        }
      ]
    },
    {
      "cell_type": "markdown",
      "source": [
        "# Data Preparation"
      ],
      "metadata": {
        "id": "A2BF9efbUWaG"
      }
    },
    {
      "cell_type": "code",
      "source": [
        "df.info()"
      ],
      "metadata": {
        "colab": {
          "base_uri": "https://localhost:8080/"
        },
        "id": "GkHQo_r34ju0",
        "outputId": "86610051-74ae-4af0-dec2-16f7ed65aba7"
      },
      "execution_count": 9,
      "outputs": [
        {
          "output_type": "stream",
          "name": "stdout",
          "text": [
            "<class 'pandas.core.frame.DataFrame'>\n",
            "RangeIndex: 10000 entries, 0 to 9999\n",
            "Data columns (total 12 columns):\n",
            " #   Column         Non-Null Count  Dtype \n",
            "---  ------         --------------  ----- \n",
            " 0   Unnamed: 0     10000 non-null  int64 \n",
            " 1   Unnamed: 0.1   10000 non-null  int64 \n",
            " 2   Title          9999 non-null   object\n",
            " 3   description    6171 non-null   object\n",
            " 4   authors        6200 non-null   object\n",
            " 5   image          6200 non-null   object\n",
            " 6   previewLink    6204 non-null   object\n",
            " 7   publisher      6154 non-null   object\n",
            " 8   publishedDate  6204 non-null   object\n",
            " 9   infoLink       6204 non-null   object\n",
            " 10  categories     6199 non-null   object\n",
            " 11  ratingsCount   5022 non-null   object\n",
            "dtypes: int64(2), object(10)\n",
            "memory usage: 937.6+ KB\n"
          ]
        }
      ]
    },
    {
      "cell_type": "markdown",
      "source": [
        "## Remove extra columns"
      ],
      "metadata": {
        "id": "m-15Vb0OUrdo"
      }
    },
    {
      "cell_type": "code",
      "source": [
        "df = df.drop(['Unnamed: 0', 'Unnamed: 0.1'], axis=1)"
      ],
      "metadata": {
        "id": "tqsWCOY3AZuA"
      },
      "execution_count": 10,
      "outputs": []
    },
    {
      "cell_type": "code",
      "source": [
        "df.head()"
      ],
      "metadata": {
        "colab": {
          "base_uri": "https://localhost:8080/",
          "height": 617
        },
        "id": "xKzZl-pM43Lg",
        "outputId": "a24f2ec7-3518-4416-c101-4b91bb28acf0"
      },
      "execution_count": 11,
      "outputs": [
        {
          "output_type": "execute_result",
          "data": {
            "text/plain": [
              "                                               Title  \\\n",
              "0                     Its Only Art If Its Well Hung!   \n",
              "1                           Dr. Seuss: American Icon   \n",
              "2              Wonderful Worship in Smaller Churches   \n",
              "3                      Whispers of the Wicked Saints   \n",
              "4  Nation Dance: Religion, Identity and Cultural ...   \n",
              "\n",
              "                                         description  \\\n",
              "0  0                                             ...   \n",
              "1  0    Philip Nel takes a fascinating look into ...   \n",
              "2  0    This resource includes twelve principles ...   \n",
              "3  0    Julia Thomas finds her life spinning out ...   \n",
              "4  0    Addresses interplay of diverse spiritual,...   \n",
              "\n",
              "                                             authors  \\\n",
              "0  0                                       [Julie...   \n",
              "1  0                    [Philip Nel]\\n1          ...   \n",
              "2  0                         [David R. Ray]\\n1   ...   \n",
              "3  0           [Veronica Haddon]\\n1           [Em...   \n",
              "4  0                                     [Patrick...   \n",
              "\n",
              "                                               image  \\\n",
              "0  0    http://books.google.com/books/content?id=...   \n",
              "1  0    http://books.google.com/books/content?id=...   \n",
              "2  0    http://books.google.com/books/content?id=...   \n",
              "3  0    http://books.google.com/books/content?id=...   \n",
              "4  0    http://books.google.com/books/content?id=...   \n",
              "\n",
              "                                         previewLink  \\\n",
              "0  0    http://books.google.com/books?id=DykPAAAA...   \n",
              "1  0    http://books.google.com/books?id=IjvHQsCn...   \n",
              "2  0    http://books.google.com/books?id=2tsDAAAA...   \n",
              "3  0    http://books.google.com/books?id=aRSIgJlq...   \n",
              "4  0    http://books.google.com/books?id=MZUMnoy5...   \n",
              "\n",
              "                                           publisher  \\\n",
              "0  0                      NaN\\n1                 ...   \n",
              "1  0                    A&C Black\\n1        Bloom...   \n",
              "2  0                          NaN\\n1            T...   \n",
              "3  0                                      iUniver...   \n",
              "4  0        Indiana University Press\\n1       Col...   \n",
              "\n",
              "                                       publishedDate  \\\n",
              "0  0          1996\\n1          2001\\n2    2006-08...   \n",
              "1  0    2005-01-01\\n1    2004-01-01\\n2          2...   \n",
              "2  0          2000\\n1    2009-06-01\\n2    2010-07...   \n",
              "3  0       2005-02\\n1    2019-04-02\\n2    2020-04...   \n",
              "4  0          2001\\n1    2016-04-19\\n2    2013-04...   \n",
              "\n",
              "                                            infoLink  \\\n",
              "0  0    http://books.google.com/books?id=DykPAAAA...   \n",
              "1  0    http://books.google.com/books?id=IjvHQsCn...   \n",
              "2  0    http://books.google.com/books?id=2tsDAAAA...   \n",
              "3  0    http://books.google.com/books?id=aRSIgJlq...   \n",
              "4  0    http://books.google.com/books?id=MZUMnoy5...   \n",
              "\n",
              "                                          categories  \\\n",
              "0  0    [Comics & Graphic Novels]\\n1    [Comics &...   \n",
              "1  0    [Biography & Autobiography]\\n1           ...   \n",
              "2  0    [Religion]\\n1    [Religion]\\n2    [Religi...   \n",
              "3  0                [Fiction]\\n1    [Young Adult ...   \n",
              "4  0     [Social Science]\\n1         [Philosophy]...   \n",
              "\n",
              "                                        ratingsCount  \n",
              "0  0     NaN\\n1     NaN\\n2     NaN\\n3     3.0\\n4 ...  \n",
              "1  0     NaN\\n1     NaN\\n2     NaN\\n3     6.0\\n4 ...  \n",
              "2                                                NaN  \n",
              "3  0     NaN\\n1    14.0\\n2     3.0\\n3     NaN\\n4 ...  \n",
              "4  0    1.0\\n1    NaN\\n2    NaN\\n3    NaN\\n4    N...  "
            ],
            "text/html": [
              "\n",
              "  <div id=\"df-4d3378ad-63a5-42f9-b524-470e7bb550be\">\n",
              "    <div class=\"colab-df-container\">\n",
              "      <div>\n",
              "<style scoped>\n",
              "    .dataframe tbody tr th:only-of-type {\n",
              "        vertical-align: middle;\n",
              "    }\n",
              "\n",
              "    .dataframe tbody tr th {\n",
              "        vertical-align: top;\n",
              "    }\n",
              "\n",
              "    .dataframe thead th {\n",
              "        text-align: right;\n",
              "    }\n",
              "</style>\n",
              "<table border=\"1\" class=\"dataframe\">\n",
              "  <thead>\n",
              "    <tr style=\"text-align: right;\">\n",
              "      <th></th>\n",
              "      <th>Title</th>\n",
              "      <th>description</th>\n",
              "      <th>authors</th>\n",
              "      <th>image</th>\n",
              "      <th>previewLink</th>\n",
              "      <th>publisher</th>\n",
              "      <th>publishedDate</th>\n",
              "      <th>infoLink</th>\n",
              "      <th>categories</th>\n",
              "      <th>ratingsCount</th>\n",
              "    </tr>\n",
              "  </thead>\n",
              "  <tbody>\n",
              "    <tr>\n",
              "      <th>0</th>\n",
              "      <td>Its Only Art If Its Well Hung!</td>\n",
              "      <td>0                                             ...</td>\n",
              "      <td>0                                       [Julie...</td>\n",
              "      <td>0    http://books.google.com/books/content?id=...</td>\n",
              "      <td>0    http://books.google.com/books?id=DykPAAAA...</td>\n",
              "      <td>0                      NaN\\n1                 ...</td>\n",
              "      <td>0          1996\\n1          2001\\n2    2006-08...</td>\n",
              "      <td>0    http://books.google.com/books?id=DykPAAAA...</td>\n",
              "      <td>0    [Comics &amp; Graphic Novels]\\n1    [Comics &amp;...</td>\n",
              "      <td>0     NaN\\n1     NaN\\n2     NaN\\n3     3.0\\n4 ...</td>\n",
              "    </tr>\n",
              "    <tr>\n",
              "      <th>1</th>\n",
              "      <td>Dr. Seuss: American Icon</td>\n",
              "      <td>0    Philip Nel takes a fascinating look into ...</td>\n",
              "      <td>0                    [Philip Nel]\\n1          ...</td>\n",
              "      <td>0    http://books.google.com/books/content?id=...</td>\n",
              "      <td>0    http://books.google.com/books?id=IjvHQsCn...</td>\n",
              "      <td>0                    A&amp;C Black\\n1        Bloom...</td>\n",
              "      <td>0    2005-01-01\\n1    2004-01-01\\n2          2...</td>\n",
              "      <td>0    http://books.google.com/books?id=IjvHQsCn...</td>\n",
              "      <td>0    [Biography &amp; Autobiography]\\n1           ...</td>\n",
              "      <td>0     NaN\\n1     NaN\\n2     NaN\\n3     6.0\\n4 ...</td>\n",
              "    </tr>\n",
              "    <tr>\n",
              "      <th>2</th>\n",
              "      <td>Wonderful Worship in Smaller Churches</td>\n",
              "      <td>0    This resource includes twelve principles ...</td>\n",
              "      <td>0                         [David R. Ray]\\n1   ...</td>\n",
              "      <td>0    http://books.google.com/books/content?id=...</td>\n",
              "      <td>0    http://books.google.com/books?id=2tsDAAAA...</td>\n",
              "      <td>0                          NaN\\n1            T...</td>\n",
              "      <td>0          2000\\n1    2009-06-01\\n2    2010-07...</td>\n",
              "      <td>0    http://books.google.com/books?id=2tsDAAAA...</td>\n",
              "      <td>0    [Religion]\\n1    [Religion]\\n2    [Religi...</td>\n",
              "      <td>NaN</td>\n",
              "    </tr>\n",
              "    <tr>\n",
              "      <th>3</th>\n",
              "      <td>Whispers of the Wicked Saints</td>\n",
              "      <td>0    Julia Thomas finds her life spinning out ...</td>\n",
              "      <td>0           [Veronica Haddon]\\n1           [Em...</td>\n",
              "      <td>0    http://books.google.com/books/content?id=...</td>\n",
              "      <td>0    http://books.google.com/books?id=aRSIgJlq...</td>\n",
              "      <td>0                                      iUniver...</td>\n",
              "      <td>0       2005-02\\n1    2019-04-02\\n2    2020-04...</td>\n",
              "      <td>0    http://books.google.com/books?id=aRSIgJlq...</td>\n",
              "      <td>0                [Fiction]\\n1    [Young Adult ...</td>\n",
              "      <td>0     NaN\\n1    14.0\\n2     3.0\\n3     NaN\\n4 ...</td>\n",
              "    </tr>\n",
              "    <tr>\n",
              "      <th>4</th>\n",
              "      <td>Nation Dance: Religion, Identity and Cultural ...</td>\n",
              "      <td>0    Addresses interplay of diverse spiritual,...</td>\n",
              "      <td>0                                     [Patrick...</td>\n",
              "      <td>0    http://books.google.com/books/content?id=...</td>\n",
              "      <td>0    http://books.google.com/books?id=MZUMnoy5...</td>\n",
              "      <td>0        Indiana University Press\\n1       Col...</td>\n",
              "      <td>0          2001\\n1    2016-04-19\\n2    2013-04...</td>\n",
              "      <td>0    http://books.google.com/books?id=MZUMnoy5...</td>\n",
              "      <td>0     [Social Science]\\n1         [Philosophy]...</td>\n",
              "      <td>0    1.0\\n1    NaN\\n2    NaN\\n3    NaN\\n4    N...</td>\n",
              "    </tr>\n",
              "  </tbody>\n",
              "</table>\n",
              "</div>\n",
              "      <button class=\"colab-df-convert\" onclick=\"convertToInteractive('df-4d3378ad-63a5-42f9-b524-470e7bb550be')\"\n",
              "              title=\"Convert this dataframe to an interactive table.\"\n",
              "              style=\"display:none;\">\n",
              "        \n",
              "  <svg xmlns=\"http://www.w3.org/2000/svg\" height=\"24px\"viewBox=\"0 0 24 24\"\n",
              "       width=\"24px\">\n",
              "    <path d=\"M0 0h24v24H0V0z\" fill=\"none\"/>\n",
              "    <path d=\"M18.56 5.44l.94 2.06.94-2.06 2.06-.94-2.06-.94-.94-2.06-.94 2.06-2.06.94zm-11 1L8.5 8.5l.94-2.06 2.06-.94-2.06-.94L8.5 2.5l-.94 2.06-2.06.94zm10 10l.94 2.06.94-2.06 2.06-.94-2.06-.94-.94-2.06-.94 2.06-2.06.94z\"/><path d=\"M17.41 7.96l-1.37-1.37c-.4-.4-.92-.59-1.43-.59-.52 0-1.04.2-1.43.59L10.3 9.45l-7.72 7.72c-.78.78-.78 2.05 0 2.83L4 21.41c.39.39.9.59 1.41.59.51 0 1.02-.2 1.41-.59l7.78-7.78 2.81-2.81c.8-.78.8-2.07 0-2.86zM5.41 20L4 18.59l7.72-7.72 1.47 1.35L5.41 20z\"/>\n",
              "  </svg>\n",
              "      </button>\n",
              "      \n",
              "  <style>\n",
              "    .colab-df-container {\n",
              "      display:flex;\n",
              "      flex-wrap:wrap;\n",
              "      gap: 12px;\n",
              "    }\n",
              "\n",
              "    .colab-df-convert {\n",
              "      background-color: #E8F0FE;\n",
              "      border: none;\n",
              "      border-radius: 50%;\n",
              "      cursor: pointer;\n",
              "      display: none;\n",
              "      fill: #1967D2;\n",
              "      height: 32px;\n",
              "      padding: 0 0 0 0;\n",
              "      width: 32px;\n",
              "    }\n",
              "\n",
              "    .colab-df-convert:hover {\n",
              "      background-color: #E2EBFA;\n",
              "      box-shadow: 0px 1px 2px rgba(60, 64, 67, 0.3), 0px 1px 3px 1px rgba(60, 64, 67, 0.15);\n",
              "      fill: #174EA6;\n",
              "    }\n",
              "\n",
              "    [theme=dark] .colab-df-convert {\n",
              "      background-color: #3B4455;\n",
              "      fill: #D2E3FC;\n",
              "    }\n",
              "\n",
              "    [theme=dark] .colab-df-convert:hover {\n",
              "      background-color: #434B5C;\n",
              "      box-shadow: 0px 1px 3px 1px rgba(0, 0, 0, 0.15);\n",
              "      filter: drop-shadow(0px 1px 2px rgba(0, 0, 0, 0.3));\n",
              "      fill: #FFFFFF;\n",
              "    }\n",
              "  </style>\n",
              "\n",
              "      <script>\n",
              "        const buttonEl =\n",
              "          document.querySelector('#df-4d3378ad-63a5-42f9-b524-470e7bb550be button.colab-df-convert');\n",
              "        buttonEl.style.display =\n",
              "          google.colab.kernel.accessAllowed ? 'block' : 'none';\n",
              "\n",
              "        async function convertToInteractive(key) {\n",
              "          const element = document.querySelector('#df-4d3378ad-63a5-42f9-b524-470e7bb550be');\n",
              "          const dataTable =\n",
              "            await google.colab.kernel.invokeFunction('convertToInteractive',\n",
              "                                                     [key], {});\n",
              "          if (!dataTable) return;\n",
              "\n",
              "          const docLinkHtml = 'Like what you see? Visit the ' +\n",
              "            '<a target=\"_blank\" href=https://colab.research.google.com/notebooks/data_table.ipynb>data table notebook</a>'\n",
              "            + ' to learn more about interactive tables.';\n",
              "          element.innerHTML = '';\n",
              "          dataTable['output_type'] = 'display_data';\n",
              "          await google.colab.output.renderOutput(dataTable, element);\n",
              "          const docLink = document.createElement('div');\n",
              "          docLink.innerHTML = docLinkHtml;\n",
              "          element.appendChild(docLink);\n",
              "        }\n",
              "      </script>\n",
              "    </div>\n",
              "  </div>\n",
              "  "
            ]
          },
          "metadata": {},
          "execution_count": 11
        }
      ]
    },
    {
      "cell_type": "markdown",
      "source": [
        "## Removing unknown users"
      ],
      "metadata": {
        "id": "rKqxr5EuU6xi"
      }
    },
    {
      "cell_type": "code",
      "source": [
        "df.isna().sum()"
      ],
      "metadata": {
        "colab": {
          "base_uri": "https://localhost:8080/"
        },
        "id": "Emrhw6c2TNxn",
        "outputId": "9bf4c0e3-0ab8-4936-a194-7f1afb36f0f9"
      },
      "execution_count": 12,
      "outputs": [
        {
          "output_type": "execute_result",
          "data": {
            "text/plain": [
              "Title               1\n",
              "description      3829\n",
              "authors          3800\n",
              "image            3800\n",
              "previewLink      3796\n",
              "publisher        3846\n",
              "publishedDate    3796\n",
              "infoLink         3796\n",
              "categories       3801\n",
              "ratingsCount     4978\n",
              "dtype: int64"
            ]
          },
          "metadata": {},
          "execution_count": 12
        }
      ]
    },
    {
      "cell_type": "code",
      "source": [
        "df=df.dropna()"
      ],
      "metadata": {
        "id": "mpAYKzmwomyp"
      },
      "execution_count": 13,
      "outputs": []
    },
    {
      "cell_type": "code",
      "source": [
        "df.shape"
      ],
      "metadata": {
        "colab": {
          "base_uri": "https://localhost:8080/"
        },
        "id": "b5VMca2fVQ7S",
        "outputId": "63b03629-899e-4baa-ca71-cdb2907dbc31"
      },
      "execution_count": 14,
      "outputs": [
        {
          "output_type": "execute_result",
          "data": {
            "text/plain": [
              "(5005, 10)"
            ]
          },
          "metadata": {},
          "execution_count": 14
        }
      ]
    },
    {
      "cell_type": "code",
      "source": [
        "df=df.iloc[:1000,:]"
      ],
      "metadata": {
        "id": "3vQzGtGbxlex"
      },
      "execution_count": 16,
      "outputs": []
    },
    {
      "cell_type": "markdown",
      "source": [
        "## Remove duplicates"
      ],
      "metadata": {
        "id": "vcfVXnLAUod4"
      }
    },
    {
      "cell_type": "code",
      "source": [
        "sum(df.duplicated())"
      ],
      "metadata": {
        "colab": {
          "base_uri": "https://localhost:8080/"
        },
        "id": "JmpVoTUFDzhj",
        "outputId": "fcff3d8e-89c7-4725-b4cf-e72d92b6bcce"
      },
      "execution_count": 17,
      "outputs": [
        {
          "output_type": "execute_result",
          "data": {
            "text/plain": [
              "0"
            ]
          },
          "metadata": {},
          "execution_count": 17
        }
      ]
    },
    {
      "cell_type": "code",
      "source": [
        "df.shape"
      ],
      "metadata": {
        "colab": {
          "base_uri": "https://localhost:8080/"
        },
        "id": "WnLubhOiE5IN",
        "outputId": "54cb9de1-6d0a-45bf-cdb8-f64573996e9c"
      },
      "execution_count": null,
      "outputs": [
        {
          "output_type": "execute_result",
          "data": {
            "text/plain": [
              "(5005, 10)"
            ]
          },
          "metadata": {},
          "execution_count": 65
        }
      ]
    },
    {
      "cell_type": "markdown",
      "source": [
        "## unique values"
      ],
      "metadata": {
        "id": "iTS7E0Ffp_ZB"
      }
    },
    {
      "cell_type": "code",
      "source": [
        "df.nunique()"
      ],
      "metadata": {
        "colab": {
          "base_uri": "https://localhost:8080/"
        },
        "id": "48ZhIujmHKJs",
        "outputId": "6f041251-e94c-4f05-b3b2-df9f7cf3c00f"
      },
      "execution_count": 20,
      "outputs": [
        {
          "output_type": "execute_result",
          "data": {
            "text/plain": [
              "Title            1000\n",
              "description      1000\n",
              "authors           998\n",
              "image            1000\n",
              "previewLink      1000\n",
              "publisher        1000\n",
              "publishedDate    1000\n",
              "infoLink         1000\n",
              "categories        995\n",
              "ratingsCount      740\n",
              "dtype: int64"
            ]
          },
          "metadata": {},
          "execution_count": 20
        }
      ]
    },
    {
      "cell_type": "markdown",
      "source": [
        "## Cleaning reviews text "
      ],
      "metadata": {
        "id": "vPuvjnC3W3f9"
      }
    },
    {
      "cell_type": "code",
      "source": [
        "def str_to_list(text):\n",
        "    list1 = re.split(r\"\\s+\", text)\n",
        "    return list1"
      ],
      "metadata": {
        "id": "zY6mKTbLKZDe"
      },
      "execution_count": 21,
      "outputs": []
    },
    {
      "cell_type": "code",
      "source": [
        "def clean(text, flg_stemm=False):\n",
        "    \"\"\"\n",
        "    INPUT:\n",
        "    text: string of a text to be cleaned\n",
        "    flg_stemm: bool to indicate whether stemming is to be applied\n",
        "  \n",
        "    OUTPUT:\n",
        "    new_text: list of words after cleaning, and stemming\n",
        "\n",
        "    \"\"\"\n",
        "\n",
        "    # Removing special characters, digits, and extra spaces\n",
        "    new_text = re.sub(r\"[^a-zA-Z']\", ' ', text)\n",
        "    new_text = re.sub(r\"\\s'|'\\s\", ' ', new_text)\n",
        "\n",
        "    # Converting to lower case\n",
        "    new_text = new_text.lower()\n",
        "\n",
        "    # Tokenize the string\n",
        "    new_text = str_to_list(new_text)\n",
        "\n",
        "    # Stemming\n",
        "    if flg_stemm == True:\n",
        "        ps = nltk.stem.porter.PorterStemmer()\n",
        "        new_text = [ps.stem(word) for word in new_text]\n",
        "\n",
        "    return ' '.join(new_text)"
      ],
      "metadata": {
        "id": "ag9c34yGHevK"
      },
      "execution_count": 22,
      "outputs": []
    },
    {
      "cell_type": "code",
      "source": [
        "df['description'] = df['description'].apply(lambda x:clean(x))"
      ],
      "metadata": {
        "id": "Dpo9_0z7WgnA"
      },
      "execution_count": 23,
      "outputs": []
    },
    {
      "cell_type": "code",
      "source": [
        "df['description_words'] = df['description'].apply(lambda x:str_to_list(clean(x)))"
      ],
      "metadata": {
        "id": "L8D0F4QmKzbB"
      },
      "execution_count": 24,
      "outputs": []
    },
    {
      "cell_type": "code",
      "source": [
        "df.head()"
      ],
      "metadata": {
        "colab": {
          "base_uri": "https://localhost:8080/",
          "height": 582
        },
        "id": "SMbX2XWlLwps",
        "outputId": "af61831d-3fa8-4dd2-d614-d7f42d3c7fe1"
      },
      "execution_count": 25,
      "outputs": [
        {
          "output_type": "execute_result",
          "data": {
            "text/plain": [
              "                                               Title  \\\n",
              "0                     Its Only Art If Its Well Hung!   \n",
              "1                           Dr. Seuss: American Icon   \n",
              "3                      Whispers of the Wicked Saints   \n",
              "4  Nation Dance: Religion, Identity and Cultural ...   \n",
              "5  The Church of Christ: A Biblical Ecclesiology ...   \n",
              "\n",
              "                                         description  \\\n",
              "0   nan nan this massive collection of more than ...   \n",
              "1   philip nel takes a fascinating look into the ...   \n",
              "3   julia thomas finds her life spinning out of c...   \n",
              "4   addresses interplay of diverse spiritual reli...   \n",
              "5   in the church of christ a biblical ecclesiolo...   \n",
              "\n",
              "                                             authors  \\\n",
              "0  0                                       [Julie...   \n",
              "1  0                    [Philip Nel]\\n1          ...   \n",
              "3  0           [Veronica Haddon]\\n1           [Em...   \n",
              "4  0                                     [Patrick...   \n",
              "5  0                                   [Everett F...   \n",
              "\n",
              "                                               image  \\\n",
              "0  0    http://books.google.com/books/content?id=...   \n",
              "1  0    http://books.google.com/books/content?id=...   \n",
              "3  0    http://books.google.com/books/content?id=...   \n",
              "4  0    http://books.google.com/books/content?id=...   \n",
              "5  0    http://books.google.com/books/content?id=...   \n",
              "\n",
              "                                         previewLink  \\\n",
              "0  0    http://books.google.com/books?id=DykPAAAA...   \n",
              "1  0    http://books.google.com/books?id=IjvHQsCn...   \n",
              "3  0    http://books.google.com/books?id=aRSIgJlq...   \n",
              "4  0    http://books.google.com/books?id=MZUMnoy5...   \n",
              "5  0    http://books.google.com/books?id=kVqRaiPl...   \n",
              "\n",
              "                                           publisher  \\\n",
              "0  0                      NaN\\n1                 ...   \n",
              "1  0                    A&C Black\\n1        Bloom...   \n",
              "3  0                                      iUniver...   \n",
              "4  0        Indiana University Press\\n1       Col...   \n",
              "5  0    Wm. B. Eerdmans Publishing\\n1            ...   \n",
              "\n",
              "                                       publishedDate  \\\n",
              "0  0          1996\\n1          2001\\n2    2006-08...   \n",
              "1  0    2005-01-01\\n1    2004-01-01\\n2          2...   \n",
              "3  0       2005-02\\n1    2019-04-02\\n2    2020-04...   \n",
              "4  0          2001\\n1    2016-04-19\\n2    2013-04...   \n",
              "5  0          1996\\n1          1997\\n2    1999-11...   \n",
              "\n",
              "                                            infoLink  \\\n",
              "0  0    http://books.google.com/books?id=DykPAAAA...   \n",
              "1  0    http://books.google.com/books?id=IjvHQsCn...   \n",
              "3  0    http://books.google.com/books?id=aRSIgJlq...   \n",
              "4  0    http://books.google.com/books?id=MZUMnoy5...   \n",
              "5  0    https://play.google.com/store/books/detai...   \n",
              "\n",
              "                                          categories  \\\n",
              "0  0    [Comics & Graphic Novels]\\n1    [Comics &...   \n",
              "1  0    [Biography & Autobiography]\\n1           ...   \n",
              "3  0                [Fiction]\\n1    [Young Adult ...   \n",
              "4  0     [Social Science]\\n1         [Philosophy]...   \n",
              "5  0     [Religion]\\n1       [Church]\\n2     [Rel...   \n",
              "\n",
              "                                        ratingsCount  \\\n",
              "0  0     NaN\\n1     NaN\\n2     NaN\\n3     3.0\\n4 ...   \n",
              "1  0     NaN\\n1     NaN\\n2     NaN\\n3     6.0\\n4 ...   \n",
              "3  0     NaN\\n1    14.0\\n2     3.0\\n3     NaN\\n4 ...   \n",
              "4  0    1.0\\n1    NaN\\n2    NaN\\n3    NaN\\n4    N...   \n",
              "5  0    5.0\\n1    NaN\\n2    NaN\\n3    3.0\\n4    4...   \n",
              "\n",
              "                                   description_words  \n",
              "0  [, nan, nan, this, massive, collection, of, mo...  \n",
              "1  [, philip, nel, takes, a, fascinating, look, i...  \n",
              "3  [, julia, thomas, finds, her, life, spinning, ...  \n",
              "4  [, addresses, interplay, of, diverse, spiritua...  \n",
              "5  [, in, the, church, of, christ, a, biblical, e...  "
            ],
            "text/html": [
              "\n",
              "  <div id=\"df-720c0de4-1e72-4c71-b771-8a39e6ad634c\">\n",
              "    <div class=\"colab-df-container\">\n",
              "      <div>\n",
              "<style scoped>\n",
              "    .dataframe tbody tr th:only-of-type {\n",
              "        vertical-align: middle;\n",
              "    }\n",
              "\n",
              "    .dataframe tbody tr th {\n",
              "        vertical-align: top;\n",
              "    }\n",
              "\n",
              "    .dataframe thead th {\n",
              "        text-align: right;\n",
              "    }\n",
              "</style>\n",
              "<table border=\"1\" class=\"dataframe\">\n",
              "  <thead>\n",
              "    <tr style=\"text-align: right;\">\n",
              "      <th></th>\n",
              "      <th>Title</th>\n",
              "      <th>description</th>\n",
              "      <th>authors</th>\n",
              "      <th>image</th>\n",
              "      <th>previewLink</th>\n",
              "      <th>publisher</th>\n",
              "      <th>publishedDate</th>\n",
              "      <th>infoLink</th>\n",
              "      <th>categories</th>\n",
              "      <th>ratingsCount</th>\n",
              "      <th>description_words</th>\n",
              "    </tr>\n",
              "  </thead>\n",
              "  <tbody>\n",
              "    <tr>\n",
              "      <th>0</th>\n",
              "      <td>Its Only Art If Its Well Hung!</td>\n",
              "      <td>nan nan this massive collection of more than ...</td>\n",
              "      <td>0                                       [Julie...</td>\n",
              "      <td>0    http://books.google.com/books/content?id=...</td>\n",
              "      <td>0    http://books.google.com/books?id=DykPAAAA...</td>\n",
              "      <td>0                      NaN\\n1                 ...</td>\n",
              "      <td>0          1996\\n1          2001\\n2    2006-08...</td>\n",
              "      <td>0    http://books.google.com/books?id=DykPAAAA...</td>\n",
              "      <td>0    [Comics &amp; Graphic Novels]\\n1    [Comics &amp;...</td>\n",
              "      <td>0     NaN\\n1     NaN\\n2     NaN\\n3     3.0\\n4 ...</td>\n",
              "      <td>[, nan, nan, this, massive, collection, of, mo...</td>\n",
              "    </tr>\n",
              "    <tr>\n",
              "      <th>1</th>\n",
              "      <td>Dr. Seuss: American Icon</td>\n",
              "      <td>philip nel takes a fascinating look into the ...</td>\n",
              "      <td>0                    [Philip Nel]\\n1          ...</td>\n",
              "      <td>0    http://books.google.com/books/content?id=...</td>\n",
              "      <td>0    http://books.google.com/books?id=IjvHQsCn...</td>\n",
              "      <td>0                    A&amp;C Black\\n1        Bloom...</td>\n",
              "      <td>0    2005-01-01\\n1    2004-01-01\\n2          2...</td>\n",
              "      <td>0    http://books.google.com/books?id=IjvHQsCn...</td>\n",
              "      <td>0    [Biography &amp; Autobiography]\\n1           ...</td>\n",
              "      <td>0     NaN\\n1     NaN\\n2     NaN\\n3     6.0\\n4 ...</td>\n",
              "      <td>[, philip, nel, takes, a, fascinating, look, i...</td>\n",
              "    </tr>\n",
              "    <tr>\n",
              "      <th>3</th>\n",
              "      <td>Whispers of the Wicked Saints</td>\n",
              "      <td>julia thomas finds her life spinning out of c...</td>\n",
              "      <td>0           [Veronica Haddon]\\n1           [Em...</td>\n",
              "      <td>0    http://books.google.com/books/content?id=...</td>\n",
              "      <td>0    http://books.google.com/books?id=aRSIgJlq...</td>\n",
              "      <td>0                                      iUniver...</td>\n",
              "      <td>0       2005-02\\n1    2019-04-02\\n2    2020-04...</td>\n",
              "      <td>0    http://books.google.com/books?id=aRSIgJlq...</td>\n",
              "      <td>0                [Fiction]\\n1    [Young Adult ...</td>\n",
              "      <td>0     NaN\\n1    14.0\\n2     3.0\\n3     NaN\\n4 ...</td>\n",
              "      <td>[, julia, thomas, finds, her, life, spinning, ...</td>\n",
              "    </tr>\n",
              "    <tr>\n",
              "      <th>4</th>\n",
              "      <td>Nation Dance: Religion, Identity and Cultural ...</td>\n",
              "      <td>addresses interplay of diverse spiritual reli...</td>\n",
              "      <td>0                                     [Patrick...</td>\n",
              "      <td>0    http://books.google.com/books/content?id=...</td>\n",
              "      <td>0    http://books.google.com/books?id=MZUMnoy5...</td>\n",
              "      <td>0        Indiana University Press\\n1       Col...</td>\n",
              "      <td>0          2001\\n1    2016-04-19\\n2    2013-04...</td>\n",
              "      <td>0    http://books.google.com/books?id=MZUMnoy5...</td>\n",
              "      <td>0     [Social Science]\\n1         [Philosophy]...</td>\n",
              "      <td>0    1.0\\n1    NaN\\n2    NaN\\n3    NaN\\n4    N...</td>\n",
              "      <td>[, addresses, interplay, of, diverse, spiritua...</td>\n",
              "    </tr>\n",
              "    <tr>\n",
              "      <th>5</th>\n",
              "      <td>The Church of Christ: A Biblical Ecclesiology ...</td>\n",
              "      <td>in the church of christ a biblical ecclesiolo...</td>\n",
              "      <td>0                                   [Everett F...</td>\n",
              "      <td>0    http://books.google.com/books/content?id=...</td>\n",
              "      <td>0    http://books.google.com/books?id=kVqRaiPl...</td>\n",
              "      <td>0    Wm. B. Eerdmans Publishing\\n1            ...</td>\n",
              "      <td>0          1996\\n1          1997\\n2    1999-11...</td>\n",
              "      <td>0    https://play.google.com/store/books/detai...</td>\n",
              "      <td>0     [Religion]\\n1       [Church]\\n2     [Rel...</td>\n",
              "      <td>0    5.0\\n1    NaN\\n2    NaN\\n3    3.0\\n4    4...</td>\n",
              "      <td>[, in, the, church, of, christ, a, biblical, e...</td>\n",
              "    </tr>\n",
              "  </tbody>\n",
              "</table>\n",
              "</div>\n",
              "      <button class=\"colab-df-convert\" onclick=\"convertToInteractive('df-720c0de4-1e72-4c71-b771-8a39e6ad634c')\"\n",
              "              title=\"Convert this dataframe to an interactive table.\"\n",
              "              style=\"display:none;\">\n",
              "        \n",
              "  <svg xmlns=\"http://www.w3.org/2000/svg\" height=\"24px\"viewBox=\"0 0 24 24\"\n",
              "       width=\"24px\">\n",
              "    <path d=\"M0 0h24v24H0V0z\" fill=\"none\"/>\n",
              "    <path d=\"M18.56 5.44l.94 2.06.94-2.06 2.06-.94-2.06-.94-.94-2.06-.94 2.06-2.06.94zm-11 1L8.5 8.5l.94-2.06 2.06-.94-2.06-.94L8.5 2.5l-.94 2.06-2.06.94zm10 10l.94 2.06.94-2.06 2.06-.94-2.06-.94-.94-2.06-.94 2.06-2.06.94z\"/><path d=\"M17.41 7.96l-1.37-1.37c-.4-.4-.92-.59-1.43-.59-.52 0-1.04.2-1.43.59L10.3 9.45l-7.72 7.72c-.78.78-.78 2.05 0 2.83L4 21.41c.39.39.9.59 1.41.59.51 0 1.02-.2 1.41-.59l7.78-7.78 2.81-2.81c.8-.78.8-2.07 0-2.86zM5.41 20L4 18.59l7.72-7.72 1.47 1.35L5.41 20z\"/>\n",
              "  </svg>\n",
              "      </button>\n",
              "      \n",
              "  <style>\n",
              "    .colab-df-container {\n",
              "      display:flex;\n",
              "      flex-wrap:wrap;\n",
              "      gap: 12px;\n",
              "    }\n",
              "\n",
              "    .colab-df-convert {\n",
              "      background-color: #E8F0FE;\n",
              "      border: none;\n",
              "      border-radius: 50%;\n",
              "      cursor: pointer;\n",
              "      display: none;\n",
              "      fill: #1967D2;\n",
              "      height: 32px;\n",
              "      padding: 0 0 0 0;\n",
              "      width: 32px;\n",
              "    }\n",
              "\n",
              "    .colab-df-convert:hover {\n",
              "      background-color: #E2EBFA;\n",
              "      box-shadow: 0px 1px 2px rgba(60, 64, 67, 0.3), 0px 1px 3px 1px rgba(60, 64, 67, 0.15);\n",
              "      fill: #174EA6;\n",
              "    }\n",
              "\n",
              "    [theme=dark] .colab-df-convert {\n",
              "      background-color: #3B4455;\n",
              "      fill: #D2E3FC;\n",
              "    }\n",
              "\n",
              "    [theme=dark] .colab-df-convert:hover {\n",
              "      background-color: #434B5C;\n",
              "      box-shadow: 0px 1px 3px 1px rgba(0, 0, 0, 0.15);\n",
              "      filter: drop-shadow(0px 1px 2px rgba(0, 0, 0, 0.3));\n",
              "      fill: #FFFFFF;\n",
              "    }\n",
              "  </style>\n",
              "\n",
              "      <script>\n",
              "        const buttonEl =\n",
              "          document.querySelector('#df-720c0de4-1e72-4c71-b771-8a39e6ad634c button.colab-df-convert');\n",
              "        buttonEl.style.display =\n",
              "          google.colab.kernel.accessAllowed ? 'block' : 'none';\n",
              "\n",
              "        async function convertToInteractive(key) {\n",
              "          const element = document.querySelector('#df-720c0de4-1e72-4c71-b771-8a39e6ad634c');\n",
              "          const dataTable =\n",
              "            await google.colab.kernel.invokeFunction('convertToInteractive',\n",
              "                                                     [key], {});\n",
              "          if (!dataTable) return;\n",
              "\n",
              "          const docLinkHtml = 'Like what you see? Visit the ' +\n",
              "            '<a target=\"_blank\" href=https://colab.research.google.com/notebooks/data_table.ipynb>data table notebook</a>'\n",
              "            + ' to learn more about interactive tables.';\n",
              "          element.innerHTML = '';\n",
              "          dataTable['output_type'] = 'display_data';\n",
              "          await google.colab.output.renderOutput(dataTable, element);\n",
              "          const docLink = document.createElement('div');\n",
              "          docLink.innerHTML = docLinkHtml;\n",
              "          element.appendChild(docLink);\n",
              "        }\n",
              "      </script>\n",
              "    </div>\n",
              "  </div>\n",
              "  "
            ]
          },
          "metadata": {},
          "execution_count": 25
        }
      ]
    },
    {
      "cell_type": "markdown",
      "source": [
        "# Feature Engineering using TF-IDF"
      ],
      "metadata": {
        "id": "QJLoTyKKXnoG"
      }
    },
    {
      "cell_type": "code",
      "source": [
        "def getTF_IDF_cluster(train_corpus):\n",
        "    \"it take train corpus and return train features\"\n",
        "    # build TF-IDF features on train articles\n",
        "    tv = TfidfVectorizer()\n",
        "    tv_train_features = tv.fit_transform(train_corpus).toarray()\n",
        "    return tv, tv_train_features"
      ],
      "metadata": {
        "id": "3yzk16NlNzV7"
      },
      "execution_count": 26,
      "outputs": []
    },
    {
      "cell_type": "markdown",
      "source": [
        "# Clustering Using Kmeans"
      ],
      "metadata": {
        "id": "Ul_mYj7QezUI"
      }
    },
    {
      "cell_type": "code",
      "source": [
        "tf, X_train_em = getTF_IDF_cluster(df['description'])"
      ],
      "metadata": {
        "id": "sm5wIej3Yr3z"
      },
      "execution_count": 27,
      "outputs": []
    },
    {
      "cell_type": "code",
      "source": [
        "def kmeans_model(x, num_clusters):\n",
        "  \"\"\"\n",
        "  INPUT:\n",
        "  x: The training data\n",
        "  num_clusters: The number of clusters\n",
        "\n",
        "  OUTPUT:\n",
        "  model: K-means model after fitting it with the training data\n",
        "\n",
        "  \"\"\"\n",
        "  model = KMeans(n_clusters=num_clusters, init='k-means++', random_state=0)\n",
        "  model.fit(x)\n",
        "  return model"
      ],
      "metadata": {
        "id": "AKXBvxRbt6Nk"
      },
      "execution_count": 28,
      "outputs": []
    },
    {
      "cell_type": "code",
      "source": [
        "def plot_kmeans_elbow(x, max_clusters):\n",
        "  \"\"\"\n",
        "  The function takes the training data and plot WCSS and silhouette versus the number of clusters\n",
        "\n",
        "  INPUT:\n",
        "  x: The training data\n",
        "  max_clusters: The maximum number of clusters\n",
        "\n",
        "  \"\"\"\n",
        "  wcss = []\n",
        "  s = []\n",
        "  for i in tqdm(range(1, max_clusters+1)):\n",
        "      model = kmeans_model(x, i)\n",
        "      wcss.append(model.inertia_)\n",
        "      if i>1:\n",
        "        s.append(silhouette_score(x, model.labels_))\n",
        "\n",
        "  fig = plt.figure(figsize=(15, 5))\n",
        "  fig.suptitle('Elbow Method')\n",
        "\n",
        "  sub1 = plt.subplot(1, 2, 1)\n",
        "  sub1.plot(range(1, max_clusters+1), wcss)\n",
        "  sub1.set_xlabel('Number of clusters')\n",
        "  sub1.set_ylabel('WCSS')\n",
        "\n",
        "  sub2 = plt.subplot(1, 2, 2)\n",
        "  sub2.plot(range(2, max_clusters+1), s)\n",
        "  sub2.set_xlabel('Number of clusters')\n",
        "  sub2.set_ylabel('silhouette')\n",
        "  plt.show()"
      ],
      "metadata": {
        "id": "-GzYmd9it6V2"
      },
      "execution_count": 29,
      "outputs": []
    },
    {
      "cell_type": "code",
      "source": [
        "def em_model(x, num_components):\n",
        "  \"\"\"\n",
        "  INPUT:\n",
        "  x: The training data\n",
        "  num_components: The number of mixture components.\n",
        "\n",
        "  OUTPUT:\n",
        "  model: Gaussian mixture model after fitting it with the training data\n",
        "\n",
        "  \"\"\"\n",
        "  model = GaussianMixture(n_components=num_components,covariance_type='diag', random_state=0)\n",
        "  model.fit(x)\n",
        "  return model"
      ],
      "metadata": {
        "id": "ZkqKRb0Cejn8"
      },
      "execution_count": 30,
      "outputs": []
    },
    {
      "cell_type": "code",
      "source": [
        "def plot_em_elbow(x, max_components):\n",
        "  \"\"\"\n",
        "  The function takes the training data and plot AIC, BIC and silhouette versus the number of components\n",
        "\n",
        "  INPUT:\n",
        "  x: The training data\n",
        "  max_components: The maximum number of components  \n",
        "\n",
        "  \"\"\"\n",
        "  s = []\n",
        "  n_components = np.arange(1, max_components+1)\n",
        "  models = [em_model(x, n) for n in n_components]\n",
        "  for i in tqdm(range(2, max_components+1)):\n",
        "    model = em_model(x, i)\n",
        "    labels = model.predict(x)\n",
        "    s.append(silhouette_score(x, labels))\n",
        "\n",
        "  fig = plt.figure(figsize=(15, 5))\n",
        "  fig.suptitle('Elbow Method')\n",
        "  sub1 = plt.subplot(1, 2, 1)\n",
        "  sub1.plot(n_components, [m.bic(x) for m in models], label='BIC')\n",
        "  sub1.plot(n_components, [m.aic(x) for m in models], label='AIC')\n",
        "  sub1.set_xlabel('Number of components')\n",
        "  sub1.legend(loc='best')\n",
        "\n",
        "  sub2 = plt.subplot(1, 2, 2)\n",
        "  sub2.plot(range(2, max_components+1), s)\n",
        "  sub2.set_xlabel('Number of clusters')\n",
        "  sub2.set_ylabel('silhouette')\n",
        "  plt.show()"
      ],
      "metadata": {
        "id": "JCjsBwd6fbR0"
      },
      "execution_count": 31,
      "outputs": []
    },
    {
      "cell_type": "code",
      "source": [
        "plot_kmeans_elbow(X_train_em, 20)"
      ],
      "metadata": {
        "colab": {
          "base_uri": "https://localhost:8080/",
          "height": 530
        },
        "id": "273aT20nuJJM",
        "outputId": "3b930fe8-a556-40d2-c0b4-5076cd5df042"
      },
      "execution_count": 32,
      "outputs": [
        {
          "output_type": "stream",
          "name": "stderr",
          "text": [
            "100%|██████████| 20/20 [03:08<00:00,  9.42s/it]\n"
          ]
        },
        {
          "output_type": "display_data",
          "data": {
            "text/plain": [
              "<Figure size 1500x500 with 2 Axes>"
            ],
            "image/png": "[encoded data removed]"
          },
          "metadata": {}
        }
      ]
    },
    {
      "cell_type": "code",
      "source": [
        "cluster_model = kmeans_model(X_train_em, 7)"
      ],
      "metadata": {
        "id": "0eD7LkhBsuGH"
      },
      "execution_count": null,
      "outputs": []
    },
    {
      "cell_type": "code",
      "source": [
        "plot_em_elbow(X_train_em, 20)"
      ],
      "metadata": {
        "colab": {
          "base_uri": "https://localhost:8080/",
          "height": 547,
          "referenced_widgets": [
            "85ec97cdea1447278082ee18644a3869",
            "4ebb4b1ccd5642b6ba849b3e95e94e73",
            "ffc9db8048bd48749c9610a8eecc2068",
            "00e597cd469444f1af6f7a6240b4bfb9",
            "3bcd68fc6d7e4be7b88365d632fbadf3",
            "2aa7a22b7a9a453a8a2005d98307e830",
            "280316b825b54d61ba1818258257b98d",
            "899f674482bf4d0e8d43ceee1ee6e7de",
            "8c47bc77487546a3aa4670a8e1897cfd",
            "12621a23259f4014a743130e4c515464",
            "90804388f79f45b2aa18eedfc58bf286"
          ]
        },
        "id": "ZsNzxuaKSfNx",
        "outputId": "3578a3af-49f4-467e-c92f-cf8061017e2b"
      },
      "execution_count": null,
      "outputs": [
        {
          "output_type": "display_data",
          "data": {
            "text/plain": [
              "  0%|          | 0/19 [00:00<?, ?it/s]"
            ],
            "application/vnd.jupyter.widget-view+json": {
              "version_major": 2,
              "version_minor": 0,
              "model_id": "85ec97cdea1447278082ee18644a3869"
            }
          },
          "metadata": {}
        },
        {
          "output_type": "display_data",
          "data": {
            "text/plain": [
              "<Figure size 1500x500 with 2 Axes>"
            ],
            "image/png": "[encoded data removed]"
          },
          "metadata": {}
        }
      ]
    },
    {
      "cell_type": "code",
      "source": [
        "from sklearn.manifold import TSNE"
      ],
      "metadata": {
        "id": "qoV8KPT0SdJd"
      },
      "execution_count": 33,
      "outputs": []
    },
    {
      "cell_type": "code",
      "source": [
        "model=kmeans_model(X_train_em, 8)"
      ],
      "metadata": {
        "id": "aWTrHWG8TcUv"
      },
      "execution_count": 34,
      "outputs": []
    },
    {
      "cell_type": "code",
      "source": [
        "y=model.labels_"
      ],
      "metadata": {
        "id": "ZBe-xIrDTh0Q"
      },
      "execution_count": 35,
      "outputs": []
    },
    {
      "cell_type": "code",
      "source": [
        "def plot_cluster(data,y,title=''):\n",
        "  \"\"\"\n",
        "  Function : plot_cluster\n",
        "  Used to plot the scatter plot after apply TSNE \n",
        "  ---------------------------------\n",
        "  Input : \n",
        "  data \n",
        "  y\n",
        "  title\n",
        "  ---------------------------------\n",
        "  Output : don't return\n",
        "  \"\"\"\n",
        "  tsne = TSNE(n_components=2, verbose=1, perplexity=40, n_iter=300)\n",
        "  tsne_results = tsne.fit_transform(data)  \n",
        "  plt.figure(figsize=(16,10))\n",
        "\n",
        "  sns.scatterplot(\n",
        "  x=tsne_results[:,0], y=tsne_results[:,1],\n",
        "  hue=y\n",
        "  )\n",
        "  plt.xlabel(\"TSNE1\",size=15)\n",
        "  plt.ylabel(\"TSNE2\",size=15)\n",
        "  plt.title(title,size=20)\n",
        "  plt.show()"
      ],
      "metadata": {
        "id": "tDPJgVFAQ9dV"
      },
      "execution_count": 36,
      "outputs": []
    },
    {
      "cell_type": "code",
      "source": [
        "plot_cluster(X_train_em,y,title=' Clustering Data')"
      ],
      "metadata": {
        "colab": {
          "base_uri": "https://localhost:8080/",
          "height": 1000
        },
        "id": "6obIsWZiRTDv",
        "outputId": "13f36c1e-6c87-41e0-ee1f-d07b08aadfa3"
      },
      "execution_count": 37,
      "outputs": [
        {
          "output_type": "stream",
          "name": "stderr",
          "text": [
            "/usr/local/lib/python3.7/dist-packages/sklearn/manifold/_t_sne.py:783: FutureWarning: The default initialization in TSNE will change from 'random' to 'pca' in 1.2.\n",
            "  FutureWarning,\n",
            "/usr/local/lib/python3.7/dist-packages/sklearn/manifold/_t_sne.py:793: FutureWarning: The default learning rate in TSNE will change from 200.0 to 'auto' in 1.2.\n",
            "  FutureWarning,\n"
          ]
        },
        {
          "output_type": "stream",
          "name": "stdout",
          "text": [
            "[t-SNE] Computing 121 nearest neighbors...\n",
            "[t-SNE] Indexed 1000 samples in 0.010s...\n",
            "[t-SNE] Computed neighbors for 1000 samples in 0.463s...\n",
            "[t-SNE] Computed conditional probabilities for sample 1000 / 1000\n",
            "[t-SNE] Mean sigma: 0.195172\n",
            "[t-SNE] KL divergence after 250 iterations with early exaggeration: 84.785675\n",
            "[t-SNE] KL divergence after 300 iterations: 2.813463\n"
          ]
        },
        {
          "output_type": "display_data",
          "data": {
            "text/plain": [
              "<Figure size 1600x1000 with 1 Axes>"
            ],
            "image/png": "[encoded data removed]"
          },
          "metadata": {}
        }
      ]
    }
  ]
}