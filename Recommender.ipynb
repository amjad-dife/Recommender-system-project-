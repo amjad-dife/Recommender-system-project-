{
  "nbformat": 4,
  "nbformat_minor": 0,
  "metadata": {
    "colab": {
      "name": "Group8_Recommender.ipynb",
      "provenance": [],
      "collapsed_sections": [
        "0MrkoaIEUzOK",
        "rKqxr5EuU6xi",
        "vcfVXnLAUod4",
        "tADoXdhZZ9ce",
        "wWzISvW3wXNV",
        "yTv-1CbOV6RF",
        "vPuvjnC3W3f9",
        "gixFy0VmA6fT",
        "JWJThQPwoBtC",
        "a-FdhY4OH4Iw",
        "vI0TRS9hKY8Q"
      ]
    },
    "kernelspec": {
      "name": "python3",
      "display_name": "Python 3"
    },
    "language_info": {
      "name": "python"
    }
  },
  "cells": [
    {
      "cell_type": "code",
      "source": [
        "from google.colab import drive\n",
        "drive.mount('/content/drive')"
      ],
      "metadata": {
        "colab": {
          "base_uri": "https://localhost:8080/"
        },
        "id": "FIJPo2azXNIF",
        "outputId": "32fc95ea-bc59-4c3c-e47b-1b62b85dc42d"
      },
      "execution_count": null,
      "outputs": [
        {
          "output_type": "stream",
          "name": "stdout",
          "text": [
            "Mounted at /content/drive\n"
          ]
        }
      ]
    },
    {
      "cell_type": "code",
      "execution_count": null,
      "metadata": {
        "colab": {
          "base_uri": "https://localhost:8080/"
        },
        "id": "Y5yczGfUk6OF",
        "outputId": "fbb99856-ed4c-448e-8951-ca67ccaf0479"
      },
      "outputs": [
        {
          "output_type": "execute_result",
          "data": {
            "text/plain": [
              "4691062433"
            ]
          },
          "metadata": {},
          "execution_count": 2
        }
      ],
      "source": [
        "import requests\n",
        "url = 'http://snap.stanford.edu/data/amazon/Books.txt.gz'\n",
        "r = requests.get(url, allow_redirects=True)\n",
        "open('/content/drive/MyDrive/NLP/Books.txt.gz', 'wb').write(r.content)"
      ]
    },
    {
      "cell_type": "code",
      "source": [
        "%cd /content/drive/MyDrive/NLP"
      ],
      "metadata": {
        "colab": {
          "base_uri": "https://localhost:8080/"
        },
        "id": "PzgxSI8Cm6wl",
        "outputId": "abc794bd-fbac-45c1-c198-94797fb290ac"
      },
      "execution_count": null,
      "outputs": [
        {
          "output_type": "stream",
          "name": "stdout",
          "text": [
            "/content/drive/MyDrive/NLP\n"
          ]
        }
      ]
    },
    {
      "cell_type": "code",
      "source": [
        "!ls"
      ],
      "metadata": {
        "colab": {
          "base_uri": "https://localhost:8080/"
        },
        "id": "xJY4bOrLoA2e",
        "outputId": "b4c9cd18-2f2a-4b85-c30e-ef1baec5835b"
      },
      "execution_count": null,
      "outputs": [
        {
          "output_type": "stream",
          "name": "stdout",
          "text": [
            "book.csv  Books.txt.gz\tweightedData\n"
          ]
        }
      ]
    },
    {
      "cell_type": "markdown",
      "source": [
        "# Import Libraries"
      ],
      "metadata": {
        "id": "CkkzwDiKUNaJ"
      }
    },
    {
      "cell_type": "code",
      "source": [
        "import gzip\n",
        "import re\n",
        "from tqdm import tqdm\n",
        "import pandas as pd\n",
        "import nltk\n",
        "import numpy as np\n",
        "import matplotlib.pyplot as plt \n",
        "import seaborn as sns\n",
        "from sklearn.feature_extraction.text import TfidfVectorizer\n",
        "from sklearn.mixture import GaussianMixture\n",
        "from sklearn.cluster import KMeans\n",
        "from sklearn.metrics import cohen_kappa_score\n",
        "from sklearn.metrics import silhouette_score\n",
        "from sklearn.metrics import ConfusionMatrixDisplay\n",
        "from collections import Counter  # to get the most common words in a string \n",
        "from sklearn.svm import SVC\n",
        "from sklearn.naive_bayes import MultinomialNB\n",
        "from sklearn.model_selection import train_test_split\n",
        "from sklearn.linear_model import LogisticRegression\n",
        "from sklearn.ensemble import RandomForestClassifier\n",
        "from wordcloud import WordCloud\n",
        "from imblearn.under_sampling import RandomUnderSampler\n",
        "from sklearn.utils import resample\n",
        "\n",
        "vocab = Counter()\n",
        "sns.reset_defaults()"
      ],
      "metadata": {
        "id": "w50S_rZHnC7N"
      },
      "execution_count": null,
      "outputs": []
    },
    {
      "cell_type": "markdown",
      "source": [
        "# Load the data"
      ],
      "metadata": {
        "id": "s4ISbWLQUSYx"
      }
    },
    {
      "cell_type": "code",
      "source": [
        "def parse(filename):\n",
        "  f = gzip.open(filename, 'r')\n",
        "  entry = {}\n",
        "  for l in f:\n",
        "    l = l.decode(\"ascii\")\n",
        "    l = l.strip()\n",
        "    colonPos = l.find(':')\n",
        "    if colonPos == -1:\n",
        "      yield entry\n",
        "      entry = {}\n",
        "      continue\n",
        "    eName = l[:colonPos]\n",
        "    rest = l[colonPos+2:]\n",
        "    entry[eName] = rest\n",
        "  yield entry"
      ],
      "metadata": {
        "id": "LVlYUTh4m0K-"
      },
      "execution_count": null,
      "outputs": []
    },
    {
      "cell_type": "code",
      "source": [
        "dict = []\n",
        "reviews_num = 0\n",
        "for e in tqdm(parse(\"Books.txt.gz\")):\n",
        "  dict.append(e)\n",
        "  reviews_num += 1\n",
        "  if reviews_num==300000:\n",
        "    break"
      ],
      "metadata": {
        "colab": {
          "base_uri": "https://localhost:8080/"
        },
        "id": "LYmpKykk3hVa",
        "outputId": "a31f299e-4f87-4e63-91a1-b4577375426a"
      },
      "execution_count": null,
      "outputs": [
        {
          "output_type": "stream",
          "name": "stderr",
          "text": [
            "299999it [00:19, 15071.24it/s]\n"
          ]
        }
      ]
    },
    {
      "cell_type": "code",
      "source": [
        "df=pd.DataFrame(dict)"
      ],
      "metadata": {
        "id": "Gy7TjM0C1uHf"
      },
      "execution_count": null,
      "outputs": []
    },
    {
      "cell_type": "code",
      "source": [
        "df.head()"
      ],
      "metadata": {
        "colab": {
          "base_uri": "https://localhost:8080/",
          "height": 337
        },
        "id": "dfikCFm817kT",
        "outputId": "3c9bbaf8-15f8-435a-8040-2cd0e2155942"
      },
      "execution_count": null,
      "outputs": [
        {
          "output_type": "execute_result",
          "data": {
            "text/plain": [
              "  product/productId                   product/title product/price  \\\n",
              "0        1882931173  Its Only Art If Its Well Hung!       unknown   \n",
              "1        0826414346        Dr. Seuss: American Icon       unknown   \n",
              "2        0826414346        Dr. Seuss: American Icon       unknown   \n",
              "3        0826414346        Dr. Seuss: American Icon       unknown   \n",
              "4        0826414346        Dr. Seuss: American Icon       unknown   \n",
              "\n",
              "    review/userId                  review/profileName review/helpfulness  \\\n",
              "0   AVCGYZL8FQQTD               Jim of Oz \"jim-of-oz\"                7/7   \n",
              "1  A30TK6U7DNS82R                       Kevin Killian              10/10   \n",
              "2  A3UH4UZ4RSVO82                        John Granger              10/11   \n",
              "3  A2MVUWT453QH61  Roy E. Perry \"amateur philosopher\"                7/7   \n",
              "4  A22X4XUPKF66MR     D. H. Richards \"ninthwavestore\"                3/3   \n",
              "\n",
              "  review/score review/time                                   review/summary  \\\n",
              "0          4.0   940636800           Nice collection of Julie Strain images   \n",
              "1          5.0  1095724800                                Really Enjoyed It   \n",
              "2          5.0  1078790400  Essential for every personal and Public Library   \n",
              "3          4.0  1090713600  Phlip Nel gives silly Seuss a serious treatment   \n",
              "4          4.0  1107993600                           Good academic overview   \n",
              "\n",
              "                                         review/text  \n",
              "0  This is only for Julie Strain fans. It's a col...  \n",
              "1  I don't care much for Dr. Seuss but after read...  \n",
              "2  If people become the books they read and if \"t...  \n",
              "3  Theodore Seuss Geisel (1904-1991), aka &quot;D...  \n",
              "4  Philip Nel - Dr. Seuss: American IconThis is b...  "
            ],
            "text/html": [
              "\n",
              "  <div id=\"df-6226386e-ca5b-4921-b5d0-a3b2e21683cf\">\n",
              "    <div class=\"colab-df-container\">\n",
              "      <div>\n",
              "<style scoped>\n",
              "    .dataframe tbody tr th:only-of-type {\n",
              "        vertical-align: middle;\n",
              "    }\n",
              "\n",
              "    .dataframe tbody tr th {\n",
              "        vertical-align: top;\n",
              "    }\n",
              "\n",
              "    .dataframe thead th {\n",
              "        text-align: right;\n",
              "    }\n",
              "</style>\n",
              "<table border=\"1\" class=\"dataframe\">\n",
              "  <thead>\n",
              "    <tr style=\"text-align: right;\">\n",
              "      <th></th>\n",
              "      <th>product/productId</th>\n",
              "      <th>product/title</th>\n",
              "      <th>product/price</th>\n",
              "      <th>review/userId</th>\n",
              "      <th>review/profileName</th>\n",
              "      <th>review/helpfulness</th>\n",
              "      <th>review/score</th>\n",
              "      <th>review/time</th>\n",
              "      <th>review/summary</th>\n",
              "      <th>review/text</th>\n",
              "    </tr>\n",
              "  </thead>\n",
              "  <tbody>\n",
              "    <tr>\n",
              "      <th>0</th>\n",
              "      <td>1882931173</td>\n",
              "      <td>Its Only Art If Its Well Hung!</td>\n",
              "      <td>unknown</td>\n",
              "      <td>AVCGYZL8FQQTD</td>\n",
              "      <td>Jim of Oz \"jim-of-oz\"</td>\n",
              "      <td>7/7</td>\n",
              "      <td>4.0</td>\n",
              "      <td>940636800</td>\n",
              "      <td>Nice collection of Julie Strain images</td>\n",
              "      <td>This is only for Julie Strain fans. It's a col...</td>\n",
              "    </tr>\n",
              "    <tr>\n",
              "      <th>1</th>\n",
              "      <td>0826414346</td>\n",
              "      <td>Dr. Seuss: American Icon</td>\n",
              "      <td>unknown</td>\n",
              "      <td>A30TK6U7DNS82R</td>\n",
              "      <td>Kevin Killian</td>\n",
              "      <td>10/10</td>\n",
              "      <td>5.0</td>\n",
              "      <td>1095724800</td>\n",
              "      <td>Really Enjoyed It</td>\n",
              "      <td>I don't care much for Dr. Seuss but after read...</td>\n",
              "    </tr>\n",
              "    <tr>\n",
              "      <th>2</th>\n",
              "      <td>0826414346</td>\n",
              "      <td>Dr. Seuss: American Icon</td>\n",
              "      <td>unknown</td>\n",
              "      <td>A3UH4UZ4RSVO82</td>\n",
              "      <td>John Granger</td>\n",
              "      <td>10/11</td>\n",
              "      <td>5.0</td>\n",
              "      <td>1078790400</td>\n",
              "      <td>Essential for every personal and Public Library</td>\n",
              "      <td>If people become the books they read and if \"t...</td>\n",
              "    </tr>\n",
              "    <tr>\n",
              "      <th>3</th>\n",
              "      <td>0826414346</td>\n",
              "      <td>Dr. Seuss: American Icon</td>\n",
              "      <td>unknown</td>\n",
              "      <td>A2MVUWT453QH61</td>\n",
              "      <td>Roy E. Perry \"amateur philosopher\"</td>\n",
              "      <td>7/7</td>\n",
              "      <td>4.0</td>\n",
              "      <td>1090713600</td>\n",
              "      <td>Phlip Nel gives silly Seuss a serious treatment</td>\n",
              "      <td>Theodore Seuss Geisel (1904-1991), aka &amp;quot;D...</td>\n",
              "    </tr>\n",
              "    <tr>\n",
              "      <th>4</th>\n",
              "      <td>0826414346</td>\n",
              "      <td>Dr. Seuss: American Icon</td>\n",
              "      <td>unknown</td>\n",
              "      <td>A22X4XUPKF66MR</td>\n",
              "      <td>D. H. Richards \"ninthwavestore\"</td>\n",
              "      <td>3/3</td>\n",
              "      <td>4.0</td>\n",
              "      <td>1107993600</td>\n",
              "      <td>Good academic overview</td>\n",
              "      <td>Philip Nel - Dr. Seuss: American IconThis is b...</td>\n",
              "    </tr>\n",
              "  </tbody>\n",
              "</table>\n",
              "</div>\n",
              "      <button class=\"colab-df-convert\" onclick=\"convertToInteractive('df-6226386e-ca5b-4921-b5d0-a3b2e21683cf')\"\n",
              "              title=\"Convert this dataframe to an interactive table.\"\n",
              "              style=\"display:none;\">\n",
              "        \n",
              "  <svg xmlns=\"http://www.w3.org/2000/svg\" height=\"24px\"viewBox=\"0 0 24 24\"\n",
              "       width=\"24px\">\n",
              "    <path d=\"M0 0h24v24H0V0z\" fill=\"none\"/>\n",
              "    <path d=\"M18.56 5.44l.94 2.06.94-2.06 2.06-.94-2.06-.94-.94-2.06-.94 2.06-2.06.94zm-11 1L8.5 8.5l.94-2.06 2.06-.94-2.06-.94L8.5 2.5l-.94 2.06-2.06.94zm10 10l.94 2.06.94-2.06 2.06-.94-2.06-.94-.94-2.06-.94 2.06-2.06.94z\"/><path d=\"M17.41 7.96l-1.37-1.37c-.4-.4-.92-.59-1.43-.59-.52 0-1.04.2-1.43.59L10.3 9.45l-7.72 7.72c-.78.78-.78 2.05 0 2.83L4 21.41c.39.39.9.59 1.41.59.51 0 1.02-.2 1.41-.59l7.78-7.78 2.81-2.81c.8-.78.8-2.07 0-2.86zM5.41 20L4 18.59l7.72-7.72 1.47 1.35L5.41 20z\"/>\n",
              "  </svg>\n",
              "      </button>\n",
              "      \n",
              "  <style>\n",
              "    .colab-df-container {\n",
              "      display:flex;\n",
              "      flex-wrap:wrap;\n",
              "      gap: 12px;\n",
              "    }\n",
              "\n",
              "    .colab-df-convert {\n",
              "      background-color: #E8F0FE;\n",
              "      border: none;\n",
              "      border-radius: 50%;\n",
              "      cursor: pointer;\n",
              "      display: none;\n",
              "      fill: #1967D2;\n",
              "      height: 32px;\n",
              "      padding: 0 0 0 0;\n",
              "      width: 32px;\n",
              "    }\n",
              "\n",
              "    .colab-df-convert:hover {\n",
              "      background-color: #E2EBFA;\n",
              "      box-shadow: 0px 1px 2px rgba(60, 64, 67, 0.3), 0px 1px 3px 1px rgba(60, 64, 67, 0.15);\n",
              "      fill: #174EA6;\n",
              "    }\n",
              "\n",
              "    [theme=dark] .colab-df-convert {\n",
              "      background-color: #3B4455;\n",
              "      fill: #D2E3FC;\n",
              "    }\n",
              "\n",
              "    [theme=dark] .colab-df-convert:hover {\n",
              "      background-color: #434B5C;\n",
              "      box-shadow: 0px 1px 3px 1px rgba(0, 0, 0, 0.15);\n",
              "      filter: drop-shadow(0px 1px 2px rgba(0, 0, 0, 0.3));\n",
              "      fill: #FFFFFF;\n",
              "    }\n",
              "  </style>\n",
              "\n",
              "      <script>\n",
              "        const buttonEl =\n",
              "          document.querySelector('#df-6226386e-ca5b-4921-b5d0-a3b2e21683cf button.colab-df-convert');\n",
              "        buttonEl.style.display =\n",
              "          google.colab.kernel.accessAllowed ? 'block' : 'none';\n",
              "\n",
              "        async function convertToInteractive(key) {\n",
              "          const element = document.querySelector('#df-6226386e-ca5b-4921-b5d0-a3b2e21683cf');\n",
              "          const dataTable =\n",
              "            await google.colab.kernel.invokeFunction('convertToInteractive',\n",
              "                                                     [key], {});\n",
              "          if (!dataTable) return;\n",
              "\n",
              "          const docLinkHtml = 'Like what you see? Visit the ' +\n",
              "            '<a target=\"_blank\" href=https://colab.research.google.com/notebooks/data_table.ipynb>data table notebook</a>'\n",
              "            + ' to learn more about interactive tables.';\n",
              "          element.innerHTML = '';\n",
              "          dataTable['output_type'] = 'display_data';\n",
              "          await google.colab.output.renderOutput(dataTable, element);\n",
              "          const docLink = document.createElement('div');\n",
              "          docLink.innerHTML = docLinkHtml;\n",
              "          element.appendChild(docLink);\n",
              "        }\n",
              "      </script>\n",
              "    </div>\n",
              "  </div>\n",
              "  "
            ]
          },
          "metadata": {},
          "execution_count": 9
        }
      ]
    },
    {
      "cell_type": "markdown",
      "source": [
        "# Data Preparation"
      ],
      "metadata": {
        "id": "A2BF9efbUWaG"
      }
    },
    {
      "cell_type": "code",
      "source": [
        "df.info()"
      ],
      "metadata": {
        "colab": {
          "base_uri": "https://localhost:8080/"
        },
        "id": "GkHQo_r34ju0",
        "outputId": "bfbb4833-3e81-41c9-bea2-e50e9b00a5be"
      },
      "execution_count": null,
      "outputs": [
        {
          "output_type": "stream",
          "name": "stdout",
          "text": [
            "<class 'pandas.core.frame.DataFrame'>\n",
            "RangeIndex: 300000 entries, 0 to 299999\n",
            "Data columns (total 10 columns):\n",
            " #   Column              Non-Null Count   Dtype \n",
            "---  ------              --------------   ----- \n",
            " 0   product/productId   300000 non-null  object\n",
            " 1   product/title       300000 non-null  object\n",
            " 2   product/price       300000 non-null  object\n",
            " 3   review/userId       300000 non-null  object\n",
            " 4   review/profileName  300000 non-null  object\n",
            " 5   review/helpfulness  300000 non-null  object\n",
            " 6   review/score        300000 non-null  object\n",
            " 7   review/time         300000 non-null  object\n",
            " 8   review/summary      300000 non-null  object\n",
            " 9   review/text         300000 non-null  object\n",
            "dtypes: object(10)\n",
            "memory usage: 22.9+ MB\n"
          ]
        }
      ]
    },
    {
      "cell_type": "code",
      "source": [
        "df['product/title'].value_counts()"
      ],
      "metadata": {
        "colab": {
          "base_uri": "https://localhost:8080/"
        },
        "id": "yeb5XnBt4lQh",
        "outputId": "e51f1664-7c30-4a90-8572-6e1831cbe447"
      },
      "execution_count": null,
      "outputs": [
        {
          "output_type": "execute_result",
          "data": {
            "text/plain": [
              "The Hobbitt, or there and back again; illustrated by the author.    4420\n",
              "The Giver                                                           3822\n",
              "Great Expectations                                                  3295\n",
              "Fahrenheit 451                                                      3287\n",
              "ERAGON: INHERITANCE, BOOK ONE.                                      3137\n",
              "                                                                    ... \n",
              "Consider the lilies                                                    1\n",
              "Projects Grudge and Bluebook Reports 1-12                              1\n",
              "Principles of Polymer Processing                                       1\n",
              "Two people,: A novel                                                   1\n",
              "Its Only Art If Its Well Hung!                                         1\n",
              "Name: product/title, Length: 21170, dtype: int64"
            ]
          },
          "metadata": {},
          "execution_count": 11
        }
      ]
    },
    {
      "cell_type": "markdown",
      "source": [
        "## Remove extra columns"
      ],
      "metadata": {
        "id": "m-15Vb0OUrdo"
      }
    },
    {
      "cell_type": "code",
      "source": [
        "df = df.drop(['product/productId', 'product/price', 'review/profileName', 'review/time','review/summary','review/helpfulness'], axis=1)"
      ],
      "metadata": {
        "id": "tqsWCOY3AZuA"
      },
      "execution_count": null,
      "outputs": []
    },
    {
      "cell_type": "code",
      "source": [
        "df.head()"
      ],
      "metadata": {
        "id": "xKzZl-pM43Lg",
        "colab": {
          "base_uri": "https://localhost:8080/",
          "height": 206
        },
        "outputId": "28adcc53-c7e3-48d7-ca6d-2d81596fcf1a"
      },
      "execution_count": null,
      "outputs": [
        {
          "output_type": "execute_result",
          "data": {
            "text/plain": [
              "                    product/title   review/userId review/score  \\\n",
              "0  Its Only Art If Its Well Hung!   AVCGYZL8FQQTD          4.0   \n",
              "1        Dr. Seuss: American Icon  A30TK6U7DNS82R          5.0   \n",
              "2        Dr. Seuss: American Icon  A3UH4UZ4RSVO82          5.0   \n",
              "3        Dr. Seuss: American Icon  A2MVUWT453QH61          4.0   \n",
              "4        Dr. Seuss: American Icon  A22X4XUPKF66MR          4.0   \n",
              "\n",
              "                                         review/text  \n",
              "0  This is only for Julie Strain fans. It's a col...  \n",
              "1  I don't care much for Dr. Seuss but after read...  \n",
              "2  If people become the books they read and if \"t...  \n",
              "3  Theodore Seuss Geisel (1904-1991), aka &quot;D...  \n",
              "4  Philip Nel - Dr. Seuss: American IconThis is b...  "
            ],
            "text/html": [
              "\n",
              "  <div id=\"df-c5dbcbbc-f816-4bb7-806c-06015a38919e\">\n",
              "    <div class=\"colab-df-container\">\n",
              "      <div>\n",
              "<style scoped>\n",
              "    .dataframe tbody tr th:only-of-type {\n",
              "        vertical-align: middle;\n",
              "    }\n",
              "\n",
              "    .dataframe tbody tr th {\n",
              "        vertical-align: top;\n",
              "    }\n",
              "\n",
              "    .dataframe thead th {\n",
              "        text-align: right;\n",
              "    }\n",
              "</style>\n",
              "<table border=\"1\" class=\"dataframe\">\n",
              "  <thead>\n",
              "    <tr style=\"text-align: right;\">\n",
              "      <th></th>\n",
              "      <th>product/title</th>\n",
              "      <th>review/userId</th>\n",
              "      <th>review/score</th>\n",
              "      <th>review/text</th>\n",
              "    </tr>\n",
              "  </thead>\n",
              "  <tbody>\n",
              "    <tr>\n",
              "      <th>0</th>\n",
              "      <td>Its Only Art If Its Well Hung!</td>\n",
              "      <td>AVCGYZL8FQQTD</td>\n",
              "      <td>4.0</td>\n",
              "      <td>This is only for Julie Strain fans. It's a col...</td>\n",
              "    </tr>\n",
              "    <tr>\n",
              "      <th>1</th>\n",
              "      <td>Dr. Seuss: American Icon</td>\n",
              "      <td>A30TK6U7DNS82R</td>\n",
              "      <td>5.0</td>\n",
              "      <td>I don't care much for Dr. Seuss but after read...</td>\n",
              "    </tr>\n",
              "    <tr>\n",
              "      <th>2</th>\n",
              "      <td>Dr. Seuss: American Icon</td>\n",
              "      <td>A3UH4UZ4RSVO82</td>\n",
              "      <td>5.0</td>\n",
              "      <td>If people become the books they read and if \"t...</td>\n",
              "    </tr>\n",
              "    <tr>\n",
              "      <th>3</th>\n",
              "      <td>Dr. Seuss: American Icon</td>\n",
              "      <td>A2MVUWT453QH61</td>\n",
              "      <td>4.0</td>\n",
              "      <td>Theodore Seuss Geisel (1904-1991), aka &amp;quot;D...</td>\n",
              "    </tr>\n",
              "    <tr>\n",
              "      <th>4</th>\n",
              "      <td>Dr. Seuss: American Icon</td>\n",
              "      <td>A22X4XUPKF66MR</td>\n",
              "      <td>4.0</td>\n",
              "      <td>Philip Nel - Dr. Seuss: American IconThis is b...</td>\n",
              "    </tr>\n",
              "  </tbody>\n",
              "</table>\n",
              "</div>\n",
              "      <button class=\"colab-df-convert\" onclick=\"convertToInteractive('df-c5dbcbbc-f816-4bb7-806c-06015a38919e')\"\n",
              "              title=\"Convert this dataframe to an interactive table.\"\n",
              "              style=\"display:none;\">\n",
              "        \n",
              "  <svg xmlns=\"http://www.w3.org/2000/svg\" height=\"24px\"viewBox=\"0 0 24 24\"\n",
              "       width=\"24px\">\n",
              "    <path d=\"M0 0h24v24H0V0z\" fill=\"none\"/>\n",
              "    <path d=\"M18.56 5.44l.94 2.06.94-2.06 2.06-.94-2.06-.94-.94-2.06-.94 2.06-2.06.94zm-11 1L8.5 8.5l.94-2.06 2.06-.94-2.06-.94L8.5 2.5l-.94 2.06-2.06.94zm10 10l.94 2.06.94-2.06 2.06-.94-2.06-.94-.94-2.06-.94 2.06-2.06.94z\"/><path d=\"M17.41 7.96l-1.37-1.37c-.4-.4-.92-.59-1.43-.59-.52 0-1.04.2-1.43.59L10.3 9.45l-7.72 7.72c-.78.78-.78 2.05 0 2.83L4 21.41c.39.39.9.59 1.41.59.51 0 1.02-.2 1.41-.59l7.78-7.78 2.81-2.81c.8-.78.8-2.07 0-2.86zM5.41 20L4 18.59l7.72-7.72 1.47 1.35L5.41 20z\"/>\n",
              "  </svg>\n",
              "      </button>\n",
              "      \n",
              "  <style>\n",
              "    .colab-df-container {\n",
              "      display:flex;\n",
              "      flex-wrap:wrap;\n",
              "      gap: 12px;\n",
              "    }\n",
              "\n",
              "    .colab-df-convert {\n",
              "      background-color: #E8F0FE;\n",
              "      border: none;\n",
              "      border-radius: 50%;\n",
              "      cursor: pointer;\n",
              "      display: none;\n",
              "      fill: #1967D2;\n",
              "      height: 32px;\n",
              "      padding: 0 0 0 0;\n",
              "      width: 32px;\n",
              "    }\n",
              "\n",
              "    .colab-df-convert:hover {\n",
              "      background-color: #E2EBFA;\n",
              "      box-shadow: 0px 1px 2px rgba(60, 64, 67, 0.3), 0px 1px 3px 1px rgba(60, 64, 67, 0.15);\n",
              "      fill: #174EA6;\n",
              "    }\n",
              "\n",
              "    [theme=dark] .colab-df-convert {\n",
              "      background-color: #3B4455;\n",
              "      fill: #D2E3FC;\n",
              "    }\n",
              "\n",
              "    [theme=dark] .colab-df-convert:hover {\n",
              "      background-color: #434B5C;\n",
              "      box-shadow: 0px 1px 3px 1px rgba(0, 0, 0, 0.15);\n",
              "      filter: drop-shadow(0px 1px 2px rgba(0, 0, 0, 0.3));\n",
              "      fill: #FFFFFF;\n",
              "    }\n",
              "  </style>\n",
              "\n",
              "      <script>\n",
              "        const buttonEl =\n",
              "          document.querySelector('#df-c5dbcbbc-f816-4bb7-806c-06015a38919e button.colab-df-convert');\n",
              "        buttonEl.style.display =\n",
              "          google.colab.kernel.accessAllowed ? 'block' : 'none';\n",
              "\n",
              "        async function convertToInteractive(key) {\n",
              "          const element = document.querySelector('#df-c5dbcbbc-f816-4bb7-806c-06015a38919e');\n",
              "          const dataTable =\n",
              "            await google.colab.kernel.invokeFunction('convertToInteractive',\n",
              "                                                     [key], {});\n",
              "          if (!dataTable) return;\n",
              "\n",
              "          const docLinkHtml = 'Like what you see? Visit the ' +\n",
              "            '<a target=\"_blank\" href=https://colab.research.google.com/notebooks/data_table.ipynb>data table notebook</a>'\n",
              "            + ' to learn more about interactive tables.';\n",
              "          element.innerHTML = '';\n",
              "          dataTable['output_type'] = 'display_data';\n",
              "          await google.colab.output.renderOutput(dataTable, element);\n",
              "          const docLink = document.createElement('div');\n",
              "          docLink.innerHTML = docLinkHtml;\n",
              "          element.appendChild(docLink);\n",
              "        }\n",
              "      </script>\n",
              "    </div>\n",
              "  </div>\n",
              "  "
            ]
          },
          "metadata": {},
          "execution_count": 13
        }
      ]
    },
    {
      "cell_type": "markdown",
      "source": [
        "## Renaming columns"
      ],
      "metadata": {
        "id": "0MrkoaIEUzOK"
      }
    },
    {
      "cell_type": "code",
      "source": [
        "df.columns = ['title', 'userID', 'rating', 'review']"
      ],
      "metadata": {
        "id": "8RQQkaBXFbNw"
      },
      "execution_count": null,
      "outputs": []
    },
    {
      "cell_type": "code",
      "source": [
        "df.head()"
      ],
      "metadata": {
        "id": "QE3FMH3KFufQ",
        "colab": {
          "base_uri": "https://localhost:8080/"
        },
        "outputId": "9e35b0e2-b6f3-46d1-89b9-3b651f4e94e0"
      },
      "execution_count": null,
      "outputs": [
        {
          "output_type": "execute_result",
          "data": {
            "text/plain": [
              "                            title          userID rating  \\\n",
              "0  Its Only Art If Its Well Hung!   AVCGYZL8FQQTD    4.0   \n",
              "1        Dr. Seuss: American Icon  A30TK6U7DNS82R    5.0   \n",
              "2        Dr. Seuss: American Icon  A3UH4UZ4RSVO82    5.0   \n",
              "3        Dr. Seuss: American Icon  A2MVUWT453QH61    4.0   \n",
              "4        Dr. Seuss: American Icon  A22X4XUPKF66MR    4.0   \n",
              "\n",
              "                                              review  \n",
              "0  This is only for Julie Strain fans. It's a col...  \n",
              "1  I don't care much for Dr. Seuss but after read...  \n",
              "2  If people become the books they read and if \"t...  \n",
              "3  Theodore Seuss Geisel (1904-1991), aka &quot;D...  \n",
              "4  Philip Nel - Dr. Seuss: American IconThis is b...  "
            ],
            "text/html": [
              "\n",
              "  <div id=\"df-e98b4ffb-4af5-485d-8791-d6df1518634b\">\n",
              "    <div class=\"colab-df-container\">\n",
              "      <div>\n",
              "<style scoped>\n",
              "    .dataframe tbody tr th:only-of-type {\n",
              "        vertical-align: middle;\n",
              "    }\n",
              "\n",
              "    .dataframe tbody tr th {\n",
              "        vertical-align: top;\n",
              "    }\n",
              "\n",
              "    .dataframe thead th {\n",
              "        text-align: right;\n",
              "    }\n",
              "</style>\n",
              "<table border=\"1\" class=\"dataframe\">\n",
              "  <thead>\n",
              "    <tr style=\"text-align: right;\">\n",
              "      <th></th>\n",
              "      <th>title</th>\n",
              "      <th>userID</th>\n",
              "      <th>rating</th>\n",
              "      <th>review</th>\n",
              "    </tr>\n",
              "  </thead>\n",
              "  <tbody>\n",
              "    <tr>\n",
              "      <th>0</th>\n",
              "      <td>Its Only Art If Its Well Hung!</td>\n",
              "      <td>AVCGYZL8FQQTD</td>\n",
              "      <td>4.0</td>\n",
              "      <td>This is only for Julie Strain fans. It's a col...</td>\n",
              "    </tr>\n",
              "    <tr>\n",
              "      <th>1</th>\n",
              "      <td>Dr. Seuss: American Icon</td>\n",
              "      <td>A30TK6U7DNS82R</td>\n",
              "      <td>5.0</td>\n",
              "      <td>I don't care much for Dr. Seuss but after read...</td>\n",
              "    </tr>\n",
              "    <tr>\n",
              "      <th>2</th>\n",
              "      <td>Dr. Seuss: American Icon</td>\n",
              "      <td>A3UH4UZ4RSVO82</td>\n",
              "      <td>5.0</td>\n",
              "      <td>If people become the books they read and if \"t...</td>\n",
              "    </tr>\n",
              "    <tr>\n",
              "      <th>3</th>\n",
              "      <td>Dr. Seuss: American Icon</td>\n",
              "      <td>A2MVUWT453QH61</td>\n",
              "      <td>4.0</td>\n",
              "      <td>Theodore Seuss Geisel (1904-1991), aka &amp;quot;D...</td>\n",
              "    </tr>\n",
              "    <tr>\n",
              "      <th>4</th>\n",
              "      <td>Dr. Seuss: American Icon</td>\n",
              "      <td>A22X4XUPKF66MR</td>\n",
              "      <td>4.0</td>\n",
              "      <td>Philip Nel - Dr. Seuss: American IconThis is b...</td>\n",
              "    </tr>\n",
              "  </tbody>\n",
              "</table>\n",
              "</div>\n",
              "      <button class=\"colab-df-convert\" onclick=\"convertToInteractive('df-e98b4ffb-4af5-485d-8791-d6df1518634b')\"\n",
              "              title=\"Convert this dataframe to an interactive table.\"\n",
              "              style=\"display:none;\">\n",
              "        \n",
              "  <svg xmlns=\"http://www.w3.org/2000/svg\" height=\"24px\"viewBox=\"0 0 24 24\"\n",
              "       width=\"24px\">\n",
              "    <path d=\"M0 0h24v24H0V0z\" fill=\"none\"/>\n",
              "    <path d=\"M18.56 5.44l.94 2.06.94-2.06 2.06-.94-2.06-.94-.94-2.06-.94 2.06-2.06.94zm-11 1L8.5 8.5l.94-2.06 2.06-.94-2.06-.94L8.5 2.5l-.94 2.06-2.06.94zm10 10l.94 2.06.94-2.06 2.06-.94-2.06-.94-.94-2.06-.94 2.06-2.06.94z\"/><path d=\"M17.41 7.96l-1.37-1.37c-.4-.4-.92-.59-1.43-.59-.52 0-1.04.2-1.43.59L10.3 9.45l-7.72 7.72c-.78.78-.78 2.05 0 2.83L4 21.41c.39.39.9.59 1.41.59.51 0 1.02-.2 1.41-.59l7.78-7.78 2.81-2.81c.8-.78.8-2.07 0-2.86zM5.41 20L4 18.59l7.72-7.72 1.47 1.35L5.41 20z\"/>\n",
              "  </svg>\n",
              "      </button>\n",
              "      \n",
              "  <style>\n",
              "    .colab-df-container {\n",
              "      display:flex;\n",
              "      flex-wrap:wrap;\n",
              "      gap: 12px;\n",
              "    }\n",
              "\n",
              "    .colab-df-convert {\n",
              "      background-color: #E8F0FE;\n",
              "      border: none;\n",
              "      border-radius: 50%;\n",
              "      cursor: pointer;\n",
              "      display: none;\n",
              "      fill: #1967D2;\n",
              "      height: 32px;\n",
              "      padding: 0 0 0 0;\n",
              "      width: 32px;\n",
              "    }\n",
              "\n",
              "    .colab-df-convert:hover {\n",
              "      background-color: #E2EBFA;\n",
              "      box-shadow: 0px 1px 2px rgba(60, 64, 67, 0.3), 0px 1px 3px 1px rgba(60, 64, 67, 0.15);\n",
              "      fill: #174EA6;\n",
              "    }\n",
              "\n",
              "    [theme=dark] .colab-df-convert {\n",
              "      background-color: #3B4455;\n",
              "      fill: #D2E3FC;\n",
              "    }\n",
              "\n",
              "    [theme=dark] .colab-df-convert:hover {\n",
              "      background-color: #434B5C;\n",
              "      box-shadow: 0px 1px 3px 1px rgba(0, 0, 0, 0.15);\n",
              "      filter: drop-shadow(0px 1px 2px rgba(0, 0, 0, 0.3));\n",
              "      fill: #FFFFFF;\n",
              "    }\n",
              "  </style>\n",
              "\n",
              "      <script>\n",
              "        const buttonEl =\n",
              "          document.querySelector('#df-e98b4ffb-4af5-485d-8791-d6df1518634b button.colab-df-convert');\n",
              "        buttonEl.style.display =\n",
              "          google.colab.kernel.accessAllowed ? 'block' : 'none';\n",
              "\n",
              "        async function convertToInteractive(key) {\n",
              "          const element = document.querySelector('#df-e98b4ffb-4af5-485d-8791-d6df1518634b');\n",
              "          const dataTable =\n",
              "            await google.colab.kernel.invokeFunction('convertToInteractive',\n",
              "                                                     [key], {});\n",
              "          if (!dataTable) return;\n",
              "\n",
              "          const docLinkHtml = 'Like what you see? Visit the ' +\n",
              "            '<a target=\"_blank\" href=https://colab.research.google.com/notebooks/data_table.ipynb>data table notebook</a>'\n",
              "            + ' to learn more about interactive tables.';\n",
              "          element.innerHTML = '';\n",
              "          dataTable['output_type'] = 'display_data';\n",
              "          await google.colab.output.renderOutput(dataTable, element);\n",
              "          const docLink = document.createElement('div');\n",
              "          docLink.innerHTML = docLinkHtml;\n",
              "          element.appendChild(docLink);\n",
              "        }\n",
              "      </script>\n",
              "    </div>\n",
              "  </div>\n",
              "  "
            ]
          },
          "metadata": {},
          "execution_count": 15
        }
      ]
    },
    {
      "cell_type": "markdown",
      "source": [
        "## Removing unknown users"
      ],
      "metadata": {
        "id": "rKqxr5EuU6xi"
      }
    },
    {
      "cell_type": "code",
      "source": [
        "df['userID'].value_counts()"
      ],
      "metadata": {
        "id": "Emrhw6c2TNxn",
        "colab": {
          "base_uri": "https://localhost:8080/"
        },
        "outputId": "224e67ef-c558-4167-f2c2-b65cde52c5f7"
      },
      "execution_count": null,
      "outputs": [
        {
          "output_type": "execute_result",
          "data": {
            "text/plain": [
              "unknown           57928\n",
              "A14OJS0VWMOSWO      595\n",
              "AFVQZQ8PW0L         348\n",
              "A1D2C0WDCSHUWZ      302\n",
              "A1X8VZWTOG8IS6      196\n",
              "                  ...  \n",
              "AVPNXVZ21A64I         1\n",
              "AMCIA92NNAPS0         1\n",
              "A1HJ8OG8HHT6FN        1\n",
              "A1N6UIVLKUF9WF        1\n",
              "A3C0QW38ODO7CX        1\n",
              "Name: userID, Length: 170482, dtype: int64"
            ]
          },
          "metadata": {},
          "execution_count": 16
        }
      ]
    },
    {
      "cell_type": "code",
      "source": [
        "df.shape"
      ],
      "metadata": {
        "id": "b5VMca2fVQ7S",
        "colab": {
          "base_uri": "https://localhost:8080/"
        },
        "outputId": "b8b21c8b-311f-4600-dac3-7caecc43cb0d"
      },
      "execution_count": null,
      "outputs": [
        {
          "output_type": "execute_result",
          "data": {
            "text/plain": [
              "(300000, 4)"
            ]
          },
          "metadata": {},
          "execution_count": 17
        }
      ]
    },
    {
      "cell_type": "code",
      "source": [
        "df = df.loc[df['userID'] != \"unknown\"]"
      ],
      "metadata": {
        "id": "oEEHz7MwVFg_"
      },
      "execution_count": null,
      "outputs": []
    },
    {
      "cell_type": "code",
      "source": [
        "df.shape"
      ],
      "metadata": {
        "id": "L8ZwcYhhVUOm",
        "colab": {
          "base_uri": "https://localhost:8080/"
        },
        "outputId": "a8e79da2-527e-4f44-8043-f0c919b8fda2"
      },
      "execution_count": null,
      "outputs": [
        {
          "output_type": "execute_result",
          "data": {
            "text/plain": [
              "(242072, 4)"
            ]
          },
          "metadata": {},
          "execution_count": 19
        }
      ]
    },
    {
      "cell_type": "markdown",
      "source": [
        "## Remove duplicates"
      ],
      "metadata": {
        "id": "vcfVXnLAUod4"
      }
    },
    {
      "cell_type": "code",
      "source": [
        "sum(df.duplicated())"
      ],
      "metadata": {
        "id": "JmpVoTUFDzhj",
        "colab": {
          "base_uri": "https://localhost:8080/"
        },
        "outputId": "cee19a2d-0477-4191-8771-3f1bcadf5ace"
      },
      "execution_count": null,
      "outputs": [
        {
          "output_type": "execute_result",
          "data": {
            "text/plain": [
              "9730"
            ]
          },
          "metadata": {},
          "execution_count": 20
        }
      ]
    },
    {
      "cell_type": "code",
      "source": [
        "df.drop_duplicates(inplace=True)"
      ],
      "metadata": {
        "id": "iGP4oTrUD1L6"
      },
      "execution_count": null,
      "outputs": []
    },
    {
      "cell_type": "code",
      "source": [
        "sum(df.duplicated())"
      ],
      "metadata": {
        "id": "DGLqW2C9EBPk",
        "colab": {
          "base_uri": "https://localhost:8080/"
        },
        "outputId": "24805028-f004-48d6-d158-e0c88d96c877"
      },
      "execution_count": null,
      "outputs": [
        {
          "output_type": "execute_result",
          "data": {
            "text/plain": [
              "0"
            ]
          },
          "metadata": {},
          "execution_count": 22
        }
      ]
    },
    {
      "cell_type": "code",
      "source": [
        "df.shape"
      ],
      "metadata": {
        "id": "n7EZDqAaG6sB",
        "colab": {
          "base_uri": "https://localhost:8080/"
        },
        "outputId": "f60de1c2-89fc-4289-d074-a8b609fb6953"
      },
      "execution_count": null,
      "outputs": [
        {
          "output_type": "execute_result",
          "data": {
            "text/plain": [
              "(232342, 4)"
            ]
          },
          "metadata": {},
          "execution_count": 23
        }
      ]
    },
    {
      "cell_type": "markdown",
      "source": [
        "## Mapping ratings to Positive, Negative, Neutral"
      ],
      "metadata": {
        "id": "tADoXdhZZ9ce"
      }
    },
    {
      "cell_type": "code",
      "source": [
        "class_mapper = {'1.0':'Negative','2.0':'Negative', '3.0':'Neutral', '4.0':'Positive', '5.0':'Positive'}"
      ],
      "metadata": {
        "id": "WrOy8xLYaJ4Q"
      },
      "execution_count": null,
      "outputs": []
    },
    {
      "cell_type": "code",
      "source": [
        "df['class'] = df['rating'].replace(class_mapper)"
      ],
      "metadata": {
        "id": "H3Mr2RGDaFNV"
      },
      "execution_count": null,
      "outputs": []
    },
    {
      "cell_type": "code",
      "source": [
        "df.head()"
      ],
      "metadata": {
        "id": "bimdEFUGavl2",
        "colab": {
          "base_uri": "https://localhost:8080/"
        },
        "outputId": "08ecbcde-f018-4cd7-a09d-ebd3f5b97551"
      },
      "execution_count": null,
      "outputs": [
        {
          "output_type": "execute_result",
          "data": {
            "text/plain": [
              "                            title          userID rating  \\\n",
              "0  Its Only Art If Its Well Hung!   AVCGYZL8FQQTD    4.0   \n",
              "1        Dr. Seuss: American Icon  A30TK6U7DNS82R    5.0   \n",
              "2        Dr. Seuss: American Icon  A3UH4UZ4RSVO82    5.0   \n",
              "3        Dr. Seuss: American Icon  A2MVUWT453QH61    4.0   \n",
              "4        Dr. Seuss: American Icon  A22X4XUPKF66MR    4.0   \n",
              "\n",
              "                                              review     class  \n",
              "0  This is only for Julie Strain fans. It's a col...  Positive  \n",
              "1  I don't care much for Dr. Seuss but after read...  Positive  \n",
              "2  If people become the books they read and if \"t...  Positive  \n",
              "3  Theodore Seuss Geisel (1904-1991), aka &quot;D...  Positive  \n",
              "4  Philip Nel - Dr. Seuss: American IconThis is b...  Positive  "
            ],
            "text/html": [
              "\n",
              "  <div id=\"df-40542659-e7bc-4614-b20a-332626960867\">\n",
              "    <div class=\"colab-df-container\">\n",
              "      <div>\n",
              "<style scoped>\n",
              "    .dataframe tbody tr th:only-of-type {\n",
              "        vertical-align: middle;\n",
              "    }\n",
              "\n",
              "    .dataframe tbody tr th {\n",
              "        vertical-align: top;\n",
              "    }\n",
              "\n",
              "    .dataframe thead th {\n",
              "        text-align: right;\n",
              "    }\n",
              "</style>\n",
              "<table border=\"1\" class=\"dataframe\">\n",
              "  <thead>\n",
              "    <tr style=\"text-align: right;\">\n",
              "      <th></th>\n",
              "      <th>title</th>\n",
              "      <th>userID</th>\n",
              "      <th>rating</th>\n",
              "      <th>review</th>\n",
              "      <th>class</th>\n",
              "    </tr>\n",
              "  </thead>\n",
              "  <tbody>\n",
              "    <tr>\n",
              "      <th>0</th>\n",
              "      <td>Its Only Art If Its Well Hung!</td>\n",
              "      <td>AVCGYZL8FQQTD</td>\n",
              "      <td>4.0</td>\n",
              "      <td>This is only for Julie Strain fans. It's a col...</td>\n",
              "      <td>Positive</td>\n",
              "    </tr>\n",
              "    <tr>\n",
              "      <th>1</th>\n",
              "      <td>Dr. Seuss: American Icon</td>\n",
              "      <td>A30TK6U7DNS82R</td>\n",
              "      <td>5.0</td>\n",
              "      <td>I don't care much for Dr. Seuss but after read...</td>\n",
              "      <td>Positive</td>\n",
              "    </tr>\n",
              "    <tr>\n",
              "      <th>2</th>\n",
              "      <td>Dr. Seuss: American Icon</td>\n",
              "      <td>A3UH4UZ4RSVO82</td>\n",
              "      <td>5.0</td>\n",
              "      <td>If people become the books they read and if \"t...</td>\n",
              "      <td>Positive</td>\n",
              "    </tr>\n",
              "    <tr>\n",
              "      <th>3</th>\n",
              "      <td>Dr. Seuss: American Icon</td>\n",
              "      <td>A2MVUWT453QH61</td>\n",
              "      <td>4.0</td>\n",
              "      <td>Theodore Seuss Geisel (1904-1991), aka &amp;quot;D...</td>\n",
              "      <td>Positive</td>\n",
              "    </tr>\n",
              "    <tr>\n",
              "      <th>4</th>\n",
              "      <td>Dr. Seuss: American Icon</td>\n",
              "      <td>A22X4XUPKF66MR</td>\n",
              "      <td>4.0</td>\n",
              "      <td>Philip Nel - Dr. Seuss: American IconThis is b...</td>\n",
              "      <td>Positive</td>\n",
              "    </tr>\n",
              "  </tbody>\n",
              "</table>\n",
              "</div>\n",
              "      <button class=\"colab-df-convert\" onclick=\"convertToInteractive('df-40542659-e7bc-4614-b20a-332626960867')\"\n",
              "              title=\"Convert this dataframe to an interactive table.\"\n",
              "              style=\"display:none;\">\n",
              "        \n",
              "  <svg xmlns=\"http://www.w3.org/2000/svg\" height=\"24px\"viewBox=\"0 0 24 24\"\n",
              "       width=\"24px\">\n",
              "    <path d=\"M0 0h24v24H0V0z\" fill=\"none\"/>\n",
              "    <path d=\"M18.56 5.44l.94 2.06.94-2.06 2.06-.94-2.06-.94-.94-2.06-.94 2.06-2.06.94zm-11 1L8.5 8.5l.94-2.06 2.06-.94-2.06-.94L8.5 2.5l-.94 2.06-2.06.94zm10 10l.94 2.06.94-2.06 2.06-.94-2.06-.94-.94-2.06-.94 2.06-2.06.94z\"/><path d=\"M17.41 7.96l-1.37-1.37c-.4-.4-.92-.59-1.43-.59-.52 0-1.04.2-1.43.59L10.3 9.45l-7.72 7.72c-.78.78-.78 2.05 0 2.83L4 21.41c.39.39.9.59 1.41.59.51 0 1.02-.2 1.41-.59l7.78-7.78 2.81-2.81c.8-.78.8-2.07 0-2.86zM5.41 20L4 18.59l7.72-7.72 1.47 1.35L5.41 20z\"/>\n",
              "  </svg>\n",
              "      </button>\n",
              "      \n",
              "  <style>\n",
              "    .colab-df-container {\n",
              "      display:flex;\n",
              "      flex-wrap:wrap;\n",
              "      gap: 12px;\n",
              "    }\n",
              "\n",
              "    .colab-df-convert {\n",
              "      background-color: #E8F0FE;\n",
              "      border: none;\n",
              "      border-radius: 50%;\n",
              "      cursor: pointer;\n",
              "      display: none;\n",
              "      fill: #1967D2;\n",
              "      height: 32px;\n",
              "      padding: 0 0 0 0;\n",
              "      width: 32px;\n",
              "    }\n",
              "\n",
              "    .colab-df-convert:hover {\n",
              "      background-color: #E2EBFA;\n",
              "      box-shadow: 0px 1px 2px rgba(60, 64, 67, 0.3), 0px 1px 3px 1px rgba(60, 64, 67, 0.15);\n",
              "      fill: #174EA6;\n",
              "    }\n",
              "\n",
              "    [theme=dark] .colab-df-convert {\n",
              "      background-color: #3B4455;\n",
              "      fill: #D2E3FC;\n",
              "    }\n",
              "\n",
              "    [theme=dark] .colab-df-convert:hover {\n",
              "      background-color: #434B5C;\n",
              "      box-shadow: 0px 1px 3px 1px rgba(0, 0, 0, 0.15);\n",
              "      filter: drop-shadow(0px 1px 2px rgba(0, 0, 0, 0.3));\n",
              "      fill: #FFFFFF;\n",
              "    }\n",
              "  </style>\n",
              "\n",
              "      <script>\n",
              "        const buttonEl =\n",
              "          document.querySelector('#df-40542659-e7bc-4614-b20a-332626960867 button.colab-df-convert');\n",
              "        buttonEl.style.display =\n",
              "          google.colab.kernel.accessAllowed ? 'block' : 'none';\n",
              "\n",
              "        async function convertToInteractive(key) {\n",
              "          const element = document.querySelector('#df-40542659-e7bc-4614-b20a-332626960867');\n",
              "          const dataTable =\n",
              "            await google.colab.kernel.invokeFunction('convertToInteractive',\n",
              "                                                     [key], {});\n",
              "          if (!dataTable) return;\n",
              "\n",
              "          const docLinkHtml = 'Like what you see? Visit the ' +\n",
              "            '<a target=\"_blank\" href=https://colab.research.google.com/notebooks/data_table.ipynb>data table notebook</a>'\n",
              "            + ' to learn more about interactive tables.';\n",
              "          element.innerHTML = '';\n",
              "          dataTable['output_type'] = 'display_data';\n",
              "          await google.colab.output.renderOutput(dataTable, element);\n",
              "          const docLink = document.createElement('div');\n",
              "          docLink.innerHTML = docLinkHtml;\n",
              "          element.appendChild(docLink);\n",
              "        }\n",
              "      </script>\n",
              "    </div>\n",
              "  </div>\n",
              "  "
            ]
          },
          "metadata": {},
          "execution_count": 26
        }
      ]
    },
    {
      "cell_type": "markdown",
      "source": [
        "## Choosing sample from the data that has balanced ratings"
      ],
      "metadata": {
        "id": "wWzISvW3wXNV"
      }
    },
    {
      "cell_type": "code",
      "source": [
        "df['class'].value_counts()"
      ],
      "metadata": {
        "id": "4-JdibRzwMJm",
        "colab": {
          "base_uri": "https://localhost:8080/"
        },
        "outputId": "3cc42b63-8adb-4641-9863-357d9077c467"
      },
      "execution_count": null,
      "outputs": [
        {
          "output_type": "execute_result",
          "data": {
            "text/plain": [
              "Positive    184426\n",
              "Negative     27083\n",
              "Neutral      20833\n",
              "Name: class, dtype: int64"
            ]
          },
          "metadata": {},
          "execution_count": 27
        }
      ]
    },
    {
      "cell_type": "code",
      "source": [
        "undersample = RandomUnderSampler(random_state=42)\n",
        "X_under, Y_under = undersample.fit_resample(df.iloc[:,:-1], df['class'])"
      ],
      "metadata": {
        "id": "5jyDV0E6xjMs"
      },
      "execution_count": null,
      "outputs": []
    },
    {
      "cell_type": "code",
      "source": [
        "df = pd.concat((X_under, Y_under), axis=1)"
      ],
      "metadata": {
        "id": "-ZXFlT-U2nIm"
      },
      "execution_count": null,
      "outputs": []
    },
    {
      "cell_type": "code",
      "source": [
        "df['class'].value_counts()"
      ],
      "metadata": {
        "id": "X3Z2M9HD2COD",
        "colab": {
          "base_uri": "https://localhost:8080/"
        },
        "outputId": "272b8783-7457-4564-b930-fc9dcaf65555"
      },
      "execution_count": null,
      "outputs": [
        {
          "output_type": "execute_result",
          "data": {
            "text/plain": [
              "Negative    20833\n",
              "Neutral     20833\n",
              "Positive    20833\n",
              "Name: class, dtype: int64"
            ]
          },
          "metadata": {},
          "execution_count": 30
        }
      ]
    },
    {
      "cell_type": "code",
      "source": [
        "df.head()"
      ],
      "metadata": {
        "id": "YuLTH8Sk2C5z",
        "colab": {
          "base_uri": "https://localhost:8080/"
        },
        "outputId": "0480da81-3f14-4702-f522-1b640c46fb8c"
      },
      "execution_count": null,
      "outputs": [
        {
          "output_type": "execute_result",
          "data": {
            "text/plain": [
              "                                               title          userID rating  \\\n",
              "0                               Superman: Birthright  A2KRFSS4JZNV13    1.0   \n",
              "1            Autobiography Of Benjamin Franklin, The  A1NOVRB88NSYGM    1.0   \n",
              "2  Beginning Visual Web Developer 2005 Express: F...  A2B4H6ZH0YTP3A    1.0   \n",
              "3  The Mystery of the Alamo Ghost (Real Kids, Rea...  A11RF2BUOE5JTG    2.0   \n",
              "4                           The Arab-Israeli Dilemma   AR3ES795DAQ0I    2.0   \n",
              "\n",
              "                                              review     class  \n",
              "0  ..but it's not, so the current 30 something su...  Negative  \n",
              "1  Sometimes pastiches work well, like Bach's B M...  Negative  \n",
              "2  THIS IS BAD NEWS!!!! LOTS OF INFO LEFT OUT, PI...  Negative  \n",
              "3  I am writing this review based on the words of...  Negative  \n",
              "4  I picked up this book looking for a solid and ...  Negative  "
            ],
            "text/html": [
              "\n",
              "  <div id=\"df-2f4a4519-3745-4548-ba26-050eef29a7ac\">\n",
              "    <div class=\"colab-df-container\">\n",
              "      <div>\n",
              "<style scoped>\n",
              "    .dataframe tbody tr th:only-of-type {\n",
              "        vertical-align: middle;\n",
              "    }\n",
              "\n",
              "    .dataframe tbody tr th {\n",
              "        vertical-align: top;\n",
              "    }\n",
              "\n",
              "    .dataframe thead th {\n",
              "        text-align: right;\n",
              "    }\n",
              "</style>\n",
              "<table border=\"1\" class=\"dataframe\">\n",
              "  <thead>\n",
              "    <tr style=\"text-align: right;\">\n",
              "      <th></th>\n",
              "      <th>title</th>\n",
              "      <th>userID</th>\n",
              "      <th>rating</th>\n",
              "      <th>review</th>\n",
              "      <th>class</th>\n",
              "    </tr>\n",
              "  </thead>\n",
              "  <tbody>\n",
              "    <tr>\n",
              "      <th>0</th>\n",
              "      <td>Superman: Birthright</td>\n",
              "      <td>A2KRFSS4JZNV13</td>\n",
              "      <td>1.0</td>\n",
              "      <td>..but it's not, so the current 30 something su...</td>\n",
              "      <td>Negative</td>\n",
              "    </tr>\n",
              "    <tr>\n",
              "      <th>1</th>\n",
              "      <td>Autobiography Of Benjamin Franklin, The</td>\n",
              "      <td>A1NOVRB88NSYGM</td>\n",
              "      <td>1.0</td>\n",
              "      <td>Sometimes pastiches work well, like Bach's B M...</td>\n",
              "      <td>Negative</td>\n",
              "    </tr>\n",
              "    <tr>\n",
              "      <th>2</th>\n",
              "      <td>Beginning Visual Web Developer 2005 Express: F...</td>\n",
              "      <td>A2B4H6ZH0YTP3A</td>\n",
              "      <td>1.0</td>\n",
              "      <td>THIS IS BAD NEWS!!!! LOTS OF INFO LEFT OUT, PI...</td>\n",
              "      <td>Negative</td>\n",
              "    </tr>\n",
              "    <tr>\n",
              "      <th>3</th>\n",
              "      <td>The Mystery of the Alamo Ghost (Real Kids, Rea...</td>\n",
              "      <td>A11RF2BUOE5JTG</td>\n",
              "      <td>2.0</td>\n",
              "      <td>I am writing this review based on the words of...</td>\n",
              "      <td>Negative</td>\n",
              "    </tr>\n",
              "    <tr>\n",
              "      <th>4</th>\n",
              "      <td>The Arab-Israeli Dilemma</td>\n",
              "      <td>AR3ES795DAQ0I</td>\n",
              "      <td>2.0</td>\n",
              "      <td>I picked up this book looking for a solid and ...</td>\n",
              "      <td>Negative</td>\n",
              "    </tr>\n",
              "  </tbody>\n",
              "</table>\n",
              "</div>\n",
              "      <button class=\"colab-df-convert\" onclick=\"convertToInteractive('df-2f4a4519-3745-4548-ba26-050eef29a7ac')\"\n",
              "              title=\"Convert this dataframe to an interactive table.\"\n",
              "              style=\"display:none;\">\n",
              "        \n",
              "  <svg xmlns=\"http://www.w3.org/2000/svg\" height=\"24px\"viewBox=\"0 0 24 24\"\n",
              "       width=\"24px\">\n",
              "    <path d=\"M0 0h24v24H0V0z\" fill=\"none\"/>\n",
              "    <path d=\"M18.56 5.44l.94 2.06.94-2.06 2.06-.94-2.06-.94-.94-2.06-.94 2.06-2.06.94zm-11 1L8.5 8.5l.94-2.06 2.06-.94-2.06-.94L8.5 2.5l-.94 2.06-2.06.94zm10 10l.94 2.06.94-2.06 2.06-.94-2.06-.94-.94-2.06-.94 2.06-2.06.94z\"/><path d=\"M17.41 7.96l-1.37-1.37c-.4-.4-.92-.59-1.43-.59-.52 0-1.04.2-1.43.59L10.3 9.45l-7.72 7.72c-.78.78-.78 2.05 0 2.83L4 21.41c.39.39.9.59 1.41.59.51 0 1.02-.2 1.41-.59l7.78-7.78 2.81-2.81c.8-.78.8-2.07 0-2.86zM5.41 20L4 18.59l7.72-7.72 1.47 1.35L5.41 20z\"/>\n",
              "  </svg>\n",
              "      </button>\n",
              "      \n",
              "  <style>\n",
              "    .colab-df-container {\n",
              "      display:flex;\n",
              "      flex-wrap:wrap;\n",
              "      gap: 12px;\n",
              "    }\n",
              "\n",
              "    .colab-df-convert {\n",
              "      background-color: #E8F0FE;\n",
              "      border: none;\n",
              "      border-radius: 50%;\n",
              "      cursor: pointer;\n",
              "      display: none;\n",
              "      fill: #1967D2;\n",
              "      height: 32px;\n",
              "      padding: 0 0 0 0;\n",
              "      width: 32px;\n",
              "    }\n",
              "\n",
              "    .colab-df-convert:hover {\n",
              "      background-color: #E2EBFA;\n",
              "      box-shadow: 0px 1px 2px rgba(60, 64, 67, 0.3), 0px 1px 3px 1px rgba(60, 64, 67, 0.15);\n",
              "      fill: #174EA6;\n",
              "    }\n",
              "\n",
              "    [theme=dark] .colab-df-convert {\n",
              "      background-color: #3B4455;\n",
              "      fill: #D2E3FC;\n",
              "    }\n",
              "\n",
              "    [theme=dark] .colab-df-convert:hover {\n",
              "      background-color: #434B5C;\n",
              "      box-shadow: 0px 1px 3px 1px rgba(0, 0, 0, 0.15);\n",
              "      filter: drop-shadow(0px 1px 2px rgba(0, 0, 0, 0.3));\n",
              "      fill: #FFFFFF;\n",
              "    }\n",
              "  </style>\n",
              "\n",
              "      <script>\n",
              "        const buttonEl =\n",
              "          document.querySelector('#df-2f4a4519-3745-4548-ba26-050eef29a7ac button.colab-df-convert');\n",
              "        buttonEl.style.display =\n",
              "          google.colab.kernel.accessAllowed ? 'block' : 'none';\n",
              "\n",
              "        async function convertToInteractive(key) {\n",
              "          const element = document.querySelector('#df-2f4a4519-3745-4548-ba26-050eef29a7ac');\n",
              "          const dataTable =\n",
              "            await google.colab.kernel.invokeFunction('convertToInteractive',\n",
              "                                                     [key], {});\n",
              "          if (!dataTable) return;\n",
              "\n",
              "          const docLinkHtml = 'Like what you see? Visit the ' +\n",
              "            '<a target=\"_blank\" href=https://colab.research.google.com/notebooks/data_table.ipynb>data table notebook</a>'\n",
              "            + ' to learn more about interactive tables.';\n",
              "          element.innerHTML = '';\n",
              "          dataTable['output_type'] = 'display_data';\n",
              "          await google.colab.output.renderOutput(dataTable, element);\n",
              "          const docLink = document.createElement('div');\n",
              "          docLink.innerHTML = docLinkHtml;\n",
              "          element.appendChild(docLink);\n",
              "        }\n",
              "      </script>\n",
              "    </div>\n",
              "  </div>\n",
              "  "
            ]
          },
          "metadata": {},
          "execution_count": 31
        }
      ]
    },
    {
      "cell_type": "markdown",
      "source": [
        "## Choosing the most frequent 15 books\n"
      ],
      "metadata": {
        "id": "yTv-1CbOV6RF"
      }
    },
    {
      "cell_type": "code",
      "source": [
        "list_books = df['title'].value_counts().index[0:15].tolist()"
      ],
      "metadata": {
        "id": "EW86RHG1Cxh2"
      },
      "execution_count": null,
      "outputs": []
    },
    {
      "cell_type": "code",
      "source": [
        "df = df.loc[df['title'].isin(list_books)]"
      ],
      "metadata": {
        "id": "QuVfdzeMFRKT"
      },
      "execution_count": null,
      "outputs": []
    },
    {
      "cell_type": "code",
      "source": [
        "df.shape"
      ],
      "metadata": {
        "id": "WnLubhOiE5IN",
        "colab": {
          "base_uri": "https://localhost:8080/"
        },
        "outputId": "363cc89d-1ba2-4c08-f46b-e945fb705cc3"
      },
      "execution_count": null,
      "outputs": [
        {
          "output_type": "execute_result",
          "data": {
            "text/plain": [
              "(5974, 5)"
            ]
          },
          "metadata": {},
          "execution_count": 34
        }
      ]
    },
    {
      "cell_type": "code",
      "source": [
        "df.nunique()"
      ],
      "metadata": {
        "id": "48ZhIujmHKJs",
        "colab": {
          "base_uri": "https://localhost:8080/"
        },
        "outputId": "e1d42883-8262-4260-8bbd-868af378a109"
      },
      "execution_count": null,
      "outputs": [
        {
          "output_type": "execute_result",
          "data": {
            "text/plain": [
              "title       15\n",
              "userID    5800\n",
              "rating       5\n",
              "review    5968\n",
              "class        3\n",
              "dtype: int64"
            ]
          },
          "metadata": {},
          "execution_count": 35
        }
      ]
    },
    {
      "cell_type": "code",
      "source": [
        "df['title'].value_counts()"
      ],
      "metadata": {
        "id": "-hE8eP3LHZTK",
        "colab": {
          "base_uri": "https://localhost:8080/"
        },
        "outputId": "50bc63c7-180c-4df5-a71b-0686c4da4f8c"
      },
      "execution_count": null,
      "outputs": [
        {
          "output_type": "execute_result",
          "data": {
            "text/plain": [
              "ERAGON: INHERITANCE, BOOK ONE.                                                                                                     819\n",
              "The Hobbitt, or there and back again; illustrated by the author.                                                                   570\n",
              "The Bear and the Dragon                                                                                                            496\n",
              "The Devil Wears Prada                                                                                                              486\n",
              "The Shelters Of Stone - The Earth's Children Series, Book 5                                                                        444\n",
              "The Giver                                                                                                                          422\n",
              "The Great Gatsby                                                                                                                   404\n",
              "Julie and Julia: 365 Days, 524 Recipes, 1 Tiny Apartment Kitchen: How One Girl Risked Her Marriage, Her Job, and Her ... Living    348\n",
              "Lord of the flies                                                                                                                  327\n",
              "Fahrenheit 451                                                                                                                     312\n",
              "The Notebook                                                                                                                       296\n",
              "A confederacy of dunces                                                                                                            273\n",
              "1984                                                                                                                               263\n",
              "Dreamcatcher Movie-Tie In                                                                                                          258\n",
              "Dune                                                                                                                               256\n",
              "Name: title, dtype: int64"
            ]
          },
          "metadata": {},
          "execution_count": 36
        }
      ]
    },
    {
      "cell_type": "markdown",
      "source": [
        "## Cleaning reviews text "
      ],
      "metadata": {
        "id": "vPuvjnC3W3f9"
      }
    },
    {
      "cell_type": "code",
      "source": [
        "def str_to_list(text):\n",
        "    list1 = re.split(r\"\\s+\", text)\n",
        "    return list1"
      ],
      "metadata": {
        "id": "zY6mKTbLKZDe"
      },
      "execution_count": null,
      "outputs": []
    },
    {
      "cell_type": "code",
      "source": [
        "def clean(text, flg_stemm=False):\n",
        "    \"\"\"\n",
        "    INPUT:\n",
        "    text: string of a text to be cleaned\n",
        "    flg_stemm: bool to indicate whether stemming is to be applied\n",
        "  \n",
        "    OUTPUT:\n",
        "    new_text: list of words after cleaning, and stemming\n",
        "\n",
        "    \"\"\"\n",
        "\n",
        "    # Removing special characters, digits, and extra spaces\n",
        "    new_text = re.sub(r\"[^a-zA-Z']\", ' ', text)\n",
        "    new_text = re.sub(r\"\\s'|'\\s\", ' ', new_text)\n",
        "\n",
        "    # Converting to lower case\n",
        "    new_text = new_text.lower()\n",
        "\n",
        "    # Tokenize the string\n",
        "    new_text = str_to_list(new_text)\n",
        "\n",
        "    # Stemming\n",
        "    if flg_stemm == True:\n",
        "        ps = nltk.stem.porter.PorterStemmer()\n",
        "        new_text = [ps.stem(word) for word in new_text]\n",
        "\n",
        "    return ' '.join(new_text)"
      ],
      "metadata": {
        "id": "ag9c34yGHevK"
      },
      "execution_count": null,
      "outputs": []
    },
    {
      "cell_type": "code",
      "source": [
        "df['review'] = df['review'].apply(lambda x:clean(x))"
      ],
      "metadata": {
        "id": "Dpo9_0z7WgnA"
      },
      "execution_count": null,
      "outputs": []
    },
    {
      "cell_type": "code",
      "source": [
        "df.head()"
      ],
      "metadata": {
        "id": "SMbX2XWlLwps",
        "colab": {
          "base_uri": "https://localhost:8080/"
        },
        "outputId": "43899d0d-ec35-4066-e202-27490970cc20"
      },
      "execution_count": null,
      "outputs": [
        {
          "output_type": "execute_result",
          "data": {
            "text/plain": [
              "                             title          userID rating  \\\n",
              "22  ERAGON: INHERITANCE, BOOK ONE.  A3T18VLRQS59L0    1.0   \n",
              "25  ERAGON: INHERITANCE, BOOK ONE.  A1PNBYBWGWWVEK    1.0   \n",
              "34         The Bear and the Dragon  A3CU0U5RY99NXJ    1.0   \n",
              "35           The Devil Wears Prada  A2FAAYH5AVTGG0    1.0   \n",
              "53  ERAGON: INHERITANCE, BOOK ONE.  A123DKR2C0ENHY    2.0   \n",
              "\n",
              "                                               review     class  \n",
              "22  one of the worst books i have ever read ever i...  Negative  \n",
              "25  ahhh after reading the dying earth by jack van...  Negative  \n",
              "34  this book took so long to write that clancy fo...  Negative  \n",
              "35  while the most prominent character is the alwa...  Negative  \n",
              "53  i bought the sample and just couldnt get into ...  Negative  "
            ],
            "text/html": [
              "\n",
              "  <div id=\"df-2545f852-985f-480b-b1ae-749792c80138\">\n",
              "    <div class=\"colab-df-container\">\n",
              "      <div>\n",
              "<style scoped>\n",
              "    .dataframe tbody tr th:only-of-type {\n",
              "        vertical-align: middle;\n",
              "    }\n",
              "\n",
              "    .dataframe tbody tr th {\n",
              "        vertical-align: top;\n",
              "    }\n",
              "\n",
              "    .dataframe thead th {\n",
              "        text-align: right;\n",
              "    }\n",
              "</style>\n",
              "<table border=\"1\" class=\"dataframe\">\n",
              "  <thead>\n",
              "    <tr style=\"text-align: right;\">\n",
              "      <th></th>\n",
              "      <th>title</th>\n",
              "      <th>userID</th>\n",
              "      <th>rating</th>\n",
              "      <th>review</th>\n",
              "      <th>class</th>\n",
              "    </tr>\n",
              "  </thead>\n",
              "  <tbody>\n",
              "    <tr>\n",
              "      <th>22</th>\n",
              "      <td>ERAGON: INHERITANCE, BOOK ONE.</td>\n",
              "      <td>A3T18VLRQS59L0</td>\n",
              "      <td>1.0</td>\n",
              "      <td>one of the worst books i have ever read ever i...</td>\n",
              "      <td>Negative</td>\n",
              "    </tr>\n",
              "    <tr>\n",
              "      <th>25</th>\n",
              "      <td>ERAGON: INHERITANCE, BOOK ONE.</td>\n",
              "      <td>A1PNBYBWGWWVEK</td>\n",
              "      <td>1.0</td>\n",
              "      <td>ahhh after reading the dying earth by jack van...</td>\n",
              "      <td>Negative</td>\n",
              "    </tr>\n",
              "    <tr>\n",
              "      <th>34</th>\n",
              "      <td>The Bear and the Dragon</td>\n",
              "      <td>A3CU0U5RY99NXJ</td>\n",
              "      <td>1.0</td>\n",
              "      <td>this book took so long to write that clancy fo...</td>\n",
              "      <td>Negative</td>\n",
              "    </tr>\n",
              "    <tr>\n",
              "      <th>35</th>\n",
              "      <td>The Devil Wears Prada</td>\n",
              "      <td>A2FAAYH5AVTGG0</td>\n",
              "      <td>1.0</td>\n",
              "      <td>while the most prominent character is the alwa...</td>\n",
              "      <td>Negative</td>\n",
              "    </tr>\n",
              "    <tr>\n",
              "      <th>53</th>\n",
              "      <td>ERAGON: INHERITANCE, BOOK ONE.</td>\n",
              "      <td>A123DKR2C0ENHY</td>\n",
              "      <td>2.0</td>\n",
              "      <td>i bought the sample and just couldnt get into ...</td>\n",
              "      <td>Negative</td>\n",
              "    </tr>\n",
              "  </tbody>\n",
              "</table>\n",
              "</div>\n",
              "      <button class=\"colab-df-convert\" onclick=\"convertToInteractive('df-2545f852-985f-480b-b1ae-749792c80138')\"\n",
              "              title=\"Convert this dataframe to an interactive table.\"\n",
              "              style=\"display:none;\">\n",
              "        \n",
              "  <svg xmlns=\"http://www.w3.org/2000/svg\" height=\"24px\"viewBox=\"0 0 24 24\"\n",
              "       width=\"24px\">\n",
              "    <path d=\"M0 0h24v24H0V0z\" fill=\"none\"/>\n",
              "    <path d=\"M18.56 5.44l.94 2.06.94-2.06 2.06-.94-2.06-.94-.94-2.06-.94 2.06-2.06.94zm-11 1L8.5 8.5l.94-2.06 2.06-.94-2.06-.94L8.5 2.5l-.94 2.06-2.06.94zm10 10l.94 2.06.94-2.06 2.06-.94-2.06-.94-.94-2.06-.94 2.06-2.06.94z\"/><path d=\"M17.41 7.96l-1.37-1.37c-.4-.4-.92-.59-1.43-.59-.52 0-1.04.2-1.43.59L10.3 9.45l-7.72 7.72c-.78.78-.78 2.05 0 2.83L4 21.41c.39.39.9.59 1.41.59.51 0 1.02-.2 1.41-.59l7.78-7.78 2.81-2.81c.8-.78.8-2.07 0-2.86zM5.41 20L4 18.59l7.72-7.72 1.47 1.35L5.41 20z\"/>\n",
              "  </svg>\n",
              "      </button>\n",
              "      \n",
              "  <style>\n",
              "    .colab-df-container {\n",
              "      display:flex;\n",
              "      flex-wrap:wrap;\n",
              "      gap: 12px;\n",
              "    }\n",
              "\n",
              "    .colab-df-convert {\n",
              "      background-color: #E8F0FE;\n",
              "      border: none;\n",
              "      border-radius: 50%;\n",
              "      cursor: pointer;\n",
              "      display: none;\n",
              "      fill: #1967D2;\n",
              "      height: 32px;\n",
              "      padding: 0 0 0 0;\n",
              "      width: 32px;\n",
              "    }\n",
              "\n",
              "    .colab-df-convert:hover {\n",
              "      background-color: #E2EBFA;\n",
              "      box-shadow: 0px 1px 2px rgba(60, 64, 67, 0.3), 0px 1px 3px 1px rgba(60, 64, 67, 0.15);\n",
              "      fill: #174EA6;\n",
              "    }\n",
              "\n",
              "    [theme=dark] .colab-df-convert {\n",
              "      background-color: #3B4455;\n",
              "      fill: #D2E3FC;\n",
              "    }\n",
              "\n",
              "    [theme=dark] .colab-df-convert:hover {\n",
              "      background-color: #434B5C;\n",
              "      box-shadow: 0px 1px 3px 1px rgba(0, 0, 0, 0.15);\n",
              "      filter: drop-shadow(0px 1px 2px rgba(0, 0, 0, 0.3));\n",
              "      fill: #FFFFFF;\n",
              "    }\n",
              "  </style>\n",
              "\n",
              "      <script>\n",
              "        const buttonEl =\n",
              "          document.querySelector('#df-2545f852-985f-480b-b1ae-749792c80138 button.colab-df-convert');\n",
              "        buttonEl.style.display =\n",
              "          google.colab.kernel.accessAllowed ? 'block' : 'none';\n",
              "\n",
              "        async function convertToInteractive(key) {\n",
              "          const element = document.querySelector('#df-2545f852-985f-480b-b1ae-749792c80138');\n",
              "          const dataTable =\n",
              "            await google.colab.kernel.invokeFunction('convertToInteractive',\n",
              "                                                     [key], {});\n",
              "          if (!dataTable) return;\n",
              "\n",
              "          const docLinkHtml = 'Like what you see? Visit the ' +\n",
              "            '<a target=\"_blank\" href=https://colab.research.google.com/notebooks/data_table.ipynb>data table notebook</a>'\n",
              "            + ' to learn more about interactive tables.';\n",
              "          element.innerHTML = '';\n",
              "          dataTable['output_type'] = 'display_data';\n",
              "          await google.colab.output.renderOutput(dataTable, element);\n",
              "          const docLink = document.createElement('div');\n",
              "          docLink.innerHTML = docLinkHtml;\n",
              "          element.appendChild(docLink);\n",
              "        }\n",
              "      </script>\n",
              "    </div>\n",
              "  </div>\n",
              "  "
            ]
          },
          "metadata": {},
          "execution_count": 40
        }
      ]
    },
    {
      "cell_type": "markdown",
      "source": [
        "# Recommendation system "
      ],
      "metadata": {
        "id": "5yhGgqvVb2Jz"
      }
    },
    {
      "cell_type": "markdown",
      "source": [
        "## 1. Popularity Based (Top In whole collection)"
      ],
      "metadata": {
        "id": "zpmvLOQagGV5"
      }
    },
    {
      "cell_type": "markdown",
      "source": [
        "We have sorted the dataset according to the total ratings each of the books have received in non-increasing order and then recommended top n books.\n",
        "\n",
        "so here it sound that the sysytem recommend a book with the highest rate . \n",
        "- it may be an initial step to start a conversation between the chatbot and between the reader. \n"
      ],
      "metadata": {
        "id": "Yjg8S0oMj1V9"
      }
    },
    {
      "cell_type": "code",
      "source": [
        "plt.figure(figsize=(15,8))\n",
        "sns.countplot(y=\"title\", data=df, order=df['title'].value_counts().index[0:15])\n",
        "plt.title(\"Number of Ratings for a book (Top 15)\")\n",
        "plt.show()"
      ],
      "metadata": {
        "colab": {
          "base_uri": "https://localhost:8080/",
          "height": 551
        },
        "id": "YC-MnALicIfD",
        "outputId": "6709c24c-f2b0-44c7-c89a-baa43b170a42"
      },
      "execution_count": null,
      "outputs": [
        {
          "output_type": "display_data",
          "data": {
            "text/plain": [
              "<Figure size 1500x800 with 1 Axes>"
            ],
            "image/png": "[encoded data removed]"
          },
          "metadata": {}
        }
      ]
    },
    {
      "cell_type": "code",
      "source": [
        "def popularity_based(dataframe, n):\n",
        "    if n >= 1 and n <= len(dataframe):\n",
        "        data = pd.DataFrame(dataframe.groupby('title')['rating'].count()).sort_values('rating', ascending=False).head(n)\n",
        "        return data\n",
        "    return \"Invalid number of books entered!!\""
      ],
      "metadata": {
        "id": "dWBltoylf7zM"
      },
      "execution_count": null,
      "outputs": []
    },
    {
      "cell_type": "code",
      "source": [
        "popularity_based(df, 10)"
      ],
      "metadata": {
        "colab": {
          "base_uri": "https://localhost:8080/",
          "height": 394
        },
        "id": "2jZB81Gxlnr4",
        "outputId": "c7c01094-0ce3-4b95-cf8c-06b964c23052"
      },
      "execution_count": null,
      "outputs": [
        {
          "output_type": "execute_result",
          "data": {
            "text/plain": [
              "                                                    rating\n",
              "title                                                     \n",
              "ERAGON: INHERITANCE, BOOK ONE.                         819\n",
              "The Hobbitt, or there and back again; illustrat...     570\n",
              "The Bear and the Dragon                                496\n",
              "The Devil Wears Prada                                  486\n",
              "The Shelters Of Stone - The Earth's Children Se...     444\n",
              "The Giver                                              422\n",
              "The Great Gatsby                                       404\n",
              "Julie and Julia: 365 Days, 524 Recipes, 1 Tiny ...     348\n",
              "Lord of the flies                                      327\n",
              "Fahrenheit 451                                         312"
            ],
            "text/html": [
              "\n",
              "  <div id=\"df-50652ad9-4c1e-4d2a-bc4b-0028da78986b\">\n",
              "    <div class=\"colab-df-container\">\n",
              "      <div>\n",
              "<style scoped>\n",
              "    .dataframe tbody tr th:only-of-type {\n",
              "        vertical-align: middle;\n",
              "    }\n",
              "\n",
              "    .dataframe tbody tr th {\n",
              "        vertical-align: top;\n",
              "    }\n",
              "\n",
              "    .dataframe thead th {\n",
              "        text-align: right;\n",
              "    }\n",
              "</style>\n",
              "<table border=\"1\" class=\"dataframe\">\n",
              "  <thead>\n",
              "    <tr style=\"text-align: right;\">\n",
              "      <th></th>\n",
              "      <th>rating</th>\n",
              "    </tr>\n",
              "    <tr>\n",
              "      <th>title</th>\n",
              "      <th></th>\n",
              "    </tr>\n",
              "  </thead>\n",
              "  <tbody>\n",
              "    <tr>\n",
              "      <th>ERAGON: INHERITANCE, BOOK ONE.</th>\n",
              "      <td>819</td>\n",
              "    </tr>\n",
              "    <tr>\n",
              "      <th>The Hobbitt, or there and back again; illustrated by the author.</th>\n",
              "      <td>570</td>\n",
              "    </tr>\n",
              "    <tr>\n",
              "      <th>The Bear and the Dragon</th>\n",
              "      <td>496</td>\n",
              "    </tr>\n",
              "    <tr>\n",
              "      <th>The Devil Wears Prada</th>\n",
              "      <td>486</td>\n",
              "    </tr>\n",
              "    <tr>\n",
              "      <th>The Shelters Of Stone - The Earth's Children Series, Book 5</th>\n",
              "      <td>444</td>\n",
              "    </tr>\n",
              "    <tr>\n",
              "      <th>The Giver</th>\n",
              "      <td>422</td>\n",
              "    </tr>\n",
              "    <tr>\n",
              "      <th>The Great Gatsby</th>\n",
              "      <td>404</td>\n",
              "    </tr>\n",
              "    <tr>\n",
              "      <th>Julie and Julia: 365 Days, 524 Recipes, 1 Tiny Apartment Kitchen: How One Girl Risked Her Marriage, Her Job, and Her ... Living</th>\n",
              "      <td>348</td>\n",
              "    </tr>\n",
              "    <tr>\n",
              "      <th>Lord of the flies</th>\n",
              "      <td>327</td>\n",
              "    </tr>\n",
              "    <tr>\n",
              "      <th>Fahrenheit 451</th>\n",
              "      <td>312</td>\n",
              "    </tr>\n",
              "  </tbody>\n",
              "</table>\n",
              "</div>\n",
              "      <button class=\"colab-df-convert\" onclick=\"convertToInteractive('df-50652ad9-4c1e-4d2a-bc4b-0028da78986b')\"\n",
              "              title=\"Convert this dataframe to an interactive table.\"\n",
              "              style=\"display:none;\">\n",
              "        \n",
              "  <svg xmlns=\"http://www.w3.org/2000/svg\" height=\"24px\"viewBox=\"0 0 24 24\"\n",
              "       width=\"24px\">\n",
              "    <path d=\"M0 0h24v24H0V0z\" fill=\"none\"/>\n",
              "    <path d=\"M18.56 5.44l.94 2.06.94-2.06 2.06-.94-2.06-.94-.94-2.06-.94 2.06-2.06.94zm-11 1L8.5 8.5l.94-2.06 2.06-.94-2.06-.94L8.5 2.5l-.94 2.06-2.06.94zm10 10l.94 2.06.94-2.06 2.06-.94-2.06-.94-.94-2.06-.94 2.06-2.06.94z\"/><path d=\"M17.41 7.96l-1.37-1.37c-.4-.4-.92-.59-1.43-.59-.52 0-1.04.2-1.43.59L10.3 9.45l-7.72 7.72c-.78.78-.78 2.05 0 2.83L4 21.41c.39.39.9.59 1.41.59.51 0 1.02-.2 1.41-.59l7.78-7.78 2.81-2.81c.8-.78.8-2.07 0-2.86zM5.41 20L4 18.59l7.72-7.72 1.47 1.35L5.41 20z\"/>\n",
              "  </svg>\n",
              "      </button>\n",
              "      \n",
              "  <style>\n",
              "    .colab-df-container {\n",
              "      display:flex;\n",
              "      flex-wrap:wrap;\n",
              "      gap: 12px;\n",
              "    }\n",
              "\n",
              "    .colab-df-convert {\n",
              "      background-color: #E8F0FE;\n",
              "      border: none;\n",
              "      border-radius: 50%;\n",
              "      cursor: pointer;\n",
              "      display: none;\n",
              "      fill: #1967D2;\n",
              "      height: 32px;\n",
              "      padding: 0 0 0 0;\n",
              "      width: 32px;\n",
              "    }\n",
              "\n",
              "    .colab-df-convert:hover {\n",
              "      background-color: #E2EBFA;\n",
              "      box-shadow: 0px 1px 2px rgba(60, 64, 67, 0.3), 0px 1px 3px 1px rgba(60, 64, 67, 0.15);\n",
              "      fill: #174EA6;\n",
              "    }\n",
              "\n",
              "    [theme=dark] .colab-df-convert {\n",
              "      background-color: #3B4455;\n",
              "      fill: #D2E3FC;\n",
              "    }\n",
              "\n",
              "    [theme=dark] .colab-df-convert:hover {\n",
              "      background-color: #434B5C;\n",
              "      box-shadow: 0px 1px 3px 1px rgba(0, 0, 0, 0.15);\n",
              "      filter: drop-shadow(0px 1px 2px rgba(0, 0, 0, 0.3));\n",
              "      fill: #FFFFFF;\n",
              "    }\n",
              "  </style>\n",
              "\n",
              "      <script>\n",
              "        const buttonEl =\n",
              "          document.querySelector('#df-50652ad9-4c1e-4d2a-bc4b-0028da78986b button.colab-df-convert');\n",
              "        buttonEl.style.display =\n",
              "          google.colab.kernel.accessAllowed ? 'block' : 'none';\n",
              "\n",
              "        async function convertToInteractive(key) {\n",
              "          const element = document.querySelector('#df-50652ad9-4c1e-4d2a-bc4b-0028da78986b');\n",
              "          const dataTable =\n",
              "            await google.colab.kernel.invokeFunction('convertToInteractive',\n",
              "                                                     [key], {});\n",
              "          if (!dataTable) return;\n",
              "\n",
              "          const docLinkHtml = 'Like what you see? Visit the ' +\n",
              "            '<a target=\"_blank\" href=https://colab.research.google.com/notebooks/data_table.ipynb>data table notebook</a>'\n",
              "            + ' to learn more about interactive tables.';\n",
              "          element.innerHTML = '';\n",
              "          dataTable['output_type'] = 'display_data';\n",
              "          await google.colab.output.renderOutput(dataTable, element);\n",
              "          const docLink = document.createElement('div');\n",
              "          docLink.innerHTML = docLinkHtml;\n",
              "          element.appendChild(docLink);\n",
              "        }\n",
              "      </script>\n",
              "    </div>\n",
              "  </div>\n",
              "  "
            ]
          },
          "metadata": {},
          "execution_count": 43
        }
      ]
    },
    {
      "cell_type": "markdown",
      "source": [
        "## 2.2 Recommendation using Average Weighted Rating"
      ],
      "metadata": {
        "id": "gixFy0VmA6fT"
      }
    },
    {
      "cell_type": "markdown",
      "source": [
        "We have calculated the weighted score using the below formula for all the books and recommended the books with the highest score.\n",
        "\n",
        "- score= t/(t+m)∗a + m/(m+t)∗c\n",
        "\n",
        "where : \n",
        "- t represents the total number of ratings received by the book\n",
        "- m represents the minimum number of total ratings considered to be included\n",
        "- a represents the average rating of the book and,\n",
        "- c represents the mean rating of all the books."
      ],
      "metadata": {
        "id": "xAKBsTF0BVe_"
      }
    },
    {
      "cell_type": "code",
      "source": [
        "def str2Flot(sLst):\n",
        "  flostLst = []\n",
        "  for i in sLst:\n",
        "    flostLst.append(float(i))\n",
        "  return flostLst\n",
        "\n",
        "def avgRating(newdf2, df,lst):\n",
        "    newdf = newdf2\n",
        "    newdf['Average_Rating'] = 0\n",
        "    for x in range(len(lst)):\n",
        "        strLst = list(df.loc[df['title'] == lst[x]]['rating'])\n",
        "        l = str2Flot(strLst)\n",
        "        newdf['Average_Rating'][x] = sum(l)/len(l)\n",
        "    return newdf"
      ],
      "metadata": {
        "id": "Ivf5V9IrNM10"
      },
      "execution_count": null,
      "outputs": []
    },
    {
      "cell_type": "code",
      "source": [
        "df2 = pd.DataFrame(df['title'].value_counts())\n",
        "df2['Total_Ratings'] = df2['title']\n",
        "df2['Book_Title'] = df2.index\n",
        "df2.reset_index(level=0, inplace=True)\n",
        "df2 = df2.drop('index',axis=1)\n",
        "\n",
        "lst=list(df2['Book_Title'])\n",
        "\n",
        "df2 = avgRating(df2, df,lst)\n",
        "df2.to_pickle('weightedData')\n",
        "df2 = pd.read_pickle('weightedData')"
      ],
      "metadata": {
        "colab": {
          "base_uri": "https://localhost:8080/"
        },
        "id": "ieUDbckAlqlm",
        "outputId": "a127694b-2e57-46ae-eb27-727bba49f7cb"
      },
      "execution_count": null,
      "outputs": [
        {
          "output_type": "stream",
          "name": "stderr",
          "text": [
            "/usr/local/lib/python3.7/dist-packages/ipykernel_launcher.py:13: SettingWithCopyWarning: \n",
            "A value is trying to be set on a copy of a slice from a DataFrame\n",
            "\n",
            "See the caveats in the documentation: https://pandas.pydata.org/pandas-docs/stable/user_guide/indexing.html#returning-a-view-versus-a-copy\n",
            "  del sys.path[0]\n"
          ]
        }
      ]
    },
    {
      "cell_type": "code",
      "source": [
        "df2"
      ],
      "metadata": {
        "colab": {
          "base_uri": "https://localhost:8080/",
          "height": 519
        },
        "id": "vwFbEGjqeBtm",
        "outputId": "8f30099f-b375-49c0-f685-019dfb74aeb5"
      },
      "execution_count": null,
      "outputs": [
        {
          "output_type": "execute_result",
          "data": {
            "text/plain": [
              "    title  Total_Ratings                                         Book_Title  \\\n",
              "0     819            819                     ERAGON: INHERITANCE, BOOK ONE.   \n",
              "1     570            570  The Hobbitt, or there and back again; illustra...   \n",
              "2     496            496                            The Bear and the Dragon   \n",
              "3     486            486                              The Devil Wears Prada   \n",
              "4     444            444  The Shelters Of Stone - The Earth's Children S...   \n",
              "5     422            422                                          The Giver   \n",
              "6     404            404                                   The Great Gatsby   \n",
              "7     348            348  Julie and Julia: 365 Days, 524 Recipes, 1 Tiny...   \n",
              "8     327            327                                  Lord of the flies   \n",
              "9     312            312                                     Fahrenheit 451   \n",
              "10    296            296                                       The Notebook   \n",
              "11    273            273                            A confederacy of dunces   \n",
              "12    263            263                                               1984   \n",
              "13    258            258                          Dreamcatcher Movie-Tie In   \n",
              "14    256            256                                               Dune   \n",
              "\n",
              "    Average_Rating  \n",
              "0                2  \n",
              "1                3  \n",
              "2                2  \n",
              "3                2  \n",
              "4                2  \n",
              "5                3  \n",
              "6                3  \n",
              "7                1  \n",
              "8                2  \n",
              "9                3  \n",
              "10               2  \n",
              "11               2  \n",
              "12               3  \n",
              "13               2  \n",
              "14               3  "
            ],
            "text/html": [
              "\n",
              "  <div id=\"df-d045be72-5c98-46e9-aabf-620614614945\">\n",
              "    <div class=\"colab-df-container\">\n",
              "      <div>\n",
              "<style scoped>\n",
              "    .dataframe tbody tr th:only-of-type {\n",
              "        vertical-align: middle;\n",
              "    }\n",
              "\n",
              "    .dataframe tbody tr th {\n",
              "        vertical-align: top;\n",
              "    }\n",
              "\n",
              "    .dataframe thead th {\n",
              "        text-align: right;\n",
              "    }\n",
              "</style>\n",
              "<table border=\"1\" class=\"dataframe\">\n",
              "  <thead>\n",
              "    <tr style=\"text-align: right;\">\n",
              "      <th></th>\n",
              "      <th>title</th>\n",
              "      <th>Total_Ratings</th>\n",
              "      <th>Book_Title</th>\n",
              "      <th>Average_Rating</th>\n",
              "    </tr>\n",
              "  </thead>\n",
              "  <tbody>\n",
              "    <tr>\n",
              "      <th>0</th>\n",
              "      <td>819</td>\n",
              "      <td>819</td>\n",
              "      <td>ERAGON: INHERITANCE, BOOK ONE.</td>\n",
              "      <td>2</td>\n",
              "    </tr>\n",
              "    <tr>\n",
              "      <th>1</th>\n",
              "      <td>570</td>\n",
              "      <td>570</td>\n",
              "      <td>The Hobbitt, or there and back again; illustra...</td>\n",
              "      <td>3</td>\n",
              "    </tr>\n",
              "    <tr>\n",
              "      <th>2</th>\n",
              "      <td>496</td>\n",
              "      <td>496</td>\n",
              "      <td>The Bear and the Dragon</td>\n",
              "      <td>2</td>\n",
              "    </tr>\n",
              "    <tr>\n",
              "      <th>3</th>\n",
              "      <td>486</td>\n",
              "      <td>486</td>\n",
              "      <td>The Devil Wears Prada</td>\n",
              "      <td>2</td>\n",
              "    </tr>\n",
              "    <tr>\n",
              "      <th>4</th>\n",
              "      <td>444</td>\n",
              "      <td>444</td>\n",
              "      <td>The Shelters Of Stone - The Earth's Children S...</td>\n",
              "      <td>2</td>\n",
              "    </tr>\n",
              "    <tr>\n",
              "      <th>5</th>\n",
              "      <td>422</td>\n",
              "      <td>422</td>\n",
              "      <td>The Giver</td>\n",
              "      <td>3</td>\n",
              "    </tr>\n",
              "    <tr>\n",
              "      <th>6</th>\n",
              "      <td>404</td>\n",
              "      <td>404</td>\n",
              "      <td>The Great Gatsby</td>\n",
              "      <td>3</td>\n",
              "    </tr>\n",
              "    <tr>\n",
              "      <th>7</th>\n",
              "      <td>348</td>\n",
              "      <td>348</td>\n",
              "      <td>Julie and Julia: 365 Days, 524 Recipes, 1 Tiny...</td>\n",
              "      <td>1</td>\n",
              "    </tr>\n",
              "    <tr>\n",
              "      <th>8</th>\n",
              "      <td>327</td>\n",
              "      <td>327</td>\n",
              "      <td>Lord of the flies</td>\n",
              "      <td>2</td>\n",
              "    </tr>\n",
              "    <tr>\n",
              "      <th>9</th>\n",
              "      <td>312</td>\n",
              "      <td>312</td>\n",
              "      <td>Fahrenheit 451</td>\n",
              "      <td>3</td>\n",
              "    </tr>\n",
              "    <tr>\n",
              "      <th>10</th>\n",
              "      <td>296</td>\n",
              "      <td>296</td>\n",
              "      <td>The Notebook</td>\n",
              "      <td>2</td>\n",
              "    </tr>\n",
              "    <tr>\n",
              "      <th>11</th>\n",
              "      <td>273</td>\n",
              "      <td>273</td>\n",
              "      <td>A confederacy of dunces</td>\n",
              "      <td>2</td>\n",
              "    </tr>\n",
              "    <tr>\n",
              "      <th>12</th>\n",
              "      <td>263</td>\n",
              "      <td>263</td>\n",
              "      <td>1984</td>\n",
              "      <td>3</td>\n",
              "    </tr>\n",
              "    <tr>\n",
              "      <th>13</th>\n",
              "      <td>258</td>\n",
              "      <td>258</td>\n",
              "      <td>Dreamcatcher Movie-Tie In</td>\n",
              "      <td>2</td>\n",
              "    </tr>\n",
              "    <tr>\n",
              "      <th>14</th>\n",
              "      <td>256</td>\n",
              "      <td>256</td>\n",
              "      <td>Dune</td>\n",
              "      <td>3</td>\n",
              "    </tr>\n",
              "  </tbody>\n",
              "</table>\n",
              "</div>\n",
              "      <button class=\"colab-df-convert\" onclick=\"convertToInteractive('df-d045be72-5c98-46e9-aabf-620614614945')\"\n",
              "              title=\"Convert this dataframe to an interactive table.\"\n",
              "              style=\"display:none;\">\n",
              "        \n",
              "  <svg xmlns=\"http://www.w3.org/2000/svg\" height=\"24px\"viewBox=\"0 0 24 24\"\n",
              "       width=\"24px\">\n",
              "    <path d=\"M0 0h24v24H0V0z\" fill=\"none\"/>\n",
              "    <path d=\"M18.56 5.44l.94 2.06.94-2.06 2.06-.94-2.06-.94-.94-2.06-.94 2.06-2.06.94zm-11 1L8.5 8.5l.94-2.06 2.06-.94-2.06-.94L8.5 2.5l-.94 2.06-2.06.94zm10 10l.94 2.06.94-2.06 2.06-.94-2.06-.94-.94-2.06-.94 2.06-2.06.94z\"/><path d=\"M17.41 7.96l-1.37-1.37c-.4-.4-.92-.59-1.43-.59-.52 0-1.04.2-1.43.59L10.3 9.45l-7.72 7.72c-.78.78-.78 2.05 0 2.83L4 21.41c.39.39.9.59 1.41.59.51 0 1.02-.2 1.41-.59l7.78-7.78 2.81-2.81c.8-.78.8-2.07 0-2.86zM5.41 20L4 18.59l7.72-7.72 1.47 1.35L5.41 20z\"/>\n",
              "  </svg>\n",
              "      </button>\n",
              "      \n",
              "  <style>\n",
              "    .colab-df-container {\n",
              "      display:flex;\n",
              "      flex-wrap:wrap;\n",
              "      gap: 12px;\n",
              "    }\n",
              "\n",
              "    .colab-df-convert {\n",
              "      background-color: #E8F0FE;\n",
              "      border: none;\n",
              "      border-radius: 50%;\n",
              "      cursor: pointer;\n",
              "      display: none;\n",
              "      fill: #1967D2;\n",
              "      height: 32px;\n",
              "      padding: 0 0 0 0;\n",
              "      width: 32px;\n",
              "    }\n",
              "\n",
              "    .colab-df-convert:hover {\n",
              "      background-color: #E2EBFA;\n",
              "      box-shadow: 0px 1px 2px rgba(60, 64, 67, 0.3), 0px 1px 3px 1px rgba(60, 64, 67, 0.15);\n",
              "      fill: #174EA6;\n",
              "    }\n",
              "\n",
              "    [theme=dark] .colab-df-convert {\n",
              "      background-color: #3B4455;\n",
              "      fill: #D2E3FC;\n",
              "    }\n",
              "\n",
              "    [theme=dark] .colab-df-convert:hover {\n",
              "      background-color: #434B5C;\n",
              "      box-shadow: 0px 1px 3px 1px rgba(0, 0, 0, 0.15);\n",
              "      filter: drop-shadow(0px 1px 2px rgba(0, 0, 0, 0.3));\n",
              "      fill: #FFFFFF;\n",
              "    }\n",
              "  </style>\n",
              "\n",
              "      <script>\n",
              "        const buttonEl =\n",
              "          document.querySelector('#df-d045be72-5c98-46e9-aabf-620614614945 button.colab-df-convert');\n",
              "        buttonEl.style.display =\n",
              "          google.colab.kernel.accessAllowed ? 'block' : 'none';\n",
              "\n",
              "        async function convertToInteractive(key) {\n",
              "          const element = document.querySelector('#df-d045be72-5c98-46e9-aabf-620614614945');\n",
              "          const dataTable =\n",
              "            await google.colab.kernel.invokeFunction('convertToInteractive',\n",
              "                                                     [key], {});\n",
              "          if (!dataTable) return;\n",
              "\n",
              "          const docLinkHtml = 'Like what you see? Visit the ' +\n",
              "            '<a target=\"_blank\" href=https://colab.research.google.com/notebooks/data_table.ipynb>data table notebook</a>'\n",
              "            + ' to learn more about interactive tables.';\n",
              "          element.innerHTML = '';\n",
              "          dataTable['output_type'] = 'display_data';\n",
              "          await google.colab.output.renderOutput(dataTable, element);\n",
              "          const docLink = document.createElement('div');\n",
              "          docLink.innerHTML = docLinkHtml;\n",
              "          element.appendChild(docLink);\n",
              "        }\n",
              "      </script>\n",
              "    </div>\n",
              "  </div>\n",
              "  "
            ]
          },
          "metadata": {},
          "execution_count": 46
        }
      ]
    },
    {
      "cell_type": "code",
      "source": [
        "## C - Mean vote across the whole\n",
        "C = df2['Average_Rating'].mean()\n",
        "\n",
        "## Minimum number of votes required to be in the chart\n",
        "m = df2['Total_Ratings'].quantile(0.90)"
      ],
      "metadata": {
        "id": "vfCp22hlCFTZ"
      },
      "execution_count": null,
      "outputs": []
    },
    {
      "cell_type": "code",
      "source": [
        "def weighted_rating(x, m=m, C=C): \n",
        "    v = x['Total_Ratings']    #v - number of votes\n",
        "    R = x['Average_Rating']   #R - Average Rating   \n",
        "    return (v/(v+m) * R) + (m/(m+v) * C)"
      ],
      "metadata": {
        "id": "dDlHHu0aCFJ6"
      },
      "execution_count": null,
      "outputs": []
    },
    {
      "cell_type": "code",
      "source": [
        "df2 = df2.loc[df2['Total_Ratings'] >= m]  # determine the thrshold for the minimum number of votes \n",
        "\n",
        "df2['score'] = df2.apply(weighted_rating, axis=1)\n",
        "df2 = df2.sort_values('score', ascending=False)"
      ],
      "metadata": {
        "colab": {
          "base_uri": "https://localhost:8080/"
        },
        "id": "ytSTLE9ITP9k",
        "outputId": "dbb725e6-e782-4a59-ffbb-bee111a8d144"
      },
      "execution_count": null,
      "outputs": [
        {
          "output_type": "stream",
          "name": "stderr",
          "text": [
            "/usr/local/lib/python3.7/dist-packages/ipykernel_launcher.py:3: SettingWithCopyWarning: \n",
            "A value is trying to be set on a copy of a slice from a DataFrame.\n",
            "Try using .loc[row_indexer,col_indexer] = value instead\n",
            "\n",
            "See the caveats in the documentation: https://pandas.pydata.org/pandas-docs/stable/user_guide/indexing.html#returning-a-view-versus-a-copy\n",
            "  This is separate from the ipykernel package so we can avoid doing imports until\n"
          ]
        }
      ]
    },
    {
      "cell_type": "code",
      "source": [
        "print(\"Recommended Books using  Average Weighted Rating method:\")\n",
        "df2"
      ],
      "metadata": {
        "colab": {
          "base_uri": "https://localhost:8080/",
          "height": 129
        },
        "id": "3rSWKszTCQ4E",
        "outputId": "ce30b383-8ef4-4951-faf5-c69590c13165"
      },
      "execution_count": null,
      "outputs": [
        {
          "output_type": "stream",
          "name": "stdout",
          "text": [
            "Recommended Books using  Average Weighted Rating method:\n"
          ]
        },
        {
          "output_type": "execute_result",
          "data": {
            "text/plain": [
              "   title  Total_Ratings                                         Book_Title  \\\n",
              "1    570            570  The Hobbitt, or there and back again; illustra...   \n",
              "0    819            819                     ERAGON: INHERITANCE, BOOK ONE.   \n",
              "\n",
              "   Average_Rating     score  \n",
              "1               3  2.675552  \n",
              "0               2  2.132509  "
            ],
            "text/html": [
              "\n",
              "  <div id=\"df-1022bf21-bc1d-49dd-bbae-368eabfa95b4\">\n",
              "    <div class=\"colab-df-container\">\n",
              "      <div>\n",
              "<style scoped>\n",
              "    .dataframe tbody tr th:only-of-type {\n",
              "        vertical-align: middle;\n",
              "    }\n",
              "\n",
              "    .dataframe tbody tr th {\n",
              "        vertical-align: top;\n",
              "    }\n",
              "\n",
              "    .dataframe thead th {\n",
              "        text-align: right;\n",
              "    }\n",
              "</style>\n",
              "<table border=\"1\" class=\"dataframe\">\n",
              "  <thead>\n",
              "    <tr style=\"text-align: right;\">\n",
              "      <th></th>\n",
              "      <th>title</th>\n",
              "      <th>Total_Ratings</th>\n",
              "      <th>Book_Title</th>\n",
              "      <th>Average_Rating</th>\n",
              "      <th>score</th>\n",
              "    </tr>\n",
              "  </thead>\n",
              "  <tbody>\n",
              "    <tr>\n",
              "      <th>1</th>\n",
              "      <td>570</td>\n",
              "      <td>570</td>\n",
              "      <td>The Hobbitt, or there and back again; illustra...</td>\n",
              "      <td>3</td>\n",
              "      <td>2.675552</td>\n",
              "    </tr>\n",
              "    <tr>\n",
              "      <th>0</th>\n",
              "      <td>819</td>\n",
              "      <td>819</td>\n",
              "      <td>ERAGON: INHERITANCE, BOOK ONE.</td>\n",
              "      <td>2</td>\n",
              "      <td>2.132509</td>\n",
              "    </tr>\n",
              "  </tbody>\n",
              "</table>\n",
              "</div>\n",
              "      <button class=\"colab-df-convert\" onclick=\"convertToInteractive('df-1022bf21-bc1d-49dd-bbae-368eabfa95b4')\"\n",
              "              title=\"Convert this dataframe to an interactive table.\"\n",
              "              style=\"display:none;\">\n",
              "        \n",
              "  <svg xmlns=\"http://www.w3.org/2000/svg\" height=\"24px\"viewBox=\"0 0 24 24\"\n",
              "       width=\"24px\">\n",
              "    <path d=\"M0 0h24v24H0V0z\" fill=\"none\"/>\n",
              "    <path d=\"M18.56 5.44l.94 2.06.94-2.06 2.06-.94-2.06-.94-.94-2.06-.94 2.06-2.06.94zm-11 1L8.5 8.5l.94-2.06 2.06-.94-2.06-.94L8.5 2.5l-.94 2.06-2.06.94zm10 10l.94 2.06.94-2.06 2.06-.94-2.06-.94-.94-2.06-.94 2.06-2.06.94z\"/><path d=\"M17.41 7.96l-1.37-1.37c-.4-.4-.92-.59-1.43-.59-.52 0-1.04.2-1.43.59L10.3 9.45l-7.72 7.72c-.78.78-.78 2.05 0 2.83L4 21.41c.39.39.9.59 1.41.59.51 0 1.02-.2 1.41-.59l7.78-7.78 2.81-2.81c.8-.78.8-2.07 0-2.86zM5.41 20L4 18.59l7.72-7.72 1.47 1.35L5.41 20z\"/>\n",
              "  </svg>\n",
              "      </button>\n",
              "      \n",
              "  <style>\n",
              "    .colab-df-container {\n",
              "      display:flex;\n",
              "      flex-wrap:wrap;\n",
              "      gap: 12px;\n",
              "    }\n",
              "\n",
              "    .colab-df-convert {\n",
              "      background-color: #E8F0FE;\n",
              "      border: none;\n",
              "      border-radius: 50%;\n",
              "      cursor: pointer;\n",
              "      display: none;\n",
              "      fill: #1967D2;\n",
              "      height: 32px;\n",
              "      padding: 0 0 0 0;\n",
              "      width: 32px;\n",
              "    }\n",
              "\n",
              "    .colab-df-convert:hover {\n",
              "      background-color: #E2EBFA;\n",
              "      box-shadow: 0px 1px 2px rgba(60, 64, 67, 0.3), 0px 1px 3px 1px rgba(60, 64, 67, 0.15);\n",
              "      fill: #174EA6;\n",
              "    }\n",
              "\n",
              "    [theme=dark] .colab-df-convert {\n",
              "      background-color: #3B4455;\n",
              "      fill: #D2E3FC;\n",
              "    }\n",
              "\n",
              "    [theme=dark] .colab-df-convert:hover {\n",
              "      background-color: #434B5C;\n",
              "      box-shadow: 0px 1px 3px 1px rgba(0, 0, 0, 0.15);\n",
              "      filter: drop-shadow(0px 1px 2px rgba(0, 0, 0, 0.3));\n",
              "      fill: #FFFFFF;\n",
              "    }\n",
              "  </style>\n",
              "\n",
              "      <script>\n",
              "        const buttonEl =\n",
              "          document.querySelector('#df-1022bf21-bc1d-49dd-bbae-368eabfa95b4 button.colab-df-convert');\n",
              "        buttonEl.style.display =\n",
              "          google.colab.kernel.accessAllowed ? 'block' : 'none';\n",
              "\n",
              "        async function convertToInteractive(key) {\n",
              "          const element = document.querySelector('#df-1022bf21-bc1d-49dd-bbae-368eabfa95b4');\n",
              "          const dataTable =\n",
              "            await google.colab.kernel.invokeFunction('convertToInteractive',\n",
              "                                                     [key], {});\n",
              "          if (!dataTable) return;\n",
              "\n",
              "          const docLinkHtml = 'Like what you see? Visit the ' +\n",
              "            '<a target=\"_blank\" href=https://colab.research.google.com/notebooks/data_table.ipynb>data table notebook</a>'\n",
              "            + ' to learn more about interactive tables.';\n",
              "          element.innerHTML = '';\n",
              "          dataTable['output_type'] = 'display_data';\n",
              "          await google.colab.output.renderOutput(dataTable, element);\n",
              "          const docLink = document.createElement('div');\n",
              "          docLink.innerHTML = docLinkHtml;\n",
              "          element.appendChild(docLink);\n",
              "        }\n",
              "      </script>\n",
              "    </div>\n",
              "  </div>\n",
              "  "
            ]
          },
          "metadata": {},
          "execution_count": 50
        }
      ]
    },
    {
      "cell_type": "markdown",
      "source": [
        "## 2.3 User-Item Collaborative Filtering Recommendation"
      ],
      "metadata": {
        "id": "ldCjrDB6SNkc"
      }
    },
    {
      "cell_type": "markdown",
      "source": [
        "Collaborative Filtering Recommendation System works by considering user ratings and finds cosine similarities in ratings by several users to recommend books."
      ],
      "metadata": {
        "id": "cOoGQ2LFbZzp"
      }
    },
    {
      "cell_type": "code",
      "source": [
        "# Selecting books with total ratings equals to or more than 50 (Because of availability of limited resources)\n",
        "df3 = pd.DataFrame(df['title'].value_counts())\n",
        "df3['Total_Ratings'] = df3['title']\n",
        "df3['Book_Title'] = df3.index\n",
        "df3.reset_index(level=0, inplace=True)\n",
        "df3 = df3.drop('index',axis=1)\n"
      ],
      "metadata": {
        "id": "w4k85xoMXnEd"
      },
      "execution_count": null,
      "outputs": []
    },
    {
      "cell_type": "code",
      "source": [
        "df3"
      ],
      "metadata": {
        "colab": {
          "base_uri": "https://localhost:8080/",
          "height": 519
        },
        "id": "d0bB0VqkgfFN",
        "outputId": "9553466b-c51d-407f-c0ed-38d84db9a46d"
      },
      "execution_count": null,
      "outputs": [
        {
          "output_type": "execute_result",
          "data": {
            "text/plain": [
              "    title  Total_Ratings                                         Book_Title\n",
              "0     819            819                     ERAGON: INHERITANCE, BOOK ONE.\n",
              "1     570            570  The Hobbitt, or there and back again; illustra...\n",
              "2     496            496                            The Bear and the Dragon\n",
              "3     486            486                              The Devil Wears Prada\n",
              "4     444            444  The Shelters Of Stone - The Earth's Children S...\n",
              "5     422            422                                          The Giver\n",
              "6     404            404                                   The Great Gatsby\n",
              "7     348            348  Julie and Julia: 365 Days, 524 Recipes, 1 Tiny...\n",
              "8     327            327                                  Lord of the flies\n",
              "9     312            312                                     Fahrenheit 451\n",
              "10    296            296                                       The Notebook\n",
              "11    273            273                            A confederacy of dunces\n",
              "12    263            263                                               1984\n",
              "13    258            258                          Dreamcatcher Movie-Tie In\n",
              "14    256            256                                               Dune"
            ],
            "text/html": [
              "\n",
              "  <div id=\"df-e0f2aa6b-3b61-471f-8075-b797e21d200d\">\n",
              "    <div class=\"colab-df-container\">\n",
              "      <div>\n",
              "<style scoped>\n",
              "    .dataframe tbody tr th:only-of-type {\n",
              "        vertical-align: middle;\n",
              "    }\n",
              "\n",
              "    .dataframe tbody tr th {\n",
              "        vertical-align: top;\n",
              "    }\n",
              "\n",
              "    .dataframe thead th {\n",
              "        text-align: right;\n",
              "    }\n",
              "</style>\n",
              "<table border=\"1\" class=\"dataframe\">\n",
              "  <thead>\n",
              "    <tr style=\"text-align: right;\">\n",
              "      <th></th>\n",
              "      <th>title</th>\n",
              "      <th>Total_Ratings</th>\n",
              "      <th>Book_Title</th>\n",
              "    </tr>\n",
              "  </thead>\n",
              "  <tbody>\n",
              "    <tr>\n",
              "      <th>0</th>\n",
              "      <td>819</td>\n",
              "      <td>819</td>\n",
              "      <td>ERAGON: INHERITANCE, BOOK ONE.</td>\n",
              "    </tr>\n",
              "    <tr>\n",
              "      <th>1</th>\n",
              "      <td>570</td>\n",
              "      <td>570</td>\n",
              "      <td>The Hobbitt, or there and back again; illustra...</td>\n",
              "    </tr>\n",
              "    <tr>\n",
              "      <th>2</th>\n",
              "      <td>496</td>\n",
              "      <td>496</td>\n",
              "      <td>The Bear and the Dragon</td>\n",
              "    </tr>\n",
              "    <tr>\n",
              "      <th>3</th>\n",
              "      <td>486</td>\n",
              "      <td>486</td>\n",
              "      <td>The Devil Wears Prada</td>\n",
              "    </tr>\n",
              "    <tr>\n",
              "      <th>4</th>\n",
              "      <td>444</td>\n",
              "      <td>444</td>\n",
              "      <td>The Shelters Of Stone - The Earth's Children S...</td>\n",
              "    </tr>\n",
              "    <tr>\n",
              "      <th>5</th>\n",
              "      <td>422</td>\n",
              "      <td>422</td>\n",
              "      <td>The Giver</td>\n",
              "    </tr>\n",
              "    <tr>\n",
              "      <th>6</th>\n",
              "      <td>404</td>\n",
              "      <td>404</td>\n",
              "      <td>The Great Gatsby</td>\n",
              "    </tr>\n",
              "    <tr>\n",
              "      <th>7</th>\n",
              "      <td>348</td>\n",
              "      <td>348</td>\n",
              "      <td>Julie and Julia: 365 Days, 524 Recipes, 1 Tiny...</td>\n",
              "    </tr>\n",
              "    <tr>\n",
              "      <th>8</th>\n",
              "      <td>327</td>\n",
              "      <td>327</td>\n",
              "      <td>Lord of the flies</td>\n",
              "    </tr>\n",
              "    <tr>\n",
              "      <th>9</th>\n",
              "      <td>312</td>\n",
              "      <td>312</td>\n",
              "      <td>Fahrenheit 451</td>\n",
              "    </tr>\n",
              "    <tr>\n",
              "      <th>10</th>\n",
              "      <td>296</td>\n",
              "      <td>296</td>\n",
              "      <td>The Notebook</td>\n",
              "    </tr>\n",
              "    <tr>\n",
              "      <th>11</th>\n",
              "      <td>273</td>\n",
              "      <td>273</td>\n",
              "      <td>A confederacy of dunces</td>\n",
              "    </tr>\n",
              "    <tr>\n",
              "      <th>12</th>\n",
              "      <td>263</td>\n",
              "      <td>263</td>\n",
              "      <td>1984</td>\n",
              "    </tr>\n",
              "    <tr>\n",
              "      <th>13</th>\n",
              "      <td>258</td>\n",
              "      <td>258</td>\n",
              "      <td>Dreamcatcher Movie-Tie In</td>\n",
              "    </tr>\n",
              "    <tr>\n",
              "      <th>14</th>\n",
              "      <td>256</td>\n",
              "      <td>256</td>\n",
              "      <td>Dune</td>\n",
              "    </tr>\n",
              "  </tbody>\n",
              "</table>\n",
              "</div>\n",
              "      <button class=\"colab-df-convert\" onclick=\"convertToInteractive('df-e0f2aa6b-3b61-471f-8075-b797e21d200d')\"\n",
              "              title=\"Convert this dataframe to an interactive table.\"\n",
              "              style=\"display:none;\">\n",
              "        \n",
              "  <svg xmlns=\"http://www.w3.org/2000/svg\" height=\"24px\"viewBox=\"0 0 24 24\"\n",
              "       width=\"24px\">\n",
              "    <path d=\"M0 0h24v24H0V0z\" fill=\"none\"/>\n",
              "    <path d=\"M18.56 5.44l.94 2.06.94-2.06 2.06-.94-2.06-.94-.94-2.06-.94 2.06-2.06.94zm-11 1L8.5 8.5l.94-2.06 2.06-.94-2.06-.94L8.5 2.5l-.94 2.06-2.06.94zm10 10l.94 2.06.94-2.06 2.06-.94-2.06-.94-.94-2.06-.94 2.06-2.06.94z\"/><path d=\"M17.41 7.96l-1.37-1.37c-.4-.4-.92-.59-1.43-.59-.52 0-1.04.2-1.43.59L10.3 9.45l-7.72 7.72c-.78.78-.78 2.05 0 2.83L4 21.41c.39.39.9.59 1.41.59.51 0 1.02-.2 1.41-.59l7.78-7.78 2.81-2.81c.8-.78.8-2.07 0-2.86zM5.41 20L4 18.59l7.72-7.72 1.47 1.35L5.41 20z\"/>\n",
              "  </svg>\n",
              "      </button>\n",
              "      \n",
              "  <style>\n",
              "    .colab-df-container {\n",
              "      display:flex;\n",
              "      flex-wrap:wrap;\n",
              "      gap: 12px;\n",
              "    }\n",
              "\n",
              "    .colab-df-convert {\n",
              "      background-color: #E8F0FE;\n",
              "      border: none;\n",
              "      border-radius: 50%;\n",
              "      cursor: pointer;\n",
              "      display: none;\n",
              "      fill: #1967D2;\n",
              "      height: 32px;\n",
              "      padding: 0 0 0 0;\n",
              "      width: 32px;\n",
              "    }\n",
              "\n",
              "    .colab-df-convert:hover {\n",
              "      background-color: #E2EBFA;\n",
              "      box-shadow: 0px 1px 2px rgba(60, 64, 67, 0.3), 0px 1px 3px 1px rgba(60, 64, 67, 0.15);\n",
              "      fill: #174EA6;\n",
              "    }\n",
              "\n",
              "    [theme=dark] .colab-df-convert {\n",
              "      background-color: #3B4455;\n",
              "      fill: #D2E3FC;\n",
              "    }\n",
              "\n",
              "    [theme=dark] .colab-df-convert:hover {\n",
              "      background-color: #434B5C;\n",
              "      box-shadow: 0px 1px 3px 1px rgba(0, 0, 0, 0.15);\n",
              "      filter: drop-shadow(0px 1px 2px rgba(0, 0, 0, 0.3));\n",
              "      fill: #FFFFFF;\n",
              "    }\n",
              "  </style>\n",
              "\n",
              "      <script>\n",
              "        const buttonEl =\n",
              "          document.querySelector('#df-e0f2aa6b-3b61-471f-8075-b797e21d200d button.colab-df-convert');\n",
              "        buttonEl.style.display =\n",
              "          google.colab.kernel.accessAllowed ? 'block' : 'none';\n",
              "\n",
              "        async function convertToInteractive(key) {\n",
              "          const element = document.querySelector('#df-e0f2aa6b-3b61-471f-8075-b797e21d200d');\n",
              "          const dataTable =\n",
              "            await google.colab.kernel.invokeFunction('convertToInteractive',\n",
              "                                                     [key], {});\n",
              "          if (!dataTable) return;\n",
              "\n",
              "          const docLinkHtml = 'Like what you see? Visit the ' +\n",
              "            '<a target=\"_blank\" href=https://colab.research.google.com/notebooks/data_table.ipynb>data table notebook</a>'\n",
              "            + ' to learn more about interactive tables.';\n",
              "          element.innerHTML = '';\n",
              "          dataTable['output_type'] = 'display_data';\n",
              "          await google.colab.output.renderOutput(dataTable, element);\n",
              "          const docLink = document.createElement('div');\n",
              "          docLink.innerHTML = docLinkHtml;\n",
              "          element.appendChild(docLink);\n",
              "        }\n",
              "      </script>\n",
              "    </div>\n",
              "  </div>\n",
              "  "
            ]
          },
          "metadata": {},
          "execution_count": 52
        }
      ]
    },
    {
      "cell_type": "code",
      "source": [
        "df3 = df.merge(df3, left_on = 'title', right_on = 'Book_Title', how = 'left')"
      ],
      "metadata": {
        "id": "aCLojCsDfdfW"
      },
      "execution_count": null,
      "outputs": []
    },
    {
      "cell_type": "code",
      "source": [
        "df3 = df3.drop(['title_x','title_y','review'],axis=1)\n",
        "df3"
      ],
      "metadata": {
        "colab": {
          "base_uri": "https://localhost:8080/",
          "height": 423
        },
        "id": "_8OSsO-yhCL0",
        "outputId": "fad6af80-6ec8-498f-ed29-7b2968fc3eb8"
      },
      "execution_count": null,
      "outputs": [
        {
          "output_type": "execute_result",
          "data": {
            "text/plain": [
              "              userID rating     class  Total_Ratings  \\\n",
              "0     A3T18VLRQS59L0    1.0  Negative            819   \n",
              "1     A1PNBYBWGWWVEK    1.0  Negative            819   \n",
              "2     A3CU0U5RY99NXJ    1.0  Negative            496   \n",
              "3     A2FAAYH5AVTGG0    1.0  Negative            486   \n",
              "4     A123DKR2C0ENHY    2.0  Negative            819   \n",
              "...              ...    ...       ...            ...   \n",
              "5969   ASNWGSAJZI99V    4.0  Positive            273   \n",
              "5970  A1WCJEZS66D224    5.0  Positive            404   \n",
              "5971  A1HL8QSFHAYWVI    5.0  Positive            312   \n",
              "5972   A5UWC7ZERWGY6    5.0  Positive            486   \n",
              "5973  A3TEMYB469IXUS    5.0  Positive            404   \n",
              "\n",
              "                          Book_Title  \n",
              "0     ERAGON: INHERITANCE, BOOK ONE.  \n",
              "1     ERAGON: INHERITANCE, BOOK ONE.  \n",
              "2            The Bear and the Dragon  \n",
              "3              The Devil Wears Prada  \n",
              "4     ERAGON: INHERITANCE, BOOK ONE.  \n",
              "...                              ...  \n",
              "5969         A confederacy of dunces  \n",
              "5970                The Great Gatsby  \n",
              "5971                  Fahrenheit 451  \n",
              "5972           The Devil Wears Prada  \n",
              "5973                The Great Gatsby  \n",
              "\n",
              "[5974 rows x 5 columns]"
            ],
            "text/html": [
              "\n",
              "  <div id=\"df-092a0077-3eb8-410e-8fc4-930a0e06a52e\">\n",
              "    <div class=\"colab-df-container\">\n",
              "      <div>\n",
              "<style scoped>\n",
              "    .dataframe tbody tr th:only-of-type {\n",
              "        vertical-align: middle;\n",
              "    }\n",
              "\n",
              "    .dataframe tbody tr th {\n",
              "        vertical-align: top;\n",
              "    }\n",
              "\n",
              "    .dataframe thead th {\n",
              "        text-align: right;\n",
              "    }\n",
              "</style>\n",
              "<table border=\"1\" class=\"dataframe\">\n",
              "  <thead>\n",
              "    <tr style=\"text-align: right;\">\n",
              "      <th></th>\n",
              "      <th>userID</th>\n",
              "      <th>rating</th>\n",
              "      <th>class</th>\n",
              "      <th>Total_Ratings</th>\n",
              "      <th>Book_Title</th>\n",
              "    </tr>\n",
              "  </thead>\n",
              "  <tbody>\n",
              "    <tr>\n",
              "      <th>0</th>\n",
              "      <td>A3T18VLRQS59L0</td>\n",
              "      <td>1.0</td>\n",
              "      <td>Negative</td>\n",
              "      <td>819</td>\n",
              "      <td>ERAGON: INHERITANCE, BOOK ONE.</td>\n",
              "    </tr>\n",
              "    <tr>\n",
              "      <th>1</th>\n",
              "      <td>A1PNBYBWGWWVEK</td>\n",
              "      <td>1.0</td>\n",
              "      <td>Negative</td>\n",
              "      <td>819</td>\n",
              "      <td>ERAGON: INHERITANCE, BOOK ONE.</td>\n",
              "    </tr>\n",
              "    <tr>\n",
              "      <th>2</th>\n",
              "      <td>A3CU0U5RY99NXJ</td>\n",
              "      <td>1.0</td>\n",
              "      <td>Negative</td>\n",
              "      <td>496</td>\n",
              "      <td>The Bear and the Dragon</td>\n",
              "    </tr>\n",
              "    <tr>\n",
              "      <th>3</th>\n",
              "      <td>A2FAAYH5AVTGG0</td>\n",
              "      <td>1.0</td>\n",
              "      <td>Negative</td>\n",
              "      <td>486</td>\n",
              "      <td>The Devil Wears Prada</td>\n",
              "    </tr>\n",
              "    <tr>\n",
              "      <th>4</th>\n",
              "      <td>A123DKR2C0ENHY</td>\n",
              "      <td>2.0</td>\n",
              "      <td>Negative</td>\n",
              "      <td>819</td>\n",
              "      <td>ERAGON: INHERITANCE, BOOK ONE.</td>\n",
              "    </tr>\n",
              "    <tr>\n",
              "      <th>...</th>\n",
              "      <td>...</td>\n",
              "      <td>...</td>\n",
              "      <td>...</td>\n",
              "      <td>...</td>\n",
              "      <td>...</td>\n",
              "    </tr>\n",
              "    <tr>\n",
              "      <th>5969</th>\n",
              "      <td>ASNWGSAJZI99V</td>\n",
              "      <td>4.0</td>\n",
              "      <td>Positive</td>\n",
              "      <td>273</td>\n",
              "      <td>A confederacy of dunces</td>\n",
              "    </tr>\n",
              "    <tr>\n",
              "      <th>5970</th>\n",
              "      <td>A1WCJEZS66D224</td>\n",
              "      <td>5.0</td>\n",
              "      <td>Positive</td>\n",
              "      <td>404</td>\n",
              "      <td>The Great Gatsby</td>\n",
              "    </tr>\n",
              "    <tr>\n",
              "      <th>5971</th>\n",
              "      <td>A1HL8QSFHAYWVI</td>\n",
              "      <td>5.0</td>\n",
              "      <td>Positive</td>\n",
              "      <td>312</td>\n",
              "      <td>Fahrenheit 451</td>\n",
              "    </tr>\n",
              "    <tr>\n",
              "      <th>5972</th>\n",
              "      <td>A5UWC7ZERWGY6</td>\n",
              "      <td>5.0</td>\n",
              "      <td>Positive</td>\n",
              "      <td>486</td>\n",
              "      <td>The Devil Wears Prada</td>\n",
              "    </tr>\n",
              "    <tr>\n",
              "      <th>5973</th>\n",
              "      <td>A3TEMYB469IXUS</td>\n",
              "      <td>5.0</td>\n",
              "      <td>Positive</td>\n",
              "      <td>404</td>\n",
              "      <td>The Great Gatsby</td>\n",
              "    </tr>\n",
              "  </tbody>\n",
              "</table>\n",
              "<p>5974 rows × 5 columns</p>\n",
              "</div>\n",
              "      <button class=\"colab-df-convert\" onclick=\"convertToInteractive('df-092a0077-3eb8-410e-8fc4-930a0e06a52e')\"\n",
              "              title=\"Convert this dataframe to an interactive table.\"\n",
              "              style=\"display:none;\">\n",
              "        \n",
              "  <svg xmlns=\"http://www.w3.org/2000/svg\" height=\"24px\"viewBox=\"0 0 24 24\"\n",
              "       width=\"24px\">\n",
              "    <path d=\"M0 0h24v24H0V0z\" fill=\"none\"/>\n",
              "    <path d=\"M18.56 5.44l.94 2.06.94-2.06 2.06-.94-2.06-.94-.94-2.06-.94 2.06-2.06.94zm-11 1L8.5 8.5l.94-2.06 2.06-.94-2.06-.94L8.5 2.5l-.94 2.06-2.06.94zm10 10l.94 2.06.94-2.06 2.06-.94-2.06-.94-.94-2.06-.94 2.06-2.06.94z\"/><path d=\"M17.41 7.96l-1.37-1.37c-.4-.4-.92-.59-1.43-.59-.52 0-1.04.2-1.43.59L10.3 9.45l-7.72 7.72c-.78.78-.78 2.05 0 2.83L4 21.41c.39.39.9.59 1.41.59.51 0 1.02-.2 1.41-.59l7.78-7.78 2.81-2.81c.8-.78.8-2.07 0-2.86zM5.41 20L4 18.59l7.72-7.72 1.47 1.35L5.41 20z\"/>\n",
              "  </svg>\n",
              "      </button>\n",
              "      \n",
              "  <style>\n",
              "    .colab-df-container {\n",
              "      display:flex;\n",
              "      flex-wrap:wrap;\n",
              "      gap: 12px;\n",
              "    }\n",
              "\n",
              "    .colab-df-convert {\n",
              "      background-color: #E8F0FE;\n",
              "      border: none;\n",
              "      border-radius: 50%;\n",
              "      cursor: pointer;\n",
              "      display: none;\n",
              "      fill: #1967D2;\n",
              "      height: 32px;\n",
              "      padding: 0 0 0 0;\n",
              "      width: 32px;\n",
              "    }\n",
              "\n",
              "    .colab-df-convert:hover {\n",
              "      background-color: #E2EBFA;\n",
              "      box-shadow: 0px 1px 2px rgba(60, 64, 67, 0.3), 0px 1px 3px 1px rgba(60, 64, 67, 0.15);\n",
              "      fill: #174EA6;\n",
              "    }\n",
              "\n",
              "    [theme=dark] .colab-df-convert {\n",
              "      background-color: #3B4455;\n",
              "      fill: #D2E3FC;\n",
              "    }\n",
              "\n",
              "    [theme=dark] .colab-df-convert:hover {\n",
              "      background-color: #434B5C;\n",
              "      box-shadow: 0px 1px 3px 1px rgba(0, 0, 0, 0.15);\n",
              "      filter: drop-shadow(0px 1px 2px rgba(0, 0, 0, 0.3));\n",
              "      fill: #FFFFFF;\n",
              "    }\n",
              "  </style>\n",
              "\n",
              "      <script>\n",
              "        const buttonEl =\n",
              "          document.querySelector('#df-092a0077-3eb8-410e-8fc4-930a0e06a52e button.colab-df-convert');\n",
              "        buttonEl.style.display =\n",
              "          google.colab.kernel.accessAllowed ? 'block' : 'none';\n",
              "\n",
              "        async function convertToInteractive(key) {\n",
              "          const element = document.querySelector('#df-092a0077-3eb8-410e-8fc4-930a0e06a52e');\n",
              "          const dataTable =\n",
              "            await google.colab.kernel.invokeFunction('convertToInteractive',\n",
              "                                                     [key], {});\n",
              "          if (!dataTable) return;\n",
              "\n",
              "          const docLinkHtml = 'Like what you see? Visit the ' +\n",
              "            '<a target=\"_blank\" href=https://colab.research.google.com/notebooks/data_table.ipynb>data table notebook</a>'\n",
              "            + ' to learn more about interactive tables.';\n",
              "          element.innerHTML = '';\n",
              "          dataTable['output_type'] = 'display_data';\n",
              "          await google.colab.output.renderOutput(dataTable, element);\n",
              "          const docLink = document.createElement('div');\n",
              "          docLink.innerHTML = docLinkHtml;\n",
              "          element.appendChild(docLink);\n",
              "        }\n",
              "      </script>\n",
              "    </div>\n",
              "  </div>\n",
              "  "
            ]
          },
          "metadata": {},
          "execution_count": 54
        }
      ]
    },
    {
      "cell_type": "code",
      "source": [
        "# define a threshold for the ratings so we will take the books that rated atleast 50 times \n",
        "popularity_threshold = 50\n",
        "popular_book = df3[df3['Total_Ratings'] >= popularity_threshold]\n",
        "popular_book = popular_book.reset_index(drop = True)"
      ],
      "metadata": {
        "id": "ty7BG4qThPa_"
      },
      "execution_count": null,
      "outputs": []
    },
    {
      "cell_type": "code",
      "source": [
        "popular_book"
      ],
      "metadata": {
        "colab": {
          "base_uri": "https://localhost:8080/",
          "height": 423
        },
        "id": "AApsPj9ri3_r",
        "outputId": "57b02cfd-f9f8-45a0-ccb3-60cf483e5a1d"
      },
      "execution_count": null,
      "outputs": [
        {
          "output_type": "execute_result",
          "data": {
            "text/plain": [
              "              userID rating     class  Total_Ratings  \\\n",
              "0     A3T18VLRQS59L0    1.0  Negative            819   \n",
              "1     A1PNBYBWGWWVEK    1.0  Negative            819   \n",
              "2     A3CU0U5RY99NXJ    1.0  Negative            496   \n",
              "3     A2FAAYH5AVTGG0    1.0  Negative            486   \n",
              "4     A123DKR2C0ENHY    2.0  Negative            819   \n",
              "...              ...    ...       ...            ...   \n",
              "5969   ASNWGSAJZI99V    4.0  Positive            273   \n",
              "5970  A1WCJEZS66D224    5.0  Positive            404   \n",
              "5971  A1HL8QSFHAYWVI    5.0  Positive            312   \n",
              "5972   A5UWC7ZERWGY6    5.0  Positive            486   \n",
              "5973  A3TEMYB469IXUS    5.0  Positive            404   \n",
              "\n",
              "                          Book_Title  \n",
              "0     ERAGON: INHERITANCE, BOOK ONE.  \n",
              "1     ERAGON: INHERITANCE, BOOK ONE.  \n",
              "2            The Bear and the Dragon  \n",
              "3              The Devil Wears Prada  \n",
              "4     ERAGON: INHERITANCE, BOOK ONE.  \n",
              "...                              ...  \n",
              "5969         A confederacy of dunces  \n",
              "5970                The Great Gatsby  \n",
              "5971                  Fahrenheit 451  \n",
              "5972           The Devil Wears Prada  \n",
              "5973                The Great Gatsby  \n",
              "\n",
              "[5974 rows x 5 columns]"
            ],
            "text/html": [
              "\n",
              "  <div id=\"df-8c52caae-44cc-4f62-945f-429a37793c40\">\n",
              "    <div class=\"colab-df-container\">\n",
              "      <div>\n",
              "<style scoped>\n",
              "    .dataframe tbody tr th:only-of-type {\n",
              "        vertical-align: middle;\n",
              "    }\n",
              "\n",
              "    .dataframe tbody tr th {\n",
              "        vertical-align: top;\n",
              "    }\n",
              "\n",
              "    .dataframe thead th {\n",
              "        text-align: right;\n",
              "    }\n",
              "</style>\n",
              "<table border=\"1\" class=\"dataframe\">\n",
              "  <thead>\n",
              "    <tr style=\"text-align: right;\">\n",
              "      <th></th>\n",
              "      <th>userID</th>\n",
              "      <th>rating</th>\n",
              "      <th>class</th>\n",
              "      <th>Total_Ratings</th>\n",
              "      <th>Book_Title</th>\n",
              "    </tr>\n",
              "  </thead>\n",
              "  <tbody>\n",
              "    <tr>\n",
              "      <th>0</th>\n",
              "      <td>A3T18VLRQS59L0</td>\n",
              "      <td>1.0</td>\n",
              "      <td>Negative</td>\n",
              "      <td>819</td>\n",
              "      <td>ERAGON: INHERITANCE, BOOK ONE.</td>\n",
              "    </tr>\n",
              "    <tr>\n",
              "      <th>1</th>\n",
              "      <td>A1PNBYBWGWWVEK</td>\n",
              "      <td>1.0</td>\n",
              "      <td>Negative</td>\n",
              "      <td>819</td>\n",
              "      <td>ERAGON: INHERITANCE, BOOK ONE.</td>\n",
              "    </tr>\n",
              "    <tr>\n",
              "      <th>2</th>\n",
              "      <td>A3CU0U5RY99NXJ</td>\n",
              "      <td>1.0</td>\n",
              "      <td>Negative</td>\n",
              "      <td>496</td>\n",
              "      <td>The Bear and the Dragon</td>\n",
              "    </tr>\n",
              "    <tr>\n",
              "      <th>3</th>\n",
              "      <td>A2FAAYH5AVTGG0</td>\n",
              "      <td>1.0</td>\n",
              "      <td>Negative</td>\n",
              "      <td>486</td>\n",
              "      <td>The Devil Wears Prada</td>\n",
              "    </tr>\n",
              "    <tr>\n",
              "      <th>4</th>\n",
              "      <td>A123DKR2C0ENHY</td>\n",
              "      <td>2.0</td>\n",
              "      <td>Negative</td>\n",
              "      <td>819</td>\n",
              "      <td>ERAGON: INHERITANCE, BOOK ONE.</td>\n",
              "    </tr>\n",
              "    <tr>\n",
              "      <th>...</th>\n",
              "      <td>...</td>\n",
              "      <td>...</td>\n",
              "      <td>...</td>\n",
              "      <td>...</td>\n",
              "      <td>...</td>\n",
              "    </tr>\n",
              "    <tr>\n",
              "      <th>5969</th>\n",
              "      <td>ASNWGSAJZI99V</td>\n",
              "      <td>4.0</td>\n",
              "      <td>Positive</td>\n",
              "      <td>273</td>\n",
              "      <td>A confederacy of dunces</td>\n",
              "    </tr>\n",
              "    <tr>\n",
              "      <th>5970</th>\n",
              "      <td>A1WCJEZS66D224</td>\n",
              "      <td>5.0</td>\n",
              "      <td>Positive</td>\n",
              "      <td>404</td>\n",
              "      <td>The Great Gatsby</td>\n",
              "    </tr>\n",
              "    <tr>\n",
              "      <th>5971</th>\n",
              "      <td>A1HL8QSFHAYWVI</td>\n",
              "      <td>5.0</td>\n",
              "      <td>Positive</td>\n",
              "      <td>312</td>\n",
              "      <td>Fahrenheit 451</td>\n",
              "    </tr>\n",
              "    <tr>\n",
              "      <th>5972</th>\n",
              "      <td>A5UWC7ZERWGY6</td>\n",
              "      <td>5.0</td>\n",
              "      <td>Positive</td>\n",
              "      <td>486</td>\n",
              "      <td>The Devil Wears Prada</td>\n",
              "    </tr>\n",
              "    <tr>\n",
              "      <th>5973</th>\n",
              "      <td>A3TEMYB469IXUS</td>\n",
              "      <td>5.0</td>\n",
              "      <td>Positive</td>\n",
              "      <td>404</td>\n",
              "      <td>The Great Gatsby</td>\n",
              "    </tr>\n",
              "  </tbody>\n",
              "</table>\n",
              "<p>5974 rows × 5 columns</p>\n",
              "</div>\n",
              "      <button class=\"colab-df-convert\" onclick=\"convertToInteractive('df-8c52caae-44cc-4f62-945f-429a37793c40')\"\n",
              "              title=\"Convert this dataframe to an interactive table.\"\n",
              "              style=\"display:none;\">\n",
              "        \n",
              "  <svg xmlns=\"http://www.w3.org/2000/svg\" height=\"24px\"viewBox=\"0 0 24 24\"\n",
              "       width=\"24px\">\n",
              "    <path d=\"M0 0h24v24H0V0z\" fill=\"none\"/>\n",
              "    <path d=\"M18.56 5.44l.94 2.06.94-2.06 2.06-.94-2.06-.94-.94-2.06-.94 2.06-2.06.94zm-11 1L8.5 8.5l.94-2.06 2.06-.94-2.06-.94L8.5 2.5l-.94 2.06-2.06.94zm10 10l.94 2.06.94-2.06 2.06-.94-2.06-.94-.94-2.06-.94 2.06-2.06.94z\"/><path d=\"M17.41 7.96l-1.37-1.37c-.4-.4-.92-.59-1.43-.59-.52 0-1.04.2-1.43.59L10.3 9.45l-7.72 7.72c-.78.78-.78 2.05 0 2.83L4 21.41c.39.39.9.59 1.41.59.51 0 1.02-.2 1.41-.59l7.78-7.78 2.81-2.81c.8-.78.8-2.07 0-2.86zM5.41 20L4 18.59l7.72-7.72 1.47 1.35L5.41 20z\"/>\n",
              "  </svg>\n",
              "      </button>\n",
              "      \n",
              "  <style>\n",
              "    .colab-df-container {\n",
              "      display:flex;\n",
              "      flex-wrap:wrap;\n",
              "      gap: 12px;\n",
              "    }\n",
              "\n",
              "    .colab-df-convert {\n",
              "      background-color: #E8F0FE;\n",
              "      border: none;\n",
              "      border-radius: 50%;\n",
              "      cursor: pointer;\n",
              "      display: none;\n",
              "      fill: #1967D2;\n",
              "      height: 32px;\n",
              "      padding: 0 0 0 0;\n",
              "      width: 32px;\n",
              "    }\n",
              "\n",
              "    .colab-df-convert:hover {\n",
              "      background-color: #E2EBFA;\n",
              "      box-shadow: 0px 1px 2px rgba(60, 64, 67, 0.3), 0px 1px 3px 1px rgba(60, 64, 67, 0.15);\n",
              "      fill: #174EA6;\n",
              "    }\n",
              "\n",
              "    [theme=dark] .colab-df-convert {\n",
              "      background-color: #3B4455;\n",
              "      fill: #D2E3FC;\n",
              "    }\n",
              "\n",
              "    [theme=dark] .colab-df-convert:hover {\n",
              "      background-color: #434B5C;\n",
              "      box-shadow: 0px 1px 3px 1px rgba(0, 0, 0, 0.15);\n",
              "      filter: drop-shadow(0px 1px 2px rgba(0, 0, 0, 0.3));\n",
              "      fill: #FFFFFF;\n",
              "    }\n",
              "  </style>\n",
              "\n",
              "      <script>\n",
              "        const buttonEl =\n",
              "          document.querySelector('#df-8c52caae-44cc-4f62-945f-429a37793c40 button.colab-df-convert');\n",
              "        buttonEl.style.display =\n",
              "          google.colab.kernel.accessAllowed ? 'block' : 'none';\n",
              "\n",
              "        async function convertToInteractive(key) {\n",
              "          const element = document.querySelector('#df-8c52caae-44cc-4f62-945f-429a37793c40');\n",
              "          const dataTable =\n",
              "            await google.colab.kernel.invokeFunction('convertToInteractive',\n",
              "                                                     [key], {});\n",
              "          if (!dataTable) return;\n",
              "\n",
              "          const docLinkHtml = 'Like what you see? Visit the ' +\n",
              "            '<a target=\"_blank\" href=https://colab.research.google.com/notebooks/data_table.ipynb>data table notebook</a>'\n",
              "            + ' to learn more about interactive tables.';\n",
              "          element.innerHTML = '';\n",
              "          dataTable['output_type'] = 'display_data';\n",
              "          await google.colab.output.renderOutput(dataTable, element);\n",
              "          const docLink = document.createElement('div');\n",
              "          docLink.innerHTML = docLinkHtml;\n",
              "          element.appendChild(docLink);\n",
              "        }\n",
              "      </script>\n",
              "    </div>\n",
              "  </div>\n",
              "  "
            ]
          },
          "metadata": {},
          "execution_count": 56
        }
      ]
    },
    {
      "cell_type": "markdown",
      "source": [
        "User - Item Collaborative Filtering"
      ],
      "metadata": {
        "id": "qffG2n5IjKsa"
      }
    },
    {
      "cell_type": "code",
      "source": [
        "testdf = pd.DataFrame()\n",
        "testdf['Book_Title'] = popular_book['Book_Title']\n",
        "testdf['Book_Ratings'] = popular_book['Total_Ratings']\n",
        "testdf['userID'] = popular_book['userID']\n",
        "testdf = testdf[['userID','Book_Ratings']].groupby(testdf['Book_Title'])\n"
      ],
      "metadata": {
        "id": "-yQ6-VGHi5PL"
      },
      "execution_count": null,
      "outputs": []
    },
    {
      "cell_type": "code",
      "source": [
        "from sklearn.feature_extraction import DictVectorizer\n",
        "from sklearn.metrics.pairwise import cosine_similarity\n",
        "\n",
        "listOfDictonaries=[]\n",
        "indexMap = {}\n",
        "reverseIndexMap = {}\n",
        "ptr=0\n",
        "\n",
        "for groupKey in testdf.groups.keys():\n",
        "    tempDict={}\n",
        "    groupDF = testdf.get_group(groupKey)\n",
        "    for i in range(0,len(groupDF)):\n",
        "        tempDict[groupDF.iloc[i,0]] = groupDF.iloc[i,1]\n",
        "    indexMap[ptr]=groupKey\n",
        "    reverseIndexMap[groupKey] = ptr\n",
        "    ptr=ptr+1\n",
        "    listOfDictonaries.append(tempDict)\n",
        "\n",
        "dictVectorizer = DictVectorizer(sparse=True)\n",
        "vector = dictVectorizer.fit_transform(listOfDictonaries)\n",
        "pairwiseSimilarity = cosine_similarity(vector)"
      ],
      "metadata": {
        "id": "CR6WNe9_jpew"
      },
      "execution_count": null,
      "outputs": []
    },
    {
      "cell_type": "code",
      "source": [
        "number = 10 \n",
        "\n",
        "def printBookDetails(bookID):\n",
        "    print(df3[df3['Book_Title']==bookID]['Book_Title'].values[0])\n",
        " \n",
        "\n",
        "def getTopRecommandations(bookID):\n",
        "    collaborative = []\n",
        "    row = reverseIndexMap[bookID]\n",
        "    print(\"Input Book:\")\n",
        "    printBookDetails(bookID)\n",
        "    \n",
        "    print(\"\\nRECOMMENDATIONS:\\n\")\n",
        "    \n",
        "    mn = 0\n",
        "    similar = []\n",
        "    for i in np.argsort(pairwiseSimilarity[row])[:-2][::-1]:\n",
        "          if df3[df3['Book_Title']==indexMap[i]]['Book_Title'].values[0] not in similar:\n",
        "                if mn>=number:\n",
        "                      break\n",
        "                mn+=1\n",
        "                similar.append(df3[df3['Book_Title']==indexMap[i]]['Book_Title'].values[0])\n",
        "                printBookDetails(indexMap[i])\n",
        "                collaborative.append(df3[df3['Book_Title']==indexMap[i]]['Book_Title'].values[0])\n",
        "    return collaborative"
      ],
      "metadata": {
        "id": "oRSgznbSj0eA"
      },
      "execution_count": null,
      "outputs": []
    },
    {
      "cell_type": "code",
      "source": [
        "k = list(df3['Book_Title'])[0]\n",
        "\n",
        "collaborative = getTopRecommandations(k)"
      ],
      "metadata": {
        "colab": {
          "base_uri": "https://localhost:8080/"
        },
        "id": "91wCSnTGl9Kc",
        "outputId": "1ab4977b-ce52-4bbc-98c2-1268a2f18b0a"
      },
      "execution_count": null,
      "outputs": [
        {
          "output_type": "stream",
          "name": "stdout",
          "text": [
            "Input Book:\n",
            "ERAGON: INHERITANCE, BOOK ONE.\n",
            "\n",
            "RECOMMENDATIONS:\n",
            "\n",
            "Dreamcatcher Movie-Tie In\n",
            "The Giver\n",
            "The Notebook\n",
            "The Hobbitt, or there and back again; illustrated by the author.\n",
            "The Shelters Of Stone - The Earth's Children Series, Book 5\n",
            "The Devil Wears Prada\n",
            "The Bear and the Dragon\n",
            "Lord of the flies\n",
            "Julie and Julia: 365 Days, 524 Recipes, 1 Tiny Apartment Kitchen: How One Girl Risked Her Marriage, Her Job, and Her ... Living\n",
            "The Great Gatsby\n"
          ]
        }
      ]
    },
    {
      "cell_type": "code",
      "source": [
        "collaborative = getTopRecommandations('The Devil Wears Prada')"
      ],
      "metadata": {
        "colab": {
          "base_uri": "https://localhost:8080/"
        },
        "id": "Hk8_Ty79nALf",
        "outputId": "9acb47c8-6a93-4471-e2db-5da775e3eb82"
      },
      "execution_count": null,
      "outputs": [
        {
          "output_type": "stream",
          "name": "stdout",
          "text": [
            "Input Book:\n",
            "The Devil Wears Prada\n",
            "\n",
            "RECOMMENDATIONS:\n",
            "\n",
            "Julie and Julia: 365 Days, 524 Recipes, 1 Tiny Apartment Kitchen: How One Girl Risked Her Marriage, Her Job, and Her ... Living\n",
            "ERAGON: INHERITANCE, BOOK ONE.\n",
            "The Hobbitt, or there and back again; illustrated by the author.\n",
            "Dune\n",
            "1984\n",
            "A confederacy of dunces\n",
            "The Notebook\n",
            "Lord of the flies\n",
            "The Shelters Of Stone - The Earth's Children Series, Book 5\n",
            "The Great Gatsby\n"
          ]
        }
      ]
    },
    {
      "cell_type": "markdown",
      "source": [
        "## 2.4 Recommendation (specific to a user )using surprise library "
      ],
      "metadata": {
        "id": "JWJThQPwoBtC"
      }
    },
    {
      "cell_type": "code",
      "source": [
        "pip install surprise"
      ],
      "metadata": {
        "colab": {
          "base_uri": "https://localhost:8080/"
        },
        "id": "1Xbs1tMvqnZ-",
        "outputId": "f6229810-8ea7-4a0c-d035-8a5aec2626df"
      },
      "execution_count": null,
      "outputs": [
        {
          "output_type": "stream",
          "name": "stdout",
          "text": [
            "Looking in indexes: https://pypi.org/simple, https://us-python.pkg.dev/colab-wheels/public/simple/\n",
            "Collecting surprise\n",
            "  Downloading surprise-0.1-py2.py3-none-any.whl (1.8 kB)\n",
            "Collecting scikit-surprise\n",
            "  Downloading scikit-surprise-1.1.1.tar.gz (11.8 MB)\n",
            "\u001b[K     |████████████████████████████████| 11.8 MB 3.1 MB/s \n",
            "\u001b[?25hRequirement already satisfied: joblib>=0.11 in /usr/local/lib/python3.7/dist-packages (from scikit-surprise->surprise) (1.1.0)\n",
            "Requirement already satisfied: numpy>=1.11.2 in /usr/local/lib/python3.7/dist-packages (from scikit-surprise->surprise) (1.21.6)\n",
            "Requirement already satisfied: scipy>=1.0.0 in /usr/local/lib/python3.7/dist-packages (from scikit-surprise->surprise) (1.7.3)\n",
            "Requirement already satisfied: six>=1.10.0 in /usr/local/lib/python3.7/dist-packages (from scikit-surprise->surprise) (1.15.0)\n",
            "Building wheels for collected packages: scikit-surprise\n",
            "  Building wheel for scikit-surprise (setup.py) ... \u001b[?25l\u001b[?25hdone\n",
            "  Created wheel for scikit-surprise: filename=scikit_surprise-1.1.1-cp37-cp37m-linux_x86_64.whl size=1633728 sha256=7229d76569e468ee0193f1fdbaa4158d70a4ab804e48db9af9d377fef222da97\n",
            "  Stored in directory: /root/.cache/pip/wheels/76/44/74/b498c42be47b2406bd27994e16c5188e337c657025ab400c1c\n",
            "Successfully built scikit-surprise\n",
            "Installing collected packages: scikit-surprise, surprise\n",
            "Successfully installed scikit-surprise-1.1.1 surprise-0.1\n"
          ]
        }
      ]
    },
    {
      "cell_type": "code",
      "source": [
        "from datetime import datetime\n",
        "import os\n",
        "import pandas as pd\n",
        "import numpy as np\n",
        "from surprise import Reader\n",
        "from surprise import Dataset\n",
        "from surprise.model_selection import KFold\n",
        "from surprise.model_selection import cross_validate\n",
        "from surprise import NormalPredictor\n",
        "from surprise import KNNBasic\n",
        "from surprise import SVD\n",
        "from surprise import NMF\n",
        "from surprise import SlopeOne\n",
        "from surprise import CoClustering\n",
        "from surprise.accuracy import rmse\n",
        "from surprise import accuracy\n",
        "from surprise.model_selection import train_test_split\n",
        "from surprise.model_selection import GridSearchCV\n",
        "from collections import defaultdict"
      ],
      "metadata": {
        "id": "vc20MepA8mcB"
      },
      "execution_count": null,
      "outputs": []
    },
    {
      "cell_type": "code",
      "source": [
        "ratings_dict = {'title': list(df.title),\n",
        "                'userID': list(df.userID),\n",
        "                'rating': list(df.rating)}\n",
        "\n",
        "df5 = pd.DataFrame(ratings_dict)\n",
        "df5.shape\n",
        "\n",
        "reader = Reader(rating_scale=(1.0, 5.0))\n",
        "data = Dataset.load_from_df(df5[['userID','title', 'rating']], reader)"
      ],
      "metadata": {
        "id": "ZW1AiLAWDiaz"
      },
      "execution_count": null,
      "outputs": []
    },
    {
      "cell_type": "code",
      "source": [
        "benchmark = []\n",
        "\n",
        "for algorithm in [SVD(), NMF(), NormalPredictor(), KNNBasic()]:\n",
        "    results = cross_validate(algorithm,data, measures=['RMSE'], cv=3, verbose=False)\n",
        "    tmp = pd.DataFrame.from_dict(results).mean(axis=0)\n",
        "    tmp = tmp.append(pd.Series([str(algorithm).split(' ')[0].split('.')[-1]],index=['Algorithm']))\n",
        "    benchmark.append(tmp)"
      ],
      "metadata": {
        "colab": {
          "base_uri": "https://localhost:8080/"
        },
        "id": "v5rmb16L8mZj",
        "outputId": "cfd7459a-cd16-4de5-c76d-663f19a45c60"
      },
      "execution_count": null,
      "outputs": [
        {
          "output_type": "stream",
          "name": "stdout",
          "text": [
            "Computing the msd similarity matrix...\n",
            "Done computing similarity matrix.\n",
            "Computing the msd similarity matrix...\n",
            "Done computing similarity matrix.\n",
            "Computing the msd similarity matrix...\n",
            "Done computing similarity matrix.\n"
          ]
        }
      ]
    },
    {
      "cell_type": "code",
      "source": [
        "surprise_results = pd.DataFrame(benchmark).set_index('Algorithm').sort_values('test_rmse')\n",
        "surprise_results"
      ],
      "metadata": {
        "colab": {
          "base_uri": "https://localhost:8080/",
          "height": 206
        },
        "id": "CdwKgAjJ8mTb",
        "outputId": "414672dc-c958-41da-92df-483f1b1b0ab1"
      },
      "execution_count": null,
      "outputs": [
        {
          "output_type": "execute_result",
          "data": {
            "text/plain": [
              "                 test_rmse  fit_time  test_time\n",
              "Algorithm                                      \n",
              "SVD               1.258897  0.375874   0.013540\n",
              "KNNBasic          1.397300  1.207367   0.072642\n",
              "NMF               1.398804  0.575954   0.012022\n",
              "NormalPredictor   1.837453  0.005965   0.021086"
            ],
            "text/html": [
              "\n",
              "  <div id=\"df-be68d09d-6a94-42cf-9be8-1822943e06d0\">\n",
              "    <div class=\"colab-df-container\">\n",
              "      <div>\n",
              "<style scoped>\n",
              "    .dataframe tbody tr th:only-of-type {\n",
              "        vertical-align: middle;\n",
              "    }\n",
              "\n",
              "    .dataframe tbody tr th {\n",
              "        vertical-align: top;\n",
              "    }\n",
              "\n",
              "    .dataframe thead th {\n",
              "        text-align: right;\n",
              "    }\n",
              "</style>\n",
              "<table border=\"1\" class=\"dataframe\">\n",
              "  <thead>\n",
              "    <tr style=\"text-align: right;\">\n",
              "      <th></th>\n",
              "      <th>test_rmse</th>\n",
              "      <th>fit_time</th>\n",
              "      <th>test_time</th>\n",
              "    </tr>\n",
              "    <tr>\n",
              "      <th>Algorithm</th>\n",
              "      <th></th>\n",
              "      <th></th>\n",
              "      <th></th>\n",
              "    </tr>\n",
              "  </thead>\n",
              "  <tbody>\n",
              "    <tr>\n",
              "      <th>SVD</th>\n",
              "      <td>1.258897</td>\n",
              "      <td>0.375874</td>\n",
              "      <td>0.013540</td>\n",
              "    </tr>\n",
              "    <tr>\n",
              "      <th>KNNBasic</th>\n",
              "      <td>1.397300</td>\n",
              "      <td>1.207367</td>\n",
              "      <td>0.072642</td>\n",
              "    </tr>\n",
              "    <tr>\n",
              "      <th>NMF</th>\n",
              "      <td>1.398804</td>\n",
              "      <td>0.575954</td>\n",
              "      <td>0.012022</td>\n",
              "    </tr>\n",
              "    <tr>\n",
              "      <th>NormalPredictor</th>\n",
              "      <td>1.837453</td>\n",
              "      <td>0.005965</td>\n",
              "      <td>0.021086</td>\n",
              "    </tr>\n",
              "  </tbody>\n",
              "</table>\n",
              "</div>\n",
              "      <button class=\"colab-df-convert\" onclick=\"convertToInteractive('df-be68d09d-6a94-42cf-9be8-1822943e06d0')\"\n",
              "              title=\"Convert this dataframe to an interactive table.\"\n",
              "              style=\"display:none;\">\n",
              "        \n",
              "  <svg xmlns=\"http://www.w3.org/2000/svg\" height=\"24px\"viewBox=\"0 0 24 24\"\n",
              "       width=\"24px\">\n",
              "    <path d=\"M0 0h24v24H0V0z\" fill=\"none\"/>\n",
              "    <path d=\"M18.56 5.44l.94 2.06.94-2.06 2.06-.94-2.06-.94-.94-2.06-.94 2.06-2.06.94zm-11 1L8.5 8.5l.94-2.06 2.06-.94-2.06-.94L8.5 2.5l-.94 2.06-2.06.94zm10 10l.94 2.06.94-2.06 2.06-.94-2.06-.94-.94-2.06-.94 2.06-2.06.94z\"/><path d=\"M17.41 7.96l-1.37-1.37c-.4-.4-.92-.59-1.43-.59-.52 0-1.04.2-1.43.59L10.3 9.45l-7.72 7.72c-.78.78-.78 2.05 0 2.83L4 21.41c.39.39.9.59 1.41.59.51 0 1.02-.2 1.41-.59l7.78-7.78 2.81-2.81c.8-.78.8-2.07 0-2.86zM5.41 20L4 18.59l7.72-7.72 1.47 1.35L5.41 20z\"/>\n",
              "  </svg>\n",
              "      </button>\n",
              "      \n",
              "  <style>\n",
              "    .colab-df-container {\n",
              "      display:flex;\n",
              "      flex-wrap:wrap;\n",
              "      gap: 12px;\n",
              "    }\n",
              "\n",
              "    .colab-df-convert {\n",
              "      background-color: #E8F0FE;\n",
              "      border: none;\n",
              "      border-radius: 50%;\n",
              "      cursor: pointer;\n",
              "      display: none;\n",
              "      fill: #1967D2;\n",
              "      height: 32px;\n",
              "      padding: 0 0 0 0;\n",
              "      width: 32px;\n",
              "    }\n",
              "\n",
              "    .colab-df-convert:hover {\n",
              "      background-color: #E2EBFA;\n",
              "      box-shadow: 0px 1px 2px rgba(60, 64, 67, 0.3), 0px 1px 3px 1px rgba(60, 64, 67, 0.15);\n",
              "      fill: #174EA6;\n",
              "    }\n",
              "\n",
              "    [theme=dark] .colab-df-convert {\n",
              "      background-color: #3B4455;\n",
              "      fill: #D2E3FC;\n",
              "    }\n",
              "\n",
              "    [theme=dark] .colab-df-convert:hover {\n",
              "      background-color: #434B5C;\n",
              "      box-shadow: 0px 1px 3px 1px rgba(0, 0, 0, 0.15);\n",
              "      filter: drop-shadow(0px 1px 2px rgba(0, 0, 0, 0.3));\n",
              "      fill: #FFFFFF;\n",
              "    }\n",
              "  </style>\n",
              "\n",
              "      <script>\n",
              "        const buttonEl =\n",
              "          document.querySelector('#df-be68d09d-6a94-42cf-9be8-1822943e06d0 button.colab-df-convert');\n",
              "        buttonEl.style.display =\n",
              "          google.colab.kernel.accessAllowed ? 'block' : 'none';\n",
              "\n",
              "        async function convertToInteractive(key) {\n",
              "          const element = document.querySelector('#df-be68d09d-6a94-42cf-9be8-1822943e06d0');\n",
              "          const dataTable =\n",
              "            await google.colab.kernel.invokeFunction('convertToInteractive',\n",
              "                                                     [key], {});\n",
              "          if (!dataTable) return;\n",
              "\n",
              "          const docLinkHtml = 'Like what you see? Visit the ' +\n",
              "            '<a target=\"_blank\" href=https://colab.research.google.com/notebooks/data_table.ipynb>data table notebook</a>'\n",
              "            + ' to learn more about interactive tables.';\n",
              "          element.innerHTML = '';\n",
              "          dataTable['output_type'] = 'display_data';\n",
              "          await google.colab.output.renderOutput(dataTable, element);\n",
              "          const docLink = document.createElement('div');\n",
              "          docLink.innerHTML = docLinkHtml;\n",
              "          element.appendChild(docLink);\n",
              "        }\n",
              "      </script>\n",
              "    </div>\n",
              "  </div>\n",
              "  "
            ]
          },
          "metadata": {},
          "execution_count": 66
        }
      ]
    },
    {
      "cell_type": "code",
      "source": [
        "trainset, testset = train_test_split(data, test_size=0.25)\n",
        "algo = SVD()\n",
        "predictions = algo.fit(trainset).test(testset)\n",
        "accuracy.rmse(predictions)"
      ],
      "metadata": {
        "colab": {
          "base_uri": "https://localhost:8080/"
        },
        "id": "TWRuvgLj8mPl",
        "outputId": "63acdb9a-04a4-4baf-f51e-0a351a2e4120"
      },
      "execution_count": null,
      "outputs": [
        {
          "output_type": "stream",
          "name": "stdout",
          "text": [
            "RMSE: 1.2760\n"
          ]
        },
        {
          "output_type": "execute_result",
          "data": {
            "text/plain": [
              "1.276022374675752"
            ]
          },
          "metadata": {},
          "execution_count": 67
        }
      ]
    },
    {
      "cell_type": "code",
      "source": [
        "trainset = data.build_full_trainset() \n",
        "algo = SVD()\n",
        "algo.fit(trainset)\n",
        "testset = trainset.build_anti_testset()\n",
        "predictions = algo.test(testset)"
      ],
      "metadata": {
        "id": "8k1QlT4W8mMx"
      },
      "execution_count": null,
      "outputs": []
    },
    {
      "cell_type": "code",
      "source": [
        "def get_all_predictions(predictions):\n",
        "    # First map the predictions to each user.\n",
        "    top_n = defaultdict(list)    \n",
        "    for uid, iid, true_r, est, _ in predictions:\n",
        "        top_n[uid].append((iid, est))\n",
        "        \n",
        "    # Then sort the predictions for each user and retrieve the k highest ones.\n",
        "    for uid, user_ratings in top_n.items():\n",
        "        user_ratings.sort(key=lambda x: x[1], reverse=True)\n",
        "\n",
        "    return top_n"
      ],
      "metadata": {
        "id": "5czml_Ux8mKI"
      },
      "execution_count": null,
      "outputs": []
    },
    {
      "cell_type": "code",
      "source": [
        "all_pred = get_all_predictions(predictions)"
      ],
      "metadata": {
        "id": "qTx_nzCUElZk"
      },
      "execution_count": null,
      "outputs": []
    },
    {
      "cell_type": "code",
      "source": [
        "#To get top 5 reommendation\n",
        "n = 5\n",
        "\n",
        "for uid, user_ratings in all_pred.items():\n",
        "    user_ratings.sort(key=lambda x: x[1], reverse=True)\n",
        "    all_pred[uid] = user_ratings[:n]"
      ],
      "metadata": {
        "id": "4v9yKTVyElRR"
      },
      "execution_count": null,
      "outputs": []
    },
    {
      "cell_type": "code",
      "source": [
        "tmp = pd.DataFrame.from_dict(all_pred)\n",
        "tmp_transpose = tmp.transpose()"
      ],
      "metadata": {
        "id": "ntAJoOEPElNE"
      },
      "execution_count": null,
      "outputs": []
    },
    {
      "cell_type": "code",
      "source": [
        "tmp_transpose"
      ],
      "metadata": {
        "colab": {
          "base_uri": "https://localhost:8080/",
          "height": 641
        },
        "id": "06axKp7gFloJ",
        "outputId": "9266e235-7059-44f9-f061-76eabd735bb6"
      },
      "execution_count": null,
      "outputs": [
        {
          "output_type": "execute_result",
          "data": {
            "text/plain": [
              "                                                                0  \\\n",
              "A3T18VLRQS59L0  (The Hobbitt, or there and back again; illustr...   \n",
              "A1PNBYBWGWWVEK                     (The Giver, 4.045641908410767)   \n",
              "A3CU0U5RY99NXJ                    (The Giver, 3.8378386013728685)   \n",
              "A2FAAYH5AVTGG0  (The Hobbitt, or there and back again; illustr...   \n",
              "A123DKR2C0ENHY  (The Hobbitt, or there and back again; illustr...   \n",
              "...                                                           ...   \n",
              "ASNWGSAJZI99V   (The Hobbitt, or there and back again; illustr...   \n",
              "A1WCJEZS66D224  (The Hobbitt, or there and back again; illustr...   \n",
              "A1HL8QSFHAYWVI  (The Hobbitt, or there and back again; illustr...   \n",
              "A5UWC7ZERWGY6                           (1984, 4.413234862304147)   \n",
              "A3TEMYB469IXUS  (The Hobbitt, or there and back again; illustr...   \n",
              "\n",
              "                                                                1  \\\n",
              "A3T18VLRQS59L0                          (1984, 3.637438630307424)   \n",
              "A1PNBYBWGWWVEK  (The Hobbitt, or there and back again; illustr...   \n",
              "A3CU0U5RY99NXJ  (The Hobbitt, or there and back again; illustr...   \n",
              "A2FAAYH5AVTGG0                    (The Giver, 3.7659985754183163)   \n",
              "A123DKR2C0ENHY                          (1984, 3.783438451929539)   \n",
              "...                                                           ...   \n",
              "ASNWGSAJZI99V                           (1984, 4.230274249574975)   \n",
              "A1WCJEZS66D224                            (1984, 4.0297894525714)   \n",
              "A1HL8QSFHAYWVI                          (1984, 4.315914372554652)   \n",
              "A5UWC7ZERWGY6                           (Dune, 4.083781525016289)   \n",
              "A3TEMYB469IXUS                          (1984, 3.964543650435603)   \n",
              "\n",
              "                                                                2  \\\n",
              "A3T18VLRQS59L0                (Fahrenheit 451, 3.472384839790767)   \n",
              "A1PNBYBWGWWVEK                          (1984, 3.634317033550148)   \n",
              "A3CU0U5RY99NXJ             (Lord of the flies, 3.492167416895671)   \n",
              "A2FAAYH5AVTGG0                         (1984, 3.6966966734982494)   \n",
              "A123DKR2C0ENHY       (A confederacy of dunces, 3.754910247732173)   \n",
              "...                                                           ...   \n",
              "ASNWGSAJZI99V              (Lord of the flies, 3.790238475603017)   \n",
              "A1WCJEZS66D224                    (The Giver, 3.8384069461927757)   \n",
              "A1HL8QSFHAYWVI                    (The Giver, 3.7915505507962273)   \n",
              "A5UWC7ZERWGY6   (The Hobbitt, or there and back again; illustr...   \n",
              "A3TEMYB469IXUS                    (The Giver, 3.7767208265917986)   \n",
              "\n",
              "                                                     3  \\\n",
              "A3T18VLRQS59L0          (The Giver, 3.405858816064314)   \n",
              "A1PNBYBWGWWVEK    (Fahrenheit 451, 3.5297812029068143)   \n",
              "A3CU0U5RY99NXJ  (The Great Gatsby, 3.4845417500925127)   \n",
              "A2FAAYH5AVTGG0     (Fahrenheit 451, 3.611815894324713)   \n",
              "A123DKR2C0ENHY         (The Giver, 3.4900183860970952)   \n",
              "...                                                ...   \n",
              "ASNWGSAJZI99V            (The Giver, 3.77792408408467)   \n",
              "A1WCJEZS66D224     (Fahrenheit 451, 3.743943439155043)   \n",
              "A1HL8QSFHAYWVI               (Dune, 3.671573774047097)   \n",
              "A5UWC7ZERWGY6    (The Great Gatsby, 3.842863395925901)   \n",
              "A3TEMYB469IXUS              (Dune, 3.7745964353166435)   \n",
              "\n",
              "                                                                4  \n",
              "A3T18VLRQS59L0      (A confederacy of dunces, 3.3671367653223565)  \n",
              "A1PNBYBWGWWVEK                 (The Notebook, 3.3728196407833204)  \n",
              "A3CU0U5RY99NXJ      (A confederacy of dunces, 3.3834698395215614)  \n",
              "A2FAAYH5AVTGG0                         (Dune, 3.3653065696922226)  \n",
              "A123DKR2C0ENHY               (Fahrenheit 451, 3.2955726542203916)  \n",
              "...                                                           ...  \n",
              "ASNWGSAJZI99V                (Fahrenheit 451, 3.6711725317012776)  \n",
              "A1WCJEZS66D224                          (Dune, 3.706556628053958)  \n",
              "A1HL8QSFHAYWVI  (ERAGON: INHERITANCE, BOOK ONE., 3.53428668826...  \n",
              "A5UWC7ZERWGY6                (Fahrenheit 451, 3.6017660126097875)  \n",
              "A3TEMYB469IXUS      (A confederacy of dunces, 3.4246101081351625)  \n",
              "\n",
              "[5800 rows x 5 columns]"
            ],
            "text/html": [
              "\n",
              "  <div id=\"df-0f280e1a-7ebc-4af6-bf58-b15fdb0ffc0d\">\n",
              "    <div class=\"colab-df-container\">\n",
              "      <div>\n",
              "<style scoped>\n",
              "    .dataframe tbody tr th:only-of-type {\n",
              "        vertical-align: middle;\n",
              "    }\n",
              "\n",
              "    .dataframe tbody tr th {\n",
              "        vertical-align: top;\n",
              "    }\n",
              "\n",
              "    .dataframe thead th {\n",
              "        text-align: right;\n",
              "    }\n",
              "</style>\n",
              "<table border=\"1\" class=\"dataframe\">\n",
              "  <thead>\n",
              "    <tr style=\"text-align: right;\">\n",
              "      <th></th>\n",
              "      <th>0</th>\n",
              "      <th>1</th>\n",
              "      <th>2</th>\n",
              "      <th>3</th>\n",
              "      <th>4</th>\n",
              "    </tr>\n",
              "  </thead>\n",
              "  <tbody>\n",
              "    <tr>\n",
              "      <th>A3T18VLRQS59L0</th>\n",
              "      <td>(The Hobbitt, or there and back again; illustr...</td>\n",
              "      <td>(1984, 3.637438630307424)</td>\n",
              "      <td>(Fahrenheit 451, 3.472384839790767)</td>\n",
              "      <td>(The Giver, 3.405858816064314)</td>\n",
              "      <td>(A confederacy of dunces, 3.3671367653223565)</td>\n",
              "    </tr>\n",
              "    <tr>\n",
              "      <th>A1PNBYBWGWWVEK</th>\n",
              "      <td>(The Giver, 4.045641908410767)</td>\n",
              "      <td>(The Hobbitt, or there and back again; illustr...</td>\n",
              "      <td>(1984, 3.634317033550148)</td>\n",
              "      <td>(Fahrenheit 451, 3.5297812029068143)</td>\n",
              "      <td>(The Notebook, 3.3728196407833204)</td>\n",
              "    </tr>\n",
              "    <tr>\n",
              "      <th>A3CU0U5RY99NXJ</th>\n",
              "      <td>(The Giver, 3.8378386013728685)</td>\n",
              "      <td>(The Hobbitt, or there and back again; illustr...</td>\n",
              "      <td>(Lord of the flies, 3.492167416895671)</td>\n",
              "      <td>(The Great Gatsby, 3.4845417500925127)</td>\n",
              "      <td>(A confederacy of dunces, 3.3834698395215614)</td>\n",
              "    </tr>\n",
              "    <tr>\n",
              "      <th>A2FAAYH5AVTGG0</th>\n",
              "      <td>(The Hobbitt, or there and back again; illustr...</td>\n",
              "      <td>(The Giver, 3.7659985754183163)</td>\n",
              "      <td>(1984, 3.6966966734982494)</td>\n",
              "      <td>(Fahrenheit 451, 3.611815894324713)</td>\n",
              "      <td>(Dune, 3.3653065696922226)</td>\n",
              "    </tr>\n",
              "    <tr>\n",
              "      <th>A123DKR2C0ENHY</th>\n",
              "      <td>(The Hobbitt, or there and back again; illustr...</td>\n",
              "      <td>(1984, 3.783438451929539)</td>\n",
              "      <td>(A confederacy of dunces, 3.754910247732173)</td>\n",
              "      <td>(The Giver, 3.4900183860970952)</td>\n",
              "      <td>(Fahrenheit 451, 3.2955726542203916)</td>\n",
              "    </tr>\n",
              "    <tr>\n",
              "      <th>...</th>\n",
              "      <td>...</td>\n",
              "      <td>...</td>\n",
              "      <td>...</td>\n",
              "      <td>...</td>\n",
              "      <td>...</td>\n",
              "    </tr>\n",
              "    <tr>\n",
              "      <th>ASNWGSAJZI99V</th>\n",
              "      <td>(The Hobbitt, or there and back again; illustr...</td>\n",
              "      <td>(1984, 4.230274249574975)</td>\n",
              "      <td>(Lord of the flies, 3.790238475603017)</td>\n",
              "      <td>(The Giver, 3.77792408408467)</td>\n",
              "      <td>(Fahrenheit 451, 3.6711725317012776)</td>\n",
              "    </tr>\n",
              "    <tr>\n",
              "      <th>A1WCJEZS66D224</th>\n",
              "      <td>(The Hobbitt, or there and back again; illustr...</td>\n",
              "      <td>(1984, 4.0297894525714)</td>\n",
              "      <td>(The Giver, 3.8384069461927757)</td>\n",
              "      <td>(Fahrenheit 451, 3.743943439155043)</td>\n",
              "      <td>(Dune, 3.706556628053958)</td>\n",
              "    </tr>\n",
              "    <tr>\n",
              "      <th>A1HL8QSFHAYWVI</th>\n",
              "      <td>(The Hobbitt, or there and back again; illustr...</td>\n",
              "      <td>(1984, 4.315914372554652)</td>\n",
              "      <td>(The Giver, 3.7915505507962273)</td>\n",
              "      <td>(Dune, 3.671573774047097)</td>\n",
              "      <td>(ERAGON: INHERITANCE, BOOK ONE., 3.53428668826...</td>\n",
              "    </tr>\n",
              "    <tr>\n",
              "      <th>A5UWC7ZERWGY6</th>\n",
              "      <td>(1984, 4.413234862304147)</td>\n",
              "      <td>(Dune, 4.083781525016289)</td>\n",
              "      <td>(The Hobbitt, or there and back again; illustr...</td>\n",
              "      <td>(The Great Gatsby, 3.842863395925901)</td>\n",
              "      <td>(Fahrenheit 451, 3.6017660126097875)</td>\n",
              "    </tr>\n",
              "    <tr>\n",
              "      <th>A3TEMYB469IXUS</th>\n",
              "      <td>(The Hobbitt, or there and back again; illustr...</td>\n",
              "      <td>(1984, 3.964543650435603)</td>\n",
              "      <td>(The Giver, 3.7767208265917986)</td>\n",
              "      <td>(Dune, 3.7745964353166435)</td>\n",
              "      <td>(A confederacy of dunces, 3.4246101081351625)</td>\n",
              "    </tr>\n",
              "  </tbody>\n",
              "</table>\n",
              "<p>5800 rows × 5 columns</p>\n",
              "</div>\n",
              "      <button class=\"colab-df-convert\" onclick=\"convertToInteractive('df-0f280e1a-7ebc-4af6-bf58-b15fdb0ffc0d')\"\n",
              "              title=\"Convert this dataframe to an interactive table.\"\n",
              "              style=\"display:none;\">\n",
              "        \n",
              "  <svg xmlns=\"http://www.w3.org/2000/svg\" height=\"24px\"viewBox=\"0 0 24 24\"\n",
              "       width=\"24px\">\n",
              "    <path d=\"M0 0h24v24H0V0z\" fill=\"none\"/>\n",
              "    <path d=\"M18.56 5.44l.94 2.06.94-2.06 2.06-.94-2.06-.94-.94-2.06-.94 2.06-2.06.94zm-11 1L8.5 8.5l.94-2.06 2.06-.94-2.06-.94L8.5 2.5l-.94 2.06-2.06.94zm10 10l.94 2.06.94-2.06 2.06-.94-2.06-.94-.94-2.06-.94 2.06-2.06.94z\"/><path d=\"M17.41 7.96l-1.37-1.37c-.4-.4-.92-.59-1.43-.59-.52 0-1.04.2-1.43.59L10.3 9.45l-7.72 7.72c-.78.78-.78 2.05 0 2.83L4 21.41c.39.39.9.59 1.41.59.51 0 1.02-.2 1.41-.59l7.78-7.78 2.81-2.81c.8-.78.8-2.07 0-2.86zM5.41 20L4 18.59l7.72-7.72 1.47 1.35L5.41 20z\"/>\n",
              "  </svg>\n",
              "      </button>\n",
              "      \n",
              "  <style>\n",
              "    .colab-df-container {\n",
              "      display:flex;\n",
              "      flex-wrap:wrap;\n",
              "      gap: 12px;\n",
              "    }\n",
              "\n",
              "    .colab-df-convert {\n",
              "      background-color: #E8F0FE;\n",
              "      border: none;\n",
              "      border-radius: 50%;\n",
              "      cursor: pointer;\n",
              "      display: none;\n",
              "      fill: #1967D2;\n",
              "      height: 32px;\n",
              "      padding: 0 0 0 0;\n",
              "      width: 32px;\n",
              "    }\n",
              "\n",
              "    .colab-df-convert:hover {\n",
              "      background-color: #E2EBFA;\n",
              "      box-shadow: 0px 1px 2px rgba(60, 64, 67, 0.3), 0px 1px 3px 1px rgba(60, 64, 67, 0.15);\n",
              "      fill: #174EA6;\n",
              "    }\n",
              "\n",
              "    [theme=dark] .colab-df-convert {\n",
              "      background-color: #3B4455;\n",
              "      fill: #D2E3FC;\n",
              "    }\n",
              "\n",
              "    [theme=dark] .colab-df-convert:hover {\n",
              "      background-color: #434B5C;\n",
              "      box-shadow: 0px 1px 3px 1px rgba(0, 0, 0, 0.15);\n",
              "      filter: drop-shadow(0px 1px 2px rgba(0, 0, 0, 0.3));\n",
              "      fill: #FFFFFF;\n",
              "    }\n",
              "  </style>\n",
              "\n",
              "      <script>\n",
              "        const buttonEl =\n",
              "          document.querySelector('#df-0f280e1a-7ebc-4af6-bf58-b15fdb0ffc0d button.colab-df-convert');\n",
              "        buttonEl.style.display =\n",
              "          google.colab.kernel.accessAllowed ? 'block' : 'none';\n",
              "\n",
              "        async function convertToInteractive(key) {\n",
              "          const element = document.querySelector('#df-0f280e1a-7ebc-4af6-bf58-b15fdb0ffc0d');\n",
              "          const dataTable =\n",
              "            await google.colab.kernel.invokeFunction('convertToInteractive',\n",
              "                                                     [key], {});\n",
              "          if (!dataTable) return;\n",
              "\n",
              "          const docLinkHtml = 'Like what you see? Visit the ' +\n",
              "            '<a target=\"_blank\" href=https://colab.research.google.com/notebooks/data_table.ipynb>data table notebook</a>'\n",
              "            + ' to learn more about interactive tables.';\n",
              "          element.innerHTML = '';\n",
              "          dataTable['output_type'] = 'display_data';\n",
              "          await google.colab.output.renderOutput(dataTable, element);\n",
              "          const docLink = document.createElement('div');\n",
              "          docLink.innerHTML = docLinkHtml;\n",
              "          element.appendChild(docLink);\n",
              "        }\n",
              "      </script>\n",
              "    </div>\n",
              "  </div>\n",
              "  "
            ]
          },
          "metadata": {},
          "execution_count": 73
        }
      ]
    },
    {
      "cell_type": "code",
      "source": [
        "def get_predictions(user_id):\n",
        "    results = tmp_transpose.loc[user_id]\n",
        "    return pd.DataFrame(results).T"
      ],
      "metadata": {
        "id": "LUnCr8W4ElJk"
      },
      "execution_count": null,
      "outputs": []
    },
    {
      "cell_type": "code",
      "source": [
        "u = list(df.userID)[2]\n",
        "u"
      ],
      "metadata": {
        "colab": {
          "base_uri": "https://localhost:8080/",
          "height": 35
        },
        "id": "uSdEePOcE0lr",
        "outputId": "49a79d54-b441-49d5-86ad-0ffbb504e67c"
      },
      "execution_count": null,
      "outputs": [
        {
          "output_type": "execute_result",
          "data": {
            "text/plain": [
              "'A3CU0U5RY99NXJ'"
            ],
            "application/vnd.google.colaboratory.intrinsic+json": {
              "type": "string"
            }
          },
          "metadata": {},
          "execution_count": 75
        }
      ]
    },
    {
      "cell_type": "code",
      "source": [
        "#specifying the user\n",
        "results = get_predictions(u)\n",
        "results"
      ],
      "metadata": {
        "colab": {
          "base_uri": "https://localhost:8080/",
          "height": 81
        },
        "id": "NJRPdNzLEwcS",
        "outputId": "9ba60062-b677-4beb-832d-6894a70b3cd8"
      },
      "execution_count": null,
      "outputs": [
        {
          "output_type": "execute_result",
          "data": {
            "text/plain": [
              "                                              0  \\\n",
              "A3CU0U5RY99NXJ  (The Giver, 3.8378386013728685)   \n",
              "\n",
              "                                                                1  \\\n",
              "A3CU0U5RY99NXJ  (The Hobbitt, or there and back again; illustr...   \n",
              "\n",
              "                                                     2  \\\n",
              "A3CU0U5RY99NXJ  (Lord of the flies, 3.492167416895671)   \n",
              "\n",
              "                                                     3  \\\n",
              "A3CU0U5RY99NXJ  (The Great Gatsby, 3.4845417500925127)   \n",
              "\n",
              "                                                            4  \n",
              "A3CU0U5RY99NXJ  (A confederacy of dunces, 3.3834698395215614)  "
            ],
            "text/html": [
              "\n",
              "  <div id=\"df-18a6830e-2fbf-40e0-b5a2-768170e15069\">\n",
              "    <div class=\"colab-df-container\">\n",
              "      <div>\n",
              "<style scoped>\n",
              "    .dataframe tbody tr th:only-of-type {\n",
              "        vertical-align: middle;\n",
              "    }\n",
              "\n",
              "    .dataframe tbody tr th {\n",
              "        vertical-align: top;\n",
              "    }\n",
              "\n",
              "    .dataframe thead th {\n",
              "        text-align: right;\n",
              "    }\n",
              "</style>\n",
              "<table border=\"1\" class=\"dataframe\">\n",
              "  <thead>\n",
              "    <tr style=\"text-align: right;\">\n",
              "      <th></th>\n",
              "      <th>0</th>\n",
              "      <th>1</th>\n",
              "      <th>2</th>\n",
              "      <th>3</th>\n",
              "      <th>4</th>\n",
              "    </tr>\n",
              "  </thead>\n",
              "  <tbody>\n",
              "    <tr>\n",
              "      <th>A3CU0U5RY99NXJ</th>\n",
              "      <td>(The Giver, 3.8378386013728685)</td>\n",
              "      <td>(The Hobbitt, or there and back again; illustr...</td>\n",
              "      <td>(Lord of the flies, 3.492167416895671)</td>\n",
              "      <td>(The Great Gatsby, 3.4845417500925127)</td>\n",
              "      <td>(A confederacy of dunces, 3.3834698395215614)</td>\n",
              "    </tr>\n",
              "  </tbody>\n",
              "</table>\n",
              "</div>\n",
              "      <button class=\"colab-df-convert\" onclick=\"convertToInteractive('df-18a6830e-2fbf-40e0-b5a2-768170e15069')\"\n",
              "              title=\"Convert this dataframe to an interactive table.\"\n",
              "              style=\"display:none;\">\n",
              "        \n",
              "  <svg xmlns=\"http://www.w3.org/2000/svg\" height=\"24px\"viewBox=\"0 0 24 24\"\n",
              "       width=\"24px\">\n",
              "    <path d=\"M0 0h24v24H0V0z\" fill=\"none\"/>\n",
              "    <path d=\"M18.56 5.44l.94 2.06.94-2.06 2.06-.94-2.06-.94-.94-2.06-.94 2.06-2.06.94zm-11 1L8.5 8.5l.94-2.06 2.06-.94-2.06-.94L8.5 2.5l-.94 2.06-2.06.94zm10 10l.94 2.06.94-2.06 2.06-.94-2.06-.94-.94-2.06-.94 2.06-2.06.94z\"/><path d=\"M17.41 7.96l-1.37-1.37c-.4-.4-.92-.59-1.43-.59-.52 0-1.04.2-1.43.59L10.3 9.45l-7.72 7.72c-.78.78-.78 2.05 0 2.83L4 21.41c.39.39.9.59 1.41.59.51 0 1.02-.2 1.41-.59l7.78-7.78 2.81-2.81c.8-.78.8-2.07 0-2.86zM5.41 20L4 18.59l7.72-7.72 1.47 1.35L5.41 20z\"/>\n",
              "  </svg>\n",
              "      </button>\n",
              "      \n",
              "  <style>\n",
              "    .colab-df-container {\n",
              "      display:flex;\n",
              "      flex-wrap:wrap;\n",
              "      gap: 12px;\n",
              "    }\n",
              "\n",
              "    .colab-df-convert {\n",
              "      background-color: #E8F0FE;\n",
              "      border: none;\n",
              "      border-radius: 50%;\n",
              "      cursor: pointer;\n",
              "      display: none;\n",
              "      fill: #1967D2;\n",
              "      height: 32px;\n",
              "      padding: 0 0 0 0;\n",
              "      width: 32px;\n",
              "    }\n",
              "\n",
              "    .colab-df-convert:hover {\n",
              "      background-color: #E2EBFA;\n",
              "      box-shadow: 0px 1px 2px rgba(60, 64, 67, 0.3), 0px 1px 3px 1px rgba(60, 64, 67, 0.15);\n",
              "      fill: #174EA6;\n",
              "    }\n",
              "\n",
              "    [theme=dark] .colab-df-convert {\n",
              "      background-color: #3B4455;\n",
              "      fill: #D2E3FC;\n",
              "    }\n",
              "\n",
              "    [theme=dark] .colab-df-convert:hover {\n",
              "      background-color: #434B5C;\n",
              "      box-shadow: 0px 1px 3px 1px rgba(0, 0, 0, 0.15);\n",
              "      filter: drop-shadow(0px 1px 2px rgba(0, 0, 0, 0.3));\n",
              "      fill: #FFFFFF;\n",
              "    }\n",
              "  </style>\n",
              "\n",
              "      <script>\n",
              "        const buttonEl =\n",
              "          document.querySelector('#df-18a6830e-2fbf-40e0-b5a2-768170e15069 button.colab-df-convert');\n",
              "        buttonEl.style.display =\n",
              "          google.colab.kernel.accessAllowed ? 'block' : 'none';\n",
              "\n",
              "        async function convertToInteractive(key) {\n",
              "          const element = document.querySelector('#df-18a6830e-2fbf-40e0-b5a2-768170e15069');\n",
              "          const dataTable =\n",
              "            await google.colab.kernel.invokeFunction('convertToInteractive',\n",
              "                                                     [key], {});\n",
              "          if (!dataTable) return;\n",
              "\n",
              "          const docLinkHtml = 'Like what you see? Visit the ' +\n",
              "            '<a target=\"_blank\" href=https://colab.research.google.com/notebooks/data_table.ipynb>data table notebook</a>'\n",
              "            + ' to learn more about interactive tables.';\n",
              "          element.innerHTML = '';\n",
              "          dataTable['output_type'] = 'display_data';\n",
              "          await google.colab.output.renderOutput(dataTable, element);\n",
              "          const docLink = document.createElement('div');\n",
              "          docLink.innerHTML = docLinkHtml;\n",
              "          element.appendChild(docLink);\n",
              "        }\n",
              "      </script>\n",
              "    </div>\n",
              "  </div>\n",
              "  "
            ]
          },
          "metadata": {},
          "execution_count": 76
        }
      ]
    },
    {
      "cell_type": "markdown",
      "source": [
        "## 2.5 recommendation using surprize library (not spesific to a user ) "
      ],
      "metadata": {
        "id": "a-FdhY4OH4Iw"
      }
    },
    {
      "cell_type": "code",
      "source": [
        "df3"
      ],
      "metadata": {
        "colab": {
          "base_uri": "https://localhost:8080/",
          "height": 423
        },
        "id": "jsFzE4DGJJQe",
        "outputId": "0c5d83e1-7097-4fdc-e831-e93e73378c81"
      },
      "execution_count": null,
      "outputs": [
        {
          "output_type": "execute_result",
          "data": {
            "text/plain": [
              "              userID rating     class  Total_Ratings  \\\n",
              "0     A3T18VLRQS59L0    1.0  Negative            819   \n",
              "1     A1PNBYBWGWWVEK    1.0  Negative            819   \n",
              "2     A3CU0U5RY99NXJ    1.0  Negative            496   \n",
              "3     A2FAAYH5AVTGG0    1.0  Negative            486   \n",
              "4     A123DKR2C0ENHY    2.0  Negative            819   \n",
              "...              ...    ...       ...            ...   \n",
              "5969   ASNWGSAJZI99V    4.0  Positive            273   \n",
              "5970  A1WCJEZS66D224    5.0  Positive            404   \n",
              "5971  A1HL8QSFHAYWVI    5.0  Positive            312   \n",
              "5972   A5UWC7ZERWGY6    5.0  Positive            486   \n",
              "5973  A3TEMYB469IXUS    5.0  Positive            404   \n",
              "\n",
              "                          Book_Title  \n",
              "0     ERAGON: INHERITANCE, BOOK ONE.  \n",
              "1     ERAGON: INHERITANCE, BOOK ONE.  \n",
              "2            The Bear and the Dragon  \n",
              "3              The Devil Wears Prada  \n",
              "4     ERAGON: INHERITANCE, BOOK ONE.  \n",
              "...                              ...  \n",
              "5969         A confederacy of dunces  \n",
              "5970                The Great Gatsby  \n",
              "5971                  Fahrenheit 451  \n",
              "5972           The Devil Wears Prada  \n",
              "5973                The Great Gatsby  \n",
              "\n",
              "[5974 rows x 5 columns]"
            ],
            "text/html": [
              "\n",
              "  <div id=\"df-a7efb501-ddda-43f7-890a-7ea55c64a4ca\">\n",
              "    <div class=\"colab-df-container\">\n",
              "      <div>\n",
              "<style scoped>\n",
              "    .dataframe tbody tr th:only-of-type {\n",
              "        vertical-align: middle;\n",
              "    }\n",
              "\n",
              "    .dataframe tbody tr th {\n",
              "        vertical-align: top;\n",
              "    }\n",
              "\n",
              "    .dataframe thead th {\n",
              "        text-align: right;\n",
              "    }\n",
              "</style>\n",
              "<table border=\"1\" class=\"dataframe\">\n",
              "  <thead>\n",
              "    <tr style=\"text-align: right;\">\n",
              "      <th></th>\n",
              "      <th>userID</th>\n",
              "      <th>rating</th>\n",
              "      <th>class</th>\n",
              "      <th>Total_Ratings</th>\n",
              "      <th>Book_Title</th>\n",
              "    </tr>\n",
              "  </thead>\n",
              "  <tbody>\n",
              "    <tr>\n",
              "      <th>0</th>\n",
              "      <td>A3T18VLRQS59L0</td>\n",
              "      <td>1.0</td>\n",
              "      <td>Negative</td>\n",
              "      <td>819</td>\n",
              "      <td>ERAGON: INHERITANCE, BOOK ONE.</td>\n",
              "    </tr>\n",
              "    <tr>\n",
              "      <th>1</th>\n",
              "      <td>A1PNBYBWGWWVEK</td>\n",
              "      <td>1.0</td>\n",
              "      <td>Negative</td>\n",
              "      <td>819</td>\n",
              "      <td>ERAGON: INHERITANCE, BOOK ONE.</td>\n",
              "    </tr>\n",
              "    <tr>\n",
              "      <th>2</th>\n",
              "      <td>A3CU0U5RY99NXJ</td>\n",
              "      <td>1.0</td>\n",
              "      <td>Negative</td>\n",
              "      <td>496</td>\n",
              "      <td>The Bear and the Dragon</td>\n",
              "    </tr>\n",
              "    <tr>\n",
              "      <th>3</th>\n",
              "      <td>A2FAAYH5AVTGG0</td>\n",
              "      <td>1.0</td>\n",
              "      <td>Negative</td>\n",
              "      <td>486</td>\n",
              "      <td>The Devil Wears Prada</td>\n",
              "    </tr>\n",
              "    <tr>\n",
              "      <th>4</th>\n",
              "      <td>A123DKR2C0ENHY</td>\n",
              "      <td>2.0</td>\n",
              "      <td>Negative</td>\n",
              "      <td>819</td>\n",
              "      <td>ERAGON: INHERITANCE, BOOK ONE.</td>\n",
              "    </tr>\n",
              "    <tr>\n",
              "      <th>...</th>\n",
              "      <td>...</td>\n",
              "      <td>...</td>\n",
              "      <td>...</td>\n",
              "      <td>...</td>\n",
              "      <td>...</td>\n",
              "    </tr>\n",
              "    <tr>\n",
              "      <th>5969</th>\n",
              "      <td>ASNWGSAJZI99V</td>\n",
              "      <td>4.0</td>\n",
              "      <td>Positive</td>\n",
              "      <td>273</td>\n",
              "      <td>A confederacy of dunces</td>\n",
              "    </tr>\n",
              "    <tr>\n",
              "      <th>5970</th>\n",
              "      <td>A1WCJEZS66D224</td>\n",
              "      <td>5.0</td>\n",
              "      <td>Positive</td>\n",
              "      <td>404</td>\n",
              "      <td>The Great Gatsby</td>\n",
              "    </tr>\n",
              "    <tr>\n",
              "      <th>5971</th>\n",
              "      <td>A1HL8QSFHAYWVI</td>\n",
              "      <td>5.0</td>\n",
              "      <td>Positive</td>\n",
              "      <td>312</td>\n",
              "      <td>Fahrenheit 451</td>\n",
              "    </tr>\n",
              "    <tr>\n",
              "      <th>5972</th>\n",
              "      <td>A5UWC7ZERWGY6</td>\n",
              "      <td>5.0</td>\n",
              "      <td>Positive</td>\n",
              "      <td>486</td>\n",
              "      <td>The Devil Wears Prada</td>\n",
              "    </tr>\n",
              "    <tr>\n",
              "      <th>5973</th>\n",
              "      <td>A3TEMYB469IXUS</td>\n",
              "      <td>5.0</td>\n",
              "      <td>Positive</td>\n",
              "      <td>404</td>\n",
              "      <td>The Great Gatsby</td>\n",
              "    </tr>\n",
              "  </tbody>\n",
              "</table>\n",
              "<p>5974 rows × 5 columns</p>\n",
              "</div>\n",
              "      <button class=\"colab-df-convert\" onclick=\"convertToInteractive('df-a7efb501-ddda-43f7-890a-7ea55c64a4ca')\"\n",
              "              title=\"Convert this dataframe to an interactive table.\"\n",
              "              style=\"display:none;\">\n",
              "        \n",
              "  <svg xmlns=\"http://www.w3.org/2000/svg\" height=\"24px\"viewBox=\"0 0 24 24\"\n",
              "       width=\"24px\">\n",
              "    <path d=\"M0 0h24v24H0V0z\" fill=\"none\"/>\n",
              "    <path d=\"M18.56 5.44l.94 2.06.94-2.06 2.06-.94-2.06-.94-.94-2.06-.94 2.06-2.06.94zm-11 1L8.5 8.5l.94-2.06 2.06-.94-2.06-.94L8.5 2.5l-.94 2.06-2.06.94zm10 10l.94 2.06.94-2.06 2.06-.94-2.06-.94-.94-2.06-.94 2.06-2.06.94z\"/><path d=\"M17.41 7.96l-1.37-1.37c-.4-.4-.92-.59-1.43-.59-.52 0-1.04.2-1.43.59L10.3 9.45l-7.72 7.72c-.78.78-.78 2.05 0 2.83L4 21.41c.39.39.9.59 1.41.59.51 0 1.02-.2 1.41-.59l7.78-7.78 2.81-2.81c.8-.78.8-2.07 0-2.86zM5.41 20L4 18.59l7.72-7.72 1.47 1.35L5.41 20z\"/>\n",
              "  </svg>\n",
              "      </button>\n",
              "      \n",
              "  <style>\n",
              "    .colab-df-container {\n",
              "      display:flex;\n",
              "      flex-wrap:wrap;\n",
              "      gap: 12px;\n",
              "    }\n",
              "\n",
              "    .colab-df-convert {\n",
              "      background-color: #E8F0FE;\n",
              "      border: none;\n",
              "      border-radius: 50%;\n",
              "      cursor: pointer;\n",
              "      display: none;\n",
              "      fill: #1967D2;\n",
              "      height: 32px;\n",
              "      padding: 0 0 0 0;\n",
              "      width: 32px;\n",
              "    }\n",
              "\n",
              "    .colab-df-convert:hover {\n",
              "      background-color: #E2EBFA;\n",
              "      box-shadow: 0px 1px 2px rgba(60, 64, 67, 0.3), 0px 1px 3px 1px rgba(60, 64, 67, 0.15);\n",
              "      fill: #174EA6;\n",
              "    }\n",
              "\n",
              "    [theme=dark] .colab-df-convert {\n",
              "      background-color: #3B4455;\n",
              "      fill: #D2E3FC;\n",
              "    }\n",
              "\n",
              "    [theme=dark] .colab-df-convert:hover {\n",
              "      background-color: #434B5C;\n",
              "      box-shadow: 0px 1px 3px 1px rgba(0, 0, 0, 0.15);\n",
              "      filter: drop-shadow(0px 1px 2px rgba(0, 0, 0, 0.3));\n",
              "      fill: #FFFFFF;\n",
              "    }\n",
              "  </style>\n",
              "\n",
              "      <script>\n",
              "        const buttonEl =\n",
              "          document.querySelector('#df-a7efb501-ddda-43f7-890a-7ea55c64a4ca button.colab-df-convert');\n",
              "        buttonEl.style.display =\n",
              "          google.colab.kernel.accessAllowed ? 'block' : 'none';\n",
              "\n",
              "        async function convertToInteractive(key) {\n",
              "          const element = document.querySelector('#df-a7efb501-ddda-43f7-890a-7ea55c64a4ca');\n",
              "          const dataTable =\n",
              "            await google.colab.kernel.invokeFunction('convertToInteractive',\n",
              "                                                     [key], {});\n",
              "          if (!dataTable) return;\n",
              "\n",
              "          const docLinkHtml = 'Like what you see? Visit the ' +\n",
              "            '<a target=\"_blank\" href=https://colab.research.google.com/notebooks/data_table.ipynb>data table notebook</a>'\n",
              "            + ' to learn more about interactive tables.';\n",
              "          element.innerHTML = '';\n",
              "          dataTable['output_type'] = 'display_data';\n",
              "          await google.colab.output.renderOutput(dataTable, element);\n",
              "          const docLink = document.createElement('div');\n",
              "          docLink.innerHTML = docLinkHtml;\n",
              "          element.appendChild(docLink);\n",
              "        }\n",
              "      </script>\n",
              "    </div>\n",
              "  </div>\n",
              "  "
            ]
          },
          "metadata": {},
          "execution_count": 77
        }
      ]
    },
    {
      "cell_type": "code",
      "source": [
        "\n",
        "\n",
        "df22 = pd.DataFrame(df['title'].value_counts())\n",
        "df22['Total_Ratings'] = df22['title']\n",
        "df22['Book_Title'] = df22.index\n",
        "df22.reset_index(level=0, inplace=True)\n",
        "df22 = df22.drop('index',axis=1)\n",
        "\n",
        "lst=list(df22['Book_Title'])\n",
        "\n",
        "df22 = avgRating(df22, df,lst)\n",
        "df22.to_pickle('weightedData')\n",
        "df22 = pd.read_pickle('weightedData')"
      ],
      "metadata": {
        "colab": {
          "base_uri": "https://localhost:8080/"
        },
        "id": "DbnAMNItIqLq",
        "outputId": "de31e44b-009b-4034-fbe7-1f799614bbe2"
      },
      "execution_count": null,
      "outputs": [
        {
          "output_type": "stream",
          "name": "stderr",
          "text": [
            "/usr/local/lib/python3.7/dist-packages/ipykernel_launcher.py:13: SettingWithCopyWarning: \n",
            "A value is trying to be set on a copy of a slice from a DataFrame\n",
            "\n",
            "See the caveats in the documentation: https://pandas.pydata.org/pandas-docs/stable/user_guide/indexing.html#returning-a-view-versus-a-copy\n",
            "  del sys.path[0]\n"
          ]
        }
      ]
    },
    {
      "cell_type": "code",
      "source": [
        "df22"
      ],
      "metadata": {
        "colab": {
          "base_uri": "https://localhost:8080/",
          "height": 519
        },
        "id": "vrAkJVkKJlZC",
        "outputId": "d80aa358-77f8-4f24-d519-3a9e63845bc1"
      },
      "execution_count": null,
      "outputs": [
        {
          "output_type": "execute_result",
          "data": {
            "text/plain": [
              "    title  Total_Ratings                                         Book_Title  \\\n",
              "0     819            819                     ERAGON: INHERITANCE, BOOK ONE.   \n",
              "1     570            570  The Hobbitt, or there and back again; illustra...   \n",
              "2     496            496                            The Bear and the Dragon   \n",
              "3     486            486                              The Devil Wears Prada   \n",
              "4     444            444  The Shelters Of Stone - The Earth's Children S...   \n",
              "5     422            422                                          The Giver   \n",
              "6     404            404                                   The Great Gatsby   \n",
              "7     348            348  Julie and Julia: 365 Days, 524 Recipes, 1 Tiny...   \n",
              "8     327            327                                  Lord of the flies   \n",
              "9     312            312                                     Fahrenheit 451   \n",
              "10    296            296                                       The Notebook   \n",
              "11    273            273                            A confederacy of dunces   \n",
              "12    263            263                                               1984   \n",
              "13    258            258                          Dreamcatcher Movie-Tie In   \n",
              "14    256            256                                               Dune   \n",
              "\n",
              "    Average_Rating  \n",
              "0                2  \n",
              "1                3  \n",
              "2                2  \n",
              "3                2  \n",
              "4                2  \n",
              "5                3  \n",
              "6                3  \n",
              "7                1  \n",
              "8                2  \n",
              "9                3  \n",
              "10               2  \n",
              "11               2  \n",
              "12               3  \n",
              "13               2  \n",
              "14               3  "
            ],
            "text/html": [
              "\n",
              "  <div id=\"df-5eff1454-95ea-47f2-b9e9-ed1b8afc874d\">\n",
              "    <div class=\"colab-df-container\">\n",
              "      <div>\n",
              "<style scoped>\n",
              "    .dataframe tbody tr th:only-of-type {\n",
              "        vertical-align: middle;\n",
              "    }\n",
              "\n",
              "    .dataframe tbody tr th {\n",
              "        vertical-align: top;\n",
              "    }\n",
              "\n",
              "    .dataframe thead th {\n",
              "        text-align: right;\n",
              "    }\n",
              "</style>\n",
              "<table border=\"1\" class=\"dataframe\">\n",
              "  <thead>\n",
              "    <tr style=\"text-align: right;\">\n",
              "      <th></th>\n",
              "      <th>title</th>\n",
              "      <th>Total_Ratings</th>\n",
              "      <th>Book_Title</th>\n",
              "      <th>Average_Rating</th>\n",
              "    </tr>\n",
              "  </thead>\n",
              "  <tbody>\n",
              "    <tr>\n",
              "      <th>0</th>\n",
              "      <td>819</td>\n",
              "      <td>819</td>\n",
              "      <td>ERAGON: INHERITANCE, BOOK ONE.</td>\n",
              "      <td>2</td>\n",
              "    </tr>\n",
              "    <tr>\n",
              "      <th>1</th>\n",
              "      <td>570</td>\n",
              "      <td>570</td>\n",
              "      <td>The Hobbitt, or there and back again; illustra...</td>\n",
              "      <td>3</td>\n",
              "    </tr>\n",
              "    <tr>\n",
              "      <th>2</th>\n",
              "      <td>496</td>\n",
              "      <td>496</td>\n",
              "      <td>The Bear and the Dragon</td>\n",
              "      <td>2</td>\n",
              "    </tr>\n",
              "    <tr>\n",
              "      <th>3</th>\n",
              "      <td>486</td>\n",
              "      <td>486</td>\n",
              "      <td>The Devil Wears Prada</td>\n",
              "      <td>2</td>\n",
              "    </tr>\n",
              "    <tr>\n",
              "      <th>4</th>\n",
              "      <td>444</td>\n",
              "      <td>444</td>\n",
              "      <td>The Shelters Of Stone - The Earth's Children S...</td>\n",
              "      <td>2</td>\n",
              "    </tr>\n",
              "    <tr>\n",
              "      <th>5</th>\n",
              "      <td>422</td>\n",
              "      <td>422</td>\n",
              "      <td>The Giver</td>\n",
              "      <td>3</td>\n",
              "    </tr>\n",
              "    <tr>\n",
              "      <th>6</th>\n",
              "      <td>404</td>\n",
              "      <td>404</td>\n",
              "      <td>The Great Gatsby</td>\n",
              "      <td>3</td>\n",
              "    </tr>\n",
              "    <tr>\n",
              "      <th>7</th>\n",
              "      <td>348</td>\n",
              "      <td>348</td>\n",
              "      <td>Julie and Julia: 365 Days, 524 Recipes, 1 Tiny...</td>\n",
              "      <td>1</td>\n",
              "    </tr>\n",
              "    <tr>\n",
              "      <th>8</th>\n",
              "      <td>327</td>\n",
              "      <td>327</td>\n",
              "      <td>Lord of the flies</td>\n",
              "      <td>2</td>\n",
              "    </tr>\n",
              "    <tr>\n",
              "      <th>9</th>\n",
              "      <td>312</td>\n",
              "      <td>312</td>\n",
              "      <td>Fahrenheit 451</td>\n",
              "      <td>3</td>\n",
              "    </tr>\n",
              "    <tr>\n",
              "      <th>10</th>\n",
              "      <td>296</td>\n",
              "      <td>296</td>\n",
              "      <td>The Notebook</td>\n",
              "      <td>2</td>\n",
              "    </tr>\n",
              "    <tr>\n",
              "      <th>11</th>\n",
              "      <td>273</td>\n",
              "      <td>273</td>\n",
              "      <td>A confederacy of dunces</td>\n",
              "      <td>2</td>\n",
              "    </tr>\n",
              "    <tr>\n",
              "      <th>12</th>\n",
              "      <td>263</td>\n",
              "      <td>263</td>\n",
              "      <td>1984</td>\n",
              "      <td>3</td>\n",
              "    </tr>\n",
              "    <tr>\n",
              "      <th>13</th>\n",
              "      <td>258</td>\n",
              "      <td>258</td>\n",
              "      <td>Dreamcatcher Movie-Tie In</td>\n",
              "      <td>2</td>\n",
              "    </tr>\n",
              "    <tr>\n",
              "      <th>14</th>\n",
              "      <td>256</td>\n",
              "      <td>256</td>\n",
              "      <td>Dune</td>\n",
              "      <td>3</td>\n",
              "    </tr>\n",
              "  </tbody>\n",
              "</table>\n",
              "</div>\n",
              "      <button class=\"colab-df-convert\" onclick=\"convertToInteractive('df-5eff1454-95ea-47f2-b9e9-ed1b8afc874d')\"\n",
              "              title=\"Convert this dataframe to an interactive table.\"\n",
              "              style=\"display:none;\">\n",
              "        \n",
              "  <svg xmlns=\"http://www.w3.org/2000/svg\" height=\"24px\"viewBox=\"0 0 24 24\"\n",
              "       width=\"24px\">\n",
              "    <path d=\"M0 0h24v24H0V0z\" fill=\"none\"/>\n",
              "    <path d=\"M18.56 5.44l.94 2.06.94-2.06 2.06-.94-2.06-.94-.94-2.06-.94 2.06-2.06.94zm-11 1L8.5 8.5l.94-2.06 2.06-.94-2.06-.94L8.5 2.5l-.94 2.06-2.06.94zm10 10l.94 2.06.94-2.06 2.06-.94-2.06-.94-.94-2.06-.94 2.06-2.06.94z\"/><path d=\"M17.41 7.96l-1.37-1.37c-.4-.4-.92-.59-1.43-.59-.52 0-1.04.2-1.43.59L10.3 9.45l-7.72 7.72c-.78.78-.78 2.05 0 2.83L4 21.41c.39.39.9.59 1.41.59.51 0 1.02-.2 1.41-.59l7.78-7.78 2.81-2.81c.8-.78.8-2.07 0-2.86zM5.41 20L4 18.59l7.72-7.72 1.47 1.35L5.41 20z\"/>\n",
              "  </svg>\n",
              "      </button>\n",
              "      \n",
              "  <style>\n",
              "    .colab-df-container {\n",
              "      display:flex;\n",
              "      flex-wrap:wrap;\n",
              "      gap: 12px;\n",
              "    }\n",
              "\n",
              "    .colab-df-convert {\n",
              "      background-color: #E8F0FE;\n",
              "      border: none;\n",
              "      border-radius: 50%;\n",
              "      cursor: pointer;\n",
              "      display: none;\n",
              "      fill: #1967D2;\n",
              "      height: 32px;\n",
              "      padding: 0 0 0 0;\n",
              "      width: 32px;\n",
              "    }\n",
              "\n",
              "    .colab-df-convert:hover {\n",
              "      background-color: #E2EBFA;\n",
              "      box-shadow: 0px 1px 2px rgba(60, 64, 67, 0.3), 0px 1px 3px 1px rgba(60, 64, 67, 0.15);\n",
              "      fill: #174EA6;\n",
              "    }\n",
              "\n",
              "    [theme=dark] .colab-df-convert {\n",
              "      background-color: #3B4455;\n",
              "      fill: #D2E3FC;\n",
              "    }\n",
              "\n",
              "    [theme=dark] .colab-df-convert:hover {\n",
              "      background-color: #434B5C;\n",
              "      box-shadow: 0px 1px 3px 1px rgba(0, 0, 0, 0.15);\n",
              "      filter: drop-shadow(0px 1px 2px rgba(0, 0, 0, 0.3));\n",
              "      fill: #FFFFFF;\n",
              "    }\n",
              "  </style>\n",
              "\n",
              "      <script>\n",
              "        const buttonEl =\n",
              "          document.querySelector('#df-5eff1454-95ea-47f2-b9e9-ed1b8afc874d button.colab-df-convert');\n",
              "        buttonEl.style.display =\n",
              "          google.colab.kernel.accessAllowed ? 'block' : 'none';\n",
              "\n",
              "        async function convertToInteractive(key) {\n",
              "          const element = document.querySelector('#df-5eff1454-95ea-47f2-b9e9-ed1b8afc874d');\n",
              "          const dataTable =\n",
              "            await google.colab.kernel.invokeFunction('convertToInteractive',\n",
              "                                                     [key], {});\n",
              "          if (!dataTable) return;\n",
              "\n",
              "          const docLinkHtml = 'Like what you see? Visit the ' +\n",
              "            '<a target=\"_blank\" href=https://colab.research.google.com/notebooks/data_table.ipynb>data table notebook</a>'\n",
              "            + ' to learn more about interactive tables.';\n",
              "          element.innerHTML = '';\n",
              "          dataTable['output_type'] = 'display_data';\n",
              "          await google.colab.output.renderOutput(dataTable, element);\n",
              "          const docLink = document.createElement('div');\n",
              "          docLink.innerHTML = docLinkHtml;\n",
              "          element.appendChild(docLink);\n",
              "        }\n",
              "      </script>\n",
              "    </div>\n",
              "  </div>\n",
              "  "
            ]
          },
          "metadata": {},
          "execution_count": 79
        }
      ]
    },
    {
      "cell_type": "code",
      "source": [
        "# Visualize:\n",
        "import matplotlib.pyplot as plt\n",
        "%matplotlib inline\n",
        "\n",
        "#visulaize the average of rates \n",
        "df22['Average_Rating'].hist(bins=50)\n"
      ],
      "metadata": {
        "colab": {
          "base_uri": "https://localhost:8080/",
          "height": 282
        },
        "id": "ib6pCzc8JnLh",
        "outputId": "71f78edb-f6fc-4a54-812f-bc269a60ef50"
      },
      "execution_count": null,
      "outputs": [
        {
          "output_type": "execute_result",
          "data": {
            "text/plain": [
              "<matplotlib.axes._subplots.AxesSubplot at 0x7f83453a14d0>"
            ]
          },
          "metadata": {},
          "execution_count": 80
        },
        {
          "output_type": "display_data",
          "data": {
            "text/plain": [
              "<Figure size 432x288 with 1 Axes>"
            ],
            "image/png": "[encoded data removed]"
          },
          "metadata": {
            "needs_background": "light"
          }
        }
      ]
    },
    {
      "cell_type": "code",
      "source": [
        "# visualize number of ratings \n",
        "df22['Total_Ratings'].hist(bins=50)"
      ],
      "metadata": {
        "colab": {
          "base_uri": "https://localhost:8080/",
          "height": 282
        },
        "id": "0FSRWhsqKdVg",
        "outputId": "35a9b3b9-a57d-4156-ad76-5a6f2c653c08"
      },
      "execution_count": null,
      "outputs": [
        {
          "output_type": "execute_result",
          "data": {
            "text/plain": [
              "<matplotlib.axes._subplots.AxesSubplot at 0x7f833feddd50>"
            ]
          },
          "metadata": {},
          "execution_count": 81
        },
        {
          "output_type": "display_data",
          "data": {
            "text/plain": [
              "<Figure size 432x288 with 1 Axes>"
            ],
            "image/png": "[encoded data removed]"
          },
          "metadata": {
            "needs_background": "light"
          }
        }
      ]
    },
    {
      "cell_type": "code",
      "source": [
        "# Joint Plot:\n",
        "import seaborn as sns\n",
        "sns.jointplot(x='Average_Rating', y='Total_Ratings', data=df22)"
      ],
      "metadata": {
        "colab": {
          "base_uri": "https://localhost:8080/",
          "height": 458
        },
        "id": "1-HCCnZxMFFP",
        "outputId": "f3cbb70a-8e5f-4bc4-fac0-33930a8c47d3"
      },
      "execution_count": null,
      "outputs": [
        {
          "output_type": "execute_result",
          "data": {
            "text/plain": [
              "<seaborn.axisgrid.JointGrid at 0x7f8342f4b690>"
            ]
          },
          "metadata": {},
          "execution_count": 82
        },
        {
          "output_type": "display_data",
          "data": {
            "text/plain": [
              "<Figure size 432x432 with 3 Axes>"
            ],
            "image/png": "[encoded data removed]"
          },
          "metadata": {
            "needs_background": "light"
          }
        }
      ]
    },
    {
      "cell_type": "code",
      "source": [
        "df"
      ],
      "metadata": {
        "colab": {
          "base_uri": "https://localhost:8080/",
          "height": 423
        },
        "id": "m4-QjBgZl_kl",
        "outputId": "d977b7cd-fcbf-465f-ace6-48fa6aa87ad5"
      },
      "execution_count": null,
      "outputs": [
        {
          "output_type": "execute_result",
          "data": {
            "text/plain": [
              "                                title          userID rating  \\\n",
              "22     ERAGON: INHERITANCE, BOOK ONE.  A3T18VLRQS59L0    1.0   \n",
              "25     ERAGON: INHERITANCE, BOOK ONE.  A1PNBYBWGWWVEK    1.0   \n",
              "34            The Bear and the Dragon  A3CU0U5RY99NXJ    1.0   \n",
              "35              The Devil Wears Prada  A2FAAYH5AVTGG0    1.0   \n",
              "53     ERAGON: INHERITANCE, BOOK ONE.  A123DKR2C0ENHY    2.0   \n",
              "...                               ...             ...    ...   \n",
              "62425         A confederacy of dunces   ASNWGSAJZI99V    4.0   \n",
              "62428                The Great Gatsby  A1WCJEZS66D224    5.0   \n",
              "62450                  Fahrenheit 451  A1HL8QSFHAYWVI    5.0   \n",
              "62459           The Devil Wears Prada   A5UWC7ZERWGY6    5.0   \n",
              "62484                The Great Gatsby  A3TEMYB469IXUS    5.0   \n",
              "\n",
              "                                                  review     class  \n",
              "22     one of the worst books i have ever read ever i...  Negative  \n",
              "25     ahhh after reading the dying earth by jack van...  Negative  \n",
              "34     this book took so long to write that clancy fo...  Negative  \n",
              "35     while the most prominent character is the alwa...  Negative  \n",
              "53     i bought the sample and just couldnt get into ...  Negative  \n",
              "...                                                  ...       ...  \n",
              "62425  the charector is a little too annoying and may...  Positive  \n",
              "62428  this is absolutely my favorite novel of all ti...  Positive  \n",
              "62450  generally my favorite bradbury illustrator is ...  Positive  \n",
              "62459  my favorite quote was when andrea is talking a...  Positive  \n",
              "62484  i re read this book for a book club being year...  Positive  \n",
              "\n",
              "[5974 rows x 5 columns]"
            ],
            "text/html": [
              "\n",
              "  <div id=\"df-39cc983c-cde2-41b7-b889-8000094952cd\">\n",
              "    <div class=\"colab-df-container\">\n",
              "      <div>\n",
              "<style scoped>\n",
              "    .dataframe tbody tr th:only-of-type {\n",
              "        vertical-align: middle;\n",
              "    }\n",
              "\n",
              "    .dataframe tbody tr th {\n",
              "        vertical-align: top;\n",
              "    }\n",
              "\n",
              "    .dataframe thead th {\n",
              "        text-align: right;\n",
              "    }\n",
              "</style>\n",
              "<table border=\"1\" class=\"dataframe\">\n",
              "  <thead>\n",
              "    <tr style=\"text-align: right;\">\n",
              "      <th></th>\n",
              "      <th>title</th>\n",
              "      <th>userID</th>\n",
              "      <th>rating</th>\n",
              "      <th>review</th>\n",
              "      <th>class</th>\n",
              "    </tr>\n",
              "  </thead>\n",
              "  <tbody>\n",
              "    <tr>\n",
              "      <th>22</th>\n",
              "      <td>ERAGON: INHERITANCE, BOOK ONE.</td>\n",
              "      <td>A3T18VLRQS59L0</td>\n",
              "      <td>1.0</td>\n",
              "      <td>one of the worst books i have ever read ever i...</td>\n",
              "      <td>Negative</td>\n",
              "    </tr>\n",
              "    <tr>\n",
              "      <th>25</th>\n",
              "      <td>ERAGON: INHERITANCE, BOOK ONE.</td>\n",
              "      <td>A1PNBYBWGWWVEK</td>\n",
              "      <td>1.0</td>\n",
              "      <td>ahhh after reading the dying earth by jack van...</td>\n",
              "      <td>Negative</td>\n",
              "    </tr>\n",
              "    <tr>\n",
              "      <th>34</th>\n",
              "      <td>The Bear and the Dragon</td>\n",
              "      <td>A3CU0U5RY99NXJ</td>\n",
              "      <td>1.0</td>\n",
              "      <td>this book took so long to write that clancy fo...</td>\n",
              "      <td>Negative</td>\n",
              "    </tr>\n",
              "    <tr>\n",
              "      <th>35</th>\n",
              "      <td>The Devil Wears Prada</td>\n",
              "      <td>A2FAAYH5AVTGG0</td>\n",
              "      <td>1.0</td>\n",
              "      <td>while the most prominent character is the alwa...</td>\n",
              "      <td>Negative</td>\n",
              "    </tr>\n",
              "    <tr>\n",
              "      <th>53</th>\n",
              "      <td>ERAGON: INHERITANCE, BOOK ONE.</td>\n",
              "      <td>A123DKR2C0ENHY</td>\n",
              "      <td>2.0</td>\n",
              "      <td>i bought the sample and just couldnt get into ...</td>\n",
              "      <td>Negative</td>\n",
              "    </tr>\n",
              "    <tr>\n",
              "      <th>...</th>\n",
              "      <td>...</td>\n",
              "      <td>...</td>\n",
              "      <td>...</td>\n",
              "      <td>...</td>\n",
              "      <td>...</td>\n",
              "    </tr>\n",
              "    <tr>\n",
              "      <th>62425</th>\n",
              "      <td>A confederacy of dunces</td>\n",
              "      <td>ASNWGSAJZI99V</td>\n",
              "      <td>4.0</td>\n",
              "      <td>the charector is a little too annoying and may...</td>\n",
              "      <td>Positive</td>\n",
              "    </tr>\n",
              "    <tr>\n",
              "      <th>62428</th>\n",
              "      <td>The Great Gatsby</td>\n",
              "      <td>A1WCJEZS66D224</td>\n",
              "      <td>5.0</td>\n",
              "      <td>this is absolutely my favorite novel of all ti...</td>\n",
              "      <td>Positive</td>\n",
              "    </tr>\n",
              "    <tr>\n",
              "      <th>62450</th>\n",
              "      <td>Fahrenheit 451</td>\n",
              "      <td>A1HL8QSFHAYWVI</td>\n",
              "      <td>5.0</td>\n",
              "      <td>generally my favorite bradbury illustrator is ...</td>\n",
              "      <td>Positive</td>\n",
              "    </tr>\n",
              "    <tr>\n",
              "      <th>62459</th>\n",
              "      <td>The Devil Wears Prada</td>\n",
              "      <td>A5UWC7ZERWGY6</td>\n",
              "      <td>5.0</td>\n",
              "      <td>my favorite quote was when andrea is talking a...</td>\n",
              "      <td>Positive</td>\n",
              "    </tr>\n",
              "    <tr>\n",
              "      <th>62484</th>\n",
              "      <td>The Great Gatsby</td>\n",
              "      <td>A3TEMYB469IXUS</td>\n",
              "      <td>5.0</td>\n",
              "      <td>i re read this book for a book club being year...</td>\n",
              "      <td>Positive</td>\n",
              "    </tr>\n",
              "  </tbody>\n",
              "</table>\n",
              "<p>5974 rows × 5 columns</p>\n",
              "</div>\n",
              "      <button class=\"colab-df-convert\" onclick=\"convertToInteractive('df-39cc983c-cde2-41b7-b889-8000094952cd')\"\n",
              "              title=\"Convert this dataframe to an interactive table.\"\n",
              "              style=\"display:none;\">\n",
              "        \n",
              "  <svg xmlns=\"http://www.w3.org/2000/svg\" height=\"24px\"viewBox=\"0 0 24 24\"\n",
              "       width=\"24px\">\n",
              "    <path d=\"M0 0h24v24H0V0z\" fill=\"none\"/>\n",
              "    <path d=\"M18.56 5.44l.94 2.06.94-2.06 2.06-.94-2.06-.94-.94-2.06-.94 2.06-2.06.94zm-11 1L8.5 8.5l.94-2.06 2.06-.94-2.06-.94L8.5 2.5l-.94 2.06-2.06.94zm10 10l.94 2.06.94-2.06 2.06-.94-2.06-.94-.94-2.06-.94 2.06-2.06.94z\"/><path d=\"M17.41 7.96l-1.37-1.37c-.4-.4-.92-.59-1.43-.59-.52 0-1.04.2-1.43.59L10.3 9.45l-7.72 7.72c-.78.78-.78 2.05 0 2.83L4 21.41c.39.39.9.59 1.41.59.51 0 1.02-.2 1.41-.59l7.78-7.78 2.81-2.81c.8-.78.8-2.07 0-2.86zM5.41 20L4 18.59l7.72-7.72 1.47 1.35L5.41 20z\"/>\n",
              "  </svg>\n",
              "      </button>\n",
              "      \n",
              "  <style>\n",
              "    .colab-df-container {\n",
              "      display:flex;\n",
              "      flex-wrap:wrap;\n",
              "      gap: 12px;\n",
              "    }\n",
              "\n",
              "    .colab-df-convert {\n",
              "      background-color: #E8F0FE;\n",
              "      border: none;\n",
              "      border-radius: 50%;\n",
              "      cursor: pointer;\n",
              "      display: none;\n",
              "      fill: #1967D2;\n",
              "      height: 32px;\n",
              "      padding: 0 0 0 0;\n",
              "      width: 32px;\n",
              "    }\n",
              "\n",
              "    .colab-df-convert:hover {\n",
              "      background-color: #E2EBFA;\n",
              "      box-shadow: 0px 1px 2px rgba(60, 64, 67, 0.3), 0px 1px 3px 1px rgba(60, 64, 67, 0.15);\n",
              "      fill: #174EA6;\n",
              "    }\n",
              "\n",
              "    [theme=dark] .colab-df-convert {\n",
              "      background-color: #3B4455;\n",
              "      fill: #D2E3FC;\n",
              "    }\n",
              "\n",
              "    [theme=dark] .colab-df-convert:hover {\n",
              "      background-color: #434B5C;\n",
              "      box-shadow: 0px 1px 3px 1px rgba(0, 0, 0, 0.15);\n",
              "      filter: drop-shadow(0px 1px 2px rgba(0, 0, 0, 0.3));\n",
              "      fill: #FFFFFF;\n",
              "    }\n",
              "  </style>\n",
              "\n",
              "      <script>\n",
              "        const buttonEl =\n",
              "          document.querySelector('#df-39cc983c-cde2-41b7-b889-8000094952cd button.colab-df-convert');\n",
              "        buttonEl.style.display =\n",
              "          google.colab.kernel.accessAllowed ? 'block' : 'none';\n",
              "\n",
              "        async function convertToInteractive(key) {\n",
              "          const element = document.querySelector('#df-39cc983c-cde2-41b7-b889-8000094952cd');\n",
              "          const dataTable =\n",
              "            await google.colab.kernel.invokeFunction('convertToInteractive',\n",
              "                                                     [key], {});\n",
              "          if (!dataTable) return;\n",
              "\n",
              "          const docLinkHtml = 'Like what you see? Visit the ' +\n",
              "            '<a target=\"_blank\" href=https://colab.research.google.com/notebooks/data_table.ipynb>data table notebook</a>'\n",
              "            + ' to learn more about interactive tables.';\n",
              "          element.innerHTML = '';\n",
              "          dataTable['output_type'] = 'display_data';\n",
              "          await google.colab.output.renderOutput(dataTable, element);\n",
              "          const docLink = document.createElement('div');\n",
              "          docLink.innerHTML = docLinkHtml;\n",
              "          element.appendChild(docLink);\n",
              "        }\n",
              "      </script>\n",
              "    </div>\n",
              "  </div>\n",
              "  "
            ]
          },
          "metadata": {},
          "execution_count": 83
        }
      ]
    },
    {
      "cell_type": "code",
      "source": [
        "df = df.drop(['class'], axis=1)"
      ],
      "metadata": {
        "id": "VlyS57jW8O5r"
      },
      "execution_count": null,
      "outputs": []
    },
    {
      "cell_type": "code",
      "source": [
        "df.rating = df.rating.astype(float)"
      ],
      "metadata": {
        "id": "tXeLLeyLr1yJ"
      },
      "execution_count": null,
      "outputs": []
    },
    {
      "cell_type": "code",
      "source": [
        "df.head()"
      ],
      "metadata": {
        "colab": {
          "base_uri": "https://localhost:8080/",
          "height": 206
        },
        "id": "54eGXrvu8T42",
        "outputId": "602a7dc1-eb4a-4b73-e5a1-a7b43cba24e2"
      },
      "execution_count": null,
      "outputs": [
        {
          "output_type": "execute_result",
          "data": {
            "text/plain": [
              "                             title          userID  rating  \\\n",
              "22  ERAGON: INHERITANCE, BOOK ONE.  A3T18VLRQS59L0     1.0   \n",
              "25  ERAGON: INHERITANCE, BOOK ONE.  A1PNBYBWGWWVEK     1.0   \n",
              "34         The Bear and the Dragon  A3CU0U5RY99NXJ     1.0   \n",
              "35           The Devil Wears Prada  A2FAAYH5AVTGG0     1.0   \n",
              "53  ERAGON: INHERITANCE, BOOK ONE.  A123DKR2C0ENHY     2.0   \n",
              "\n",
              "                                               review  \n",
              "22  one of the worst books i have ever read ever i...  \n",
              "25  ahhh after reading the dying earth by jack van...  \n",
              "34  this book took so long to write that clancy fo...  \n",
              "35  while the most prominent character is the alwa...  \n",
              "53  i bought the sample and just couldnt get into ...  "
            ],
            "text/html": [
              "\n",
              "  <div id=\"df-d624e9df-ef51-421b-9ce9-d72fd8d1bdc7\">\n",
              "    <div class=\"colab-df-container\">\n",
              "      <div>\n",
              "<style scoped>\n",
              "    .dataframe tbody tr th:only-of-type {\n",
              "        vertical-align: middle;\n",
              "    }\n",
              "\n",
              "    .dataframe tbody tr th {\n",
              "        vertical-align: top;\n",
              "    }\n",
              "\n",
              "    .dataframe thead th {\n",
              "        text-align: right;\n",
              "    }\n",
              "</style>\n",
              "<table border=\"1\" class=\"dataframe\">\n",
              "  <thead>\n",
              "    <tr style=\"text-align: right;\">\n",
              "      <th></th>\n",
              "      <th>title</th>\n",
              "      <th>userID</th>\n",
              "      <th>rating</th>\n",
              "      <th>review</th>\n",
              "    </tr>\n",
              "  </thead>\n",
              "  <tbody>\n",
              "    <tr>\n",
              "      <th>22</th>\n",
              "      <td>ERAGON: INHERITANCE, BOOK ONE.</td>\n",
              "      <td>A3T18VLRQS59L0</td>\n",
              "      <td>1.0</td>\n",
              "      <td>one of the worst books i have ever read ever i...</td>\n",
              "    </tr>\n",
              "    <tr>\n",
              "      <th>25</th>\n",
              "      <td>ERAGON: INHERITANCE, BOOK ONE.</td>\n",
              "      <td>A1PNBYBWGWWVEK</td>\n",
              "      <td>1.0</td>\n",
              "      <td>ahhh after reading the dying earth by jack van...</td>\n",
              "    </tr>\n",
              "    <tr>\n",
              "      <th>34</th>\n",
              "      <td>The Bear and the Dragon</td>\n",
              "      <td>A3CU0U5RY99NXJ</td>\n",
              "      <td>1.0</td>\n",
              "      <td>this book took so long to write that clancy fo...</td>\n",
              "    </tr>\n",
              "    <tr>\n",
              "      <th>35</th>\n",
              "      <td>The Devil Wears Prada</td>\n",
              "      <td>A2FAAYH5AVTGG0</td>\n",
              "      <td>1.0</td>\n",
              "      <td>while the most prominent character is the alwa...</td>\n",
              "    </tr>\n",
              "    <tr>\n",
              "      <th>53</th>\n",
              "      <td>ERAGON: INHERITANCE, BOOK ONE.</td>\n",
              "      <td>A123DKR2C0ENHY</td>\n",
              "      <td>2.0</td>\n",
              "      <td>i bought the sample and just couldnt get into ...</td>\n",
              "    </tr>\n",
              "  </tbody>\n",
              "</table>\n",
              "</div>\n",
              "      <button class=\"colab-df-convert\" onclick=\"convertToInteractive('df-d624e9df-ef51-421b-9ce9-d72fd8d1bdc7')\"\n",
              "              title=\"Convert this dataframe to an interactive table.\"\n",
              "              style=\"display:none;\">\n",
              "        \n",
              "  <svg xmlns=\"http://www.w3.org/2000/svg\" height=\"24px\"viewBox=\"0 0 24 24\"\n",
              "       width=\"24px\">\n",
              "    <path d=\"M0 0h24v24H0V0z\" fill=\"none\"/>\n",
              "    <path d=\"M18.56 5.44l.94 2.06.94-2.06 2.06-.94-2.06-.94-.94-2.06-.94 2.06-2.06.94zm-11 1L8.5 8.5l.94-2.06 2.06-.94-2.06-.94L8.5 2.5l-.94 2.06-2.06.94zm10 10l.94 2.06.94-2.06 2.06-.94-2.06-.94-.94-2.06-.94 2.06-2.06.94z\"/><path d=\"M17.41 7.96l-1.37-1.37c-.4-.4-.92-.59-1.43-.59-.52 0-1.04.2-1.43.59L10.3 9.45l-7.72 7.72c-.78.78-.78 2.05 0 2.83L4 21.41c.39.39.9.59 1.41.59.51 0 1.02-.2 1.41-.59l7.78-7.78 2.81-2.81c.8-.78.8-2.07 0-2.86zM5.41 20L4 18.59l7.72-7.72 1.47 1.35L5.41 20z\"/>\n",
              "  </svg>\n",
              "      </button>\n",
              "      \n",
              "  <style>\n",
              "    .colab-df-container {\n",
              "      display:flex;\n",
              "      flex-wrap:wrap;\n",
              "      gap: 12px;\n",
              "    }\n",
              "\n",
              "    .colab-df-convert {\n",
              "      background-color: #E8F0FE;\n",
              "      border: none;\n",
              "      border-radius: 50%;\n",
              "      cursor: pointer;\n",
              "      display: none;\n",
              "      fill: #1967D2;\n",
              "      height: 32px;\n",
              "      padding: 0 0 0 0;\n",
              "      width: 32px;\n",
              "    }\n",
              "\n",
              "    .colab-df-convert:hover {\n",
              "      background-color: #E2EBFA;\n",
              "      box-shadow: 0px 1px 2px rgba(60, 64, 67, 0.3), 0px 1px 3px 1px rgba(60, 64, 67, 0.15);\n",
              "      fill: #174EA6;\n",
              "    }\n",
              "\n",
              "    [theme=dark] .colab-df-convert {\n",
              "      background-color: #3B4455;\n",
              "      fill: #D2E3FC;\n",
              "    }\n",
              "\n",
              "    [theme=dark] .colab-df-convert:hover {\n",
              "      background-color: #434B5C;\n",
              "      box-shadow: 0px 1px 3px 1px rgba(0, 0, 0, 0.15);\n",
              "      filter: drop-shadow(0px 1px 2px rgba(0, 0, 0, 0.3));\n",
              "      fill: #FFFFFF;\n",
              "    }\n",
              "  </style>\n",
              "\n",
              "      <script>\n",
              "        const buttonEl =\n",
              "          document.querySelector('#df-d624e9df-ef51-421b-9ce9-d72fd8d1bdc7 button.colab-df-convert');\n",
              "        buttonEl.style.display =\n",
              "          google.colab.kernel.accessAllowed ? 'block' : 'none';\n",
              "\n",
              "        async function convertToInteractive(key) {\n",
              "          const element = document.querySelector('#df-d624e9df-ef51-421b-9ce9-d72fd8d1bdc7');\n",
              "          const dataTable =\n",
              "            await google.colab.kernel.invokeFunction('convertToInteractive',\n",
              "                                                     [key], {});\n",
              "          if (!dataTable) return;\n",
              "\n",
              "          const docLinkHtml = 'Like what you see? Visit the ' +\n",
              "            '<a target=\"_blank\" href=https://colab.research.google.com/notebooks/data_table.ipynb>data table notebook</a>'\n",
              "            + ' to learn more about interactive tables.';\n",
              "          element.innerHTML = '';\n",
              "          dataTable['output_type'] = 'display_data';\n",
              "          await google.colab.output.renderOutput(dataTable, element);\n",
              "          const docLink = document.createElement('div');\n",
              "          docLink.innerHTML = docLinkHtml;\n",
              "          element.appendChild(docLink);\n",
              "        }\n",
              "      </script>\n",
              "    </div>\n",
              "  </div>\n",
              "  "
            ]
          },
          "metadata": {},
          "execution_count": 86
        }
      ]
    },
    {
      "cell_type": "code",
      "source": [
        "book_matrix = df.pivot_table(index='userID', columns='title', values='rating')\n",
        "book_matrix.head()"
      ],
      "metadata": {
        "colab": {
          "base_uri": "https://localhost:8080/",
          "height": 403
        },
        "id": "bksldQsmpoE4",
        "outputId": "201e7f33-88ac-410e-fbeb-74084a107808"
      },
      "execution_count": null,
      "outputs": [
        {
          "output_type": "execute_result",
          "data": {
            "text/plain": [
              "title                  1984  A confederacy of dunces  \\\n",
              "userID                                                 \n",
              "A054179626QUH22ZAZTAY   NaN                      NaN   \n",
              "A0844216213AV73HU4KN6   NaN                      NaN   \n",
              "A100JEV1I8ZHJ8          NaN                      NaN   \n",
              "A100NE7N89DVC0          NaN                      NaN   \n",
              "A101DG7P9E26PW          NaN                      NaN   \n",
              "\n",
              "title                  Dreamcatcher Movie-Tie In  Dune  \\\n",
              "userID                                                   \n",
              "A054179626QUH22ZAZTAY                        NaN   NaN   \n",
              "A0844216213AV73HU4KN6                        NaN   NaN   \n",
              "A100JEV1I8ZHJ8                               NaN   NaN   \n",
              "A100NE7N89DVC0                               3.0   NaN   \n",
              "A101DG7P9E26PW                               NaN   NaN   \n",
              "\n",
              "title                  ERAGON: INHERITANCE, BOOK ONE.  Fahrenheit 451  \\\n",
              "userID                                                                  \n",
              "A054179626QUH22ZAZTAY                             NaN             NaN   \n",
              "A0844216213AV73HU4KN6                             NaN             NaN   \n",
              "A100JEV1I8ZHJ8                                    NaN             NaN   \n",
              "A100NE7N89DVC0                                    NaN             NaN   \n",
              "A101DG7P9E26PW                                    NaN             5.0   \n",
              "\n",
              "title                  Julie and Julia: 365 Days, 524 Recipes, 1 Tiny Apartment Kitchen: How One Girl Risked Her Marriage, Her Job, and Her ... Living  \\\n",
              "userID                                                                                                                                                   \n",
              "A054179626QUH22ZAZTAY                                                NaN                                                                                 \n",
              "A0844216213AV73HU4KN6                                                NaN                                                                                 \n",
              "A100JEV1I8ZHJ8                                                       NaN                                                                                 \n",
              "A100NE7N89DVC0                                                       NaN                                                                                 \n",
              "A101DG7P9E26PW                                                       NaN                                                                                 \n",
              "\n",
              "title                  Lord of the flies  The Bear and the Dragon  \\\n",
              "userID                                                              \n",
              "A054179626QUH22ZAZTAY                NaN                      NaN   \n",
              "A0844216213AV73HU4KN6                NaN                      NaN   \n",
              "A100JEV1I8ZHJ8                       NaN                      NaN   \n",
              "A100NE7N89DVC0                       NaN                      NaN   \n",
              "A101DG7P9E26PW                       NaN                      NaN   \n",
              "\n",
              "title                  The Devil Wears Prada  The Giver  The Great Gatsby  \\\n",
              "userID                                                                      \n",
              "A054179626QUH22ZAZTAY                    NaN        3.0               NaN   \n",
              "A0844216213AV73HU4KN6                    2.0        NaN               NaN   \n",
              "A100JEV1I8ZHJ8                           NaN        NaN               NaN   \n",
              "A100NE7N89DVC0                           NaN        NaN               NaN   \n",
              "A101DG7P9E26PW                           NaN        NaN               NaN   \n",
              "\n",
              "title                  The Hobbitt, or there and back again; illustrated by the author.  \\\n",
              "userID                                                                                    \n",
              "A054179626QUH22ZAZTAY                                                NaN                  \n",
              "A0844216213AV73HU4KN6                                                NaN                  \n",
              "A100JEV1I8ZHJ8                                                       NaN                  \n",
              "A100NE7N89DVC0                                                       NaN                  \n",
              "A101DG7P9E26PW                                                       NaN                  \n",
              "\n",
              "title                  The Notebook  \\\n",
              "userID                                \n",
              "A054179626QUH22ZAZTAY           NaN   \n",
              "A0844216213AV73HU4KN6           NaN   \n",
              "A100JEV1I8ZHJ8                  1.0   \n",
              "A100NE7N89DVC0                  NaN   \n",
              "A101DG7P9E26PW                  NaN   \n",
              "\n",
              "title                  The Shelters Of Stone - The Earth's Children Series, Book 5  \n",
              "userID                                                                              \n",
              "A054179626QUH22ZAZTAY                                                NaN            \n",
              "A0844216213AV73HU4KN6                                                NaN            \n",
              "A100JEV1I8ZHJ8                                                       NaN            \n",
              "A100NE7N89DVC0                                                       NaN            \n",
              "A101DG7P9E26PW                                                       NaN            "
            ],
            "text/html": [
              "\n",
              "  <div id=\"df-e4a88bd1-8b3f-430d-91b8-a50342b984d1\">\n",
              "    <div class=\"colab-df-container\">\n",
              "      <div>\n",
              "<style scoped>\n",
              "    .dataframe tbody tr th:only-of-type {\n",
              "        vertical-align: middle;\n",
              "    }\n",
              "\n",
              "    .dataframe tbody tr th {\n",
              "        vertical-align: top;\n",
              "    }\n",
              "\n",
              "    .dataframe thead th {\n",
              "        text-align: right;\n",
              "    }\n",
              "</style>\n",
              "<table border=\"1\" class=\"dataframe\">\n",
              "  <thead>\n",
              "    <tr style=\"text-align: right;\">\n",
              "      <th>title</th>\n",
              "      <th>1984</th>\n",
              "      <th>A confederacy of dunces</th>\n",
              "      <th>Dreamcatcher Movie-Tie In</th>\n",
              "      <th>Dune</th>\n",
              "      <th>ERAGON: INHERITANCE, BOOK ONE.</th>\n",
              "      <th>Fahrenheit 451</th>\n",
              "      <th>Julie and Julia: 365 Days, 524 Recipes, 1 Tiny Apartment Kitchen: How One Girl Risked Her Marriage, Her Job, and Her ... Living</th>\n",
              "      <th>Lord of the flies</th>\n",
              "      <th>The Bear and the Dragon</th>\n",
              "      <th>The Devil Wears Prada</th>\n",
              "      <th>The Giver</th>\n",
              "      <th>The Great Gatsby</th>\n",
              "      <th>The Hobbitt, or there and back again; illustrated by the author.</th>\n",
              "      <th>The Notebook</th>\n",
              "      <th>The Shelters Of Stone - The Earth's Children Series, Book 5</th>\n",
              "    </tr>\n",
              "    <tr>\n",
              "      <th>userID</th>\n",
              "      <th></th>\n",
              "      <th></th>\n",
              "      <th></th>\n",
              "      <th></th>\n",
              "      <th></th>\n",
              "      <th></th>\n",
              "      <th></th>\n",
              "      <th></th>\n",
              "      <th></th>\n",
              "      <th></th>\n",
              "      <th></th>\n",
              "      <th></th>\n",
              "      <th></th>\n",
              "      <th></th>\n",
              "      <th></th>\n",
              "    </tr>\n",
              "  </thead>\n",
              "  <tbody>\n",
              "    <tr>\n",
              "      <th>A054179626QUH22ZAZTAY</th>\n",
              "      <td>NaN</td>\n",
              "      <td>NaN</td>\n",
              "      <td>NaN</td>\n",
              "      <td>NaN</td>\n",
              "      <td>NaN</td>\n",
              "      <td>NaN</td>\n",
              "      <td>NaN</td>\n",
              "      <td>NaN</td>\n",
              "      <td>NaN</td>\n",
              "      <td>NaN</td>\n",
              "      <td>3.0</td>\n",
              "      <td>NaN</td>\n",
              "      <td>NaN</td>\n",
              "      <td>NaN</td>\n",
              "      <td>NaN</td>\n",
              "    </tr>\n",
              "    <tr>\n",
              "      <th>A0844216213AV73HU4KN6</th>\n",
              "      <td>NaN</td>\n",
              "      <td>NaN</td>\n",
              "      <td>NaN</td>\n",
              "      <td>NaN</td>\n",
              "      <td>NaN</td>\n",
              "      <td>NaN</td>\n",
              "      <td>NaN</td>\n",
              "      <td>NaN</td>\n",
              "      <td>NaN</td>\n",
              "      <td>2.0</td>\n",
              "      <td>NaN</td>\n",
              "      <td>NaN</td>\n",
              "      <td>NaN</td>\n",
              "      <td>NaN</td>\n",
              "      <td>NaN</td>\n",
              "    </tr>\n",
              "    <tr>\n",
              "      <th>A100JEV1I8ZHJ8</th>\n",
              "      <td>NaN</td>\n",
              "      <td>NaN</td>\n",
              "      <td>NaN</td>\n",
              "      <td>NaN</td>\n",
              "      <td>NaN</td>\n",
              "      <td>NaN</td>\n",
              "      <td>NaN</td>\n",
              "      <td>NaN</td>\n",
              "      <td>NaN</td>\n",
              "      <td>NaN</td>\n",
              "      <td>NaN</td>\n",
              "      <td>NaN</td>\n",
              "      <td>NaN</td>\n",
              "      <td>1.0</td>\n",
              "      <td>NaN</td>\n",
              "    </tr>\n",
              "    <tr>\n",
              "      <th>A100NE7N89DVC0</th>\n",
              "      <td>NaN</td>\n",
              "      <td>NaN</td>\n",
              "      <td>3.0</td>\n",
              "      <td>NaN</td>\n",
              "      <td>NaN</td>\n",
              "      <td>NaN</td>\n",
              "      <td>NaN</td>\n",
              "      <td>NaN</td>\n",
              "      <td>NaN</td>\n",
              "      <td>NaN</td>\n",
              "      <td>NaN</td>\n",
              "      <td>NaN</td>\n",
              "      <td>NaN</td>\n",
              "      <td>NaN</td>\n",
              "      <td>NaN</td>\n",
              "    </tr>\n",
              "    <tr>\n",
              "      <th>A101DG7P9E26PW</th>\n",
              "      <td>NaN</td>\n",
              "      <td>NaN</td>\n",
              "      <td>NaN</td>\n",
              "      <td>NaN</td>\n",
              "      <td>NaN</td>\n",
              "      <td>5.0</td>\n",
              "      <td>NaN</td>\n",
              "      <td>NaN</td>\n",
              "      <td>NaN</td>\n",
              "      <td>NaN</td>\n",
              "      <td>NaN</td>\n",
              "      <td>NaN</td>\n",
              "      <td>NaN</td>\n",
              "      <td>NaN</td>\n",
              "      <td>NaN</td>\n",
              "    </tr>\n",
              "  </tbody>\n",
              "</table>\n",
              "</div>\n",
              "      <button class=\"colab-df-convert\" onclick=\"convertToInteractive('df-e4a88bd1-8b3f-430d-91b8-a50342b984d1')\"\n",
              "              title=\"Convert this dataframe to an interactive table.\"\n",
              "              style=\"display:none;\">\n",
              "        \n",
              "  <svg xmlns=\"http://www.w3.org/2000/svg\" height=\"24px\"viewBox=\"0 0 24 24\"\n",
              "       width=\"24px\">\n",
              "    <path d=\"M0 0h24v24H0V0z\" fill=\"none\"/>\n",
              "    <path d=\"M18.56 5.44l.94 2.06.94-2.06 2.06-.94-2.06-.94-.94-2.06-.94 2.06-2.06.94zm-11 1L8.5 8.5l.94-2.06 2.06-.94-2.06-.94L8.5 2.5l-.94 2.06-2.06.94zm10 10l.94 2.06.94-2.06 2.06-.94-2.06-.94-.94-2.06-.94 2.06-2.06.94z\"/><path d=\"M17.41 7.96l-1.37-1.37c-.4-.4-.92-.59-1.43-.59-.52 0-1.04.2-1.43.59L10.3 9.45l-7.72 7.72c-.78.78-.78 2.05 0 2.83L4 21.41c.39.39.9.59 1.41.59.51 0 1.02-.2 1.41-.59l7.78-7.78 2.81-2.81c.8-.78.8-2.07 0-2.86zM5.41 20L4 18.59l7.72-7.72 1.47 1.35L5.41 20z\"/>\n",
              "  </svg>\n",
              "      </button>\n",
              "      \n",
              "  <style>\n",
              "    .colab-df-container {\n",
              "      display:flex;\n",
              "      flex-wrap:wrap;\n",
              "      gap: 12px;\n",
              "    }\n",
              "\n",
              "    .colab-df-convert {\n",
              "      background-color: #E8F0FE;\n",
              "      border: none;\n",
              "      border-radius: 50%;\n",
              "      cursor: pointer;\n",
              "      display: none;\n",
              "      fill: #1967D2;\n",
              "      height: 32px;\n",
              "      padding: 0 0 0 0;\n",
              "      width: 32px;\n",
              "    }\n",
              "\n",
              "    .colab-df-convert:hover {\n",
              "      background-color: #E2EBFA;\n",
              "      box-shadow: 0px 1px 2px rgba(60, 64, 67, 0.3), 0px 1px 3px 1px rgba(60, 64, 67, 0.15);\n",
              "      fill: #174EA6;\n",
              "    }\n",
              "\n",
              "    [theme=dark] .colab-df-convert {\n",
              "      background-color: #3B4455;\n",
              "      fill: #D2E3FC;\n",
              "    }\n",
              "\n",
              "    [theme=dark] .colab-df-convert:hover {\n",
              "      background-color: #434B5C;\n",
              "      box-shadow: 0px 1px 3px 1px rgba(0, 0, 0, 0.15);\n",
              "      filter: drop-shadow(0px 1px 2px rgba(0, 0, 0, 0.3));\n",
              "      fill: #FFFFFF;\n",
              "    }\n",
              "  </style>\n",
              "\n",
              "      <script>\n",
              "        const buttonEl =\n",
              "          document.querySelector('#df-e4a88bd1-8b3f-430d-91b8-a50342b984d1 button.colab-df-convert');\n",
              "        buttonEl.style.display =\n",
              "          google.colab.kernel.accessAllowed ? 'block' : 'none';\n",
              "\n",
              "        async function convertToInteractive(key) {\n",
              "          const element = document.querySelector('#df-e4a88bd1-8b3f-430d-91b8-a50342b984d1');\n",
              "          const dataTable =\n",
              "            await google.colab.kernel.invokeFunction('convertToInteractive',\n",
              "                                                     [key], {});\n",
              "          if (!dataTable) return;\n",
              "\n",
              "          const docLinkHtml = 'Like what you see? Visit the ' +\n",
              "            '<a target=\"_blank\" href=https://colab.research.google.com/notebooks/data_table.ipynb>data table notebook</a>'\n",
              "            + ' to learn more about interactive tables.';\n",
              "          element.innerHTML = '';\n",
              "          dataTable['output_type'] = 'display_data';\n",
              "          await google.colab.output.renderOutput(dataTable, element);\n",
              "          const docLink = document.createElement('div');\n",
              "          docLink.innerHTML = docLinkHtml;\n",
              "          element.appendChild(docLink);\n",
              "        }\n",
              "      </script>\n",
              "    </div>\n",
              "  </div>\n",
              "  "
            ]
          },
          "metadata": {},
          "execution_count": 87
        }
      ]
    },
    {
      "cell_type": "code",
      "source": [
        "def getCo(bookName):\n",
        "  # Collect the rate Similarities:\n",
        "  book_rate = book_matrix[bookName]\n",
        "  similar_to_air_book =book_matrix.corrwith(book_rate)\n",
        "  return similar_to_air_book"
      ],
      "metadata": {
        "id": "zBepolhxsZYj"
      },
      "execution_count": null,
      "outputs": []
    },
    {
      "cell_type": "code",
      "source": [
        "def recommend(bookName,feedBack):\n",
        "  if feedBack ==\"Positive\":\n",
        "    return getCo(bookName).idxmax()\n",
        "  else : \n",
        "    return getCo(bookName).idxmin()"
      ],
      "metadata": {
        "id": "pPdF1nAnuYBS"
      },
      "execution_count": null,
      "outputs": []
    },
    {
      "cell_type": "code",
      "source": [
        "b = list(df.title)[0]\n",
        "recommend(b,\"Positive\")"
      ],
      "metadata": {
        "colab": {
          "base_uri": "https://localhost:8080/",
          "height": 104
        },
        "id": "cwXuyFRHvSbm",
        "outputId": "1aede76c-2aac-4c2a-bfec-171ea7319e7e"
      },
      "execution_count": null,
      "outputs": [
        {
          "output_type": "stream",
          "name": "stderr",
          "text": [
            "/usr/local/lib/python3.7/dist-packages/numpy/lib/function_base.py:2683: RuntimeWarning: Degrees of freedom <= 0 for slice\n",
            "  c = cov(x, y, rowvar, dtype=dtype)\n",
            "/usr/local/lib/python3.7/dist-packages/numpy/lib/function_base.py:2542: RuntimeWarning: divide by zero encountered in true_divide\n",
            "  c *= np.true_divide(1, fact)\n"
          ]
        },
        {
          "output_type": "execute_result",
          "data": {
            "text/plain": [
              "'Julie and Julia: 365 Days, 524 Recipes, 1 Tiny Apartment Kitchen: How One Girl Risked Her Marriage, Her Job, and Her ... Living'"
            ],
            "application/vnd.google.colaboratory.intrinsic+json": {
              "type": "string"
            }
          },
          "metadata": {},
          "execution_count": 90
        }
      ]
    },
    {
      "cell_type": "code",
      "source": [
        "b = list(df.title)[0]\n",
        "recommend(b,\"Neutral\")"
      ],
      "metadata": {
        "colab": {
          "base_uri": "https://localhost:8080/",
          "height": 104
        },
        "id": "WJfCQ7BqnKGP",
        "outputId": "1cfec312-038d-4d0b-af47-eb7bf1579d74"
      },
      "execution_count": null,
      "outputs": [
        {
          "output_type": "stream",
          "name": "stderr",
          "text": [
            "/usr/local/lib/python3.7/dist-packages/numpy/lib/function_base.py:2683: RuntimeWarning: Degrees of freedom <= 0 for slice\n",
            "  c = cov(x, y, rowvar, dtype=dtype)\n",
            "/usr/local/lib/python3.7/dist-packages/numpy/lib/function_base.py:2542: RuntimeWarning: divide by zero encountered in true_divide\n",
            "  c *= np.true_divide(1, fact)\n"
          ]
        },
        {
          "output_type": "execute_result",
          "data": {
            "text/plain": [
              "'The Hobbitt, or there and back again; illustrated by the author.'"
            ],
            "application/vnd.google.colaboratory.intrinsic+json": {
              "type": "string"
            }
          },
          "metadata": {},
          "execution_count": 91
        }
      ]
    },
    {
      "cell_type": "markdown",
      "source": [
        "# Saving file to be used with endpoint"
      ],
      "metadata": {
        "id": "vI0TRS9hKY8Q"
      }
    },
    {
      "cell_type": "code",
      "source": [
        "df.to_csv('book.csv',index=False)\n"
      ],
      "metadata": {
        "id": "_sJzMx51sHym"
      },
      "execution_count": null,
      "outputs": []
    },
    {
      "cell_type": "markdown",
      "source": [
        "# Referances \n",
        "1. https://github.com/ashima96/Book-Recommendation-System"
      ],
      "metadata": {
        "id": "w7nWuwUS8msf"
      }
    }
  ]
}